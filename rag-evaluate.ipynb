{
 "cells": [
  {
   "cell_type": "code",
   "execution_count": 1,
   "metadata": {},
   "outputs": [],
   "source": [
    "import os\n",
    "from dotenv import load_dotenv\n",
    "\n",
    "load_dotenv()\n",
    "MODEL = \"llama2\""
   ]
  },
  {
   "cell_type": "markdown",
   "metadata": {},
   "source": [
    "### Scrape the website and split the content ###"
   ]
  },
  {
   "cell_type": "code",
   "execution_count": 2,
   "metadata": {},
   "outputs": [
    {
     "name": "stderr",
     "output_type": "stream",
     "text": [
      "USER_AGENT environment variable not set, consider setting it to identify your requests.\n"
     ]
    },
    {
     "data": {
      "text/plain": [
       "[Document(metadata={'source': 'https://www.nhs.uk/medicines/aciclovir/about-aciclovir/', 'title': 'About aciclovir - NHS', 'description': \"NHS medicines information on aciclovir – what it's used for and key facts.\", 'language': 'en'}, page_content='About aciclovir - NHS\\n\\n\\n\\n\\n\\n\\n\\n\\n\\n\\n\\n\\n\\n\\n\\n\\n\\n\\n\\n\\n\\n\\n\\n\\n\\n\\n\\n\\n\\n\\n\\n\\n\\n\\n\\n\\n\\n\\n\\n\\nSkip to main content\\n\\n\\n\\n\\n\\n\\n\\n\\n\\n\\n\\n\\n\\n\\nSearch the NHS website\\n\\n\\n\\n\\n\\n\\nSearch\\n\\n\\n\\n\\n\\n\\n\\n\\n\\n\\n\\n\\n                Health A to Z\\n                \\n\\n\\n\\n\\n\\n\\n                NHS services\\n                \\n\\n\\n\\n\\n\\n\\n                Live Well\\n                \\n\\n\\n\\n\\n\\n\\n                Mental health\\n                \\n\\n\\n\\n\\n\\n\\n                Care and support\\n                \\n\\n\\n\\n\\n\\n\\n                Pregnancy\\n                \\n\\n\\n\\n\\n\\n\\n                Home\\n                \\n\\n\\n\\n\\n\\n\\nBrowse\\n                More\\n                \\n\\n\\n\\n\\n\\n\\n\\n\\n\\n\\n\\n\\n\\nHome\\n\\n\\nHealth A to Z\\n\\n\\nMedicines A to Z\\n\\n\\nAciclovir (Zovirax)\\n\\n\\n\\n\\nBack to \\n              Home\\n            \\n\\n\\n\\n\\n\\n\\n\\n\\n\\n        About aciclovir  - Brand names: Zovirax, Cymex Ultra, Virasorb'),\n",
       " Document(metadata={'source': 'https://www.nhs.uk/medicines/aciclovir/about-aciclovir/', 'title': 'About aciclovir - NHS', 'description': \"NHS medicines information on aciclovir – what it's used for and key facts.\", 'language': 'en'}, page_content=\"Aciclovir (or acyclovir) is an antiviral medicine.It treats a range of infections caused by herpes viruses, including:cold soresgenital herpeseye infectionsYour doctor may prescribe aciclovir to prevent you getting these infections if you've had them before or if you have a weak immune system.It's also used to treat chickenpox and shingles.Aciclovir is available on prescription. It comes as tablets, a liquid that you swallow, an eye ointment, a cold sore cream and a cream for genital herpes.It's sometimes given by injection, but this is usually only done in hospital.You can buy aciclovir cold sore cream at most pharmacies and shops without a prescription.\"),\n",
       " Document(metadata={'source': 'https://www.nhs.uk/medicines/aciclovir/about-aciclovir/', 'title': 'About aciclovir - NHS', 'description': \"NHS medicines information on aciclovir – what it's used for and key facts.\", 'language': 'en'}, page_content='Key facts\\nStart taking or using aciclovir as soon as you get the first signs of infection.For most infections, you should start to feel better after taking or using aciclovir for a few days.Common side effects of the tablets and liquid include headaches, feeling dizzy, and feeling or being sick.If aciclovir tablets or liquid make you feel dizzy, or if the eye ointment affects your vision, do not drive or cycle until you feel better.Wash your hands before and after using the genital herpes cream, cold sore cream or eye ointment.\\n\\n\\n\\n\\n\\n\\n\\n\\n            More in\\n            \\n              Aciclovir (Zovirax)\\n\\n\\n\\n\\n                        About aciclovir\\n                      \\n\\n\\n                          Who can and cannot take or use it\\n                        \\n\\n\\n\\n                          How and when to take or use it\\n                        \\n\\n\\n\\n                          Side effects'),\n",
       " Document(metadata={'source': 'https://www.nhs.uk/medicines/aciclovir/about-aciclovir/', 'title': 'About aciclovir - NHS', 'description': \"NHS medicines information on aciclovir – what it's used for and key facts.\", 'language': 'en'}, page_content='Pregnancy, breastfeeding and fertility\\n                        \\n\\n\\n\\n                          Taking or using aciclovir with other medicines and herbal supplements\\n                        \\n\\n\\n\\n                          Common questions\\n                        \\n\\n\\n\\n\\n\\n\\n\\n\\n        Page last reviewed: 1 July 2022\\n        \\n        Next review due: 1 July 2025\\n      \\n\\n\\n\\n\\n\\n\\nSupport links\\n\\n\\n\\nHome\\n\\n\\nHealth A to Z\\n\\n\\nLive Well\\n\\n\\nMental health\\n\\n\\nCare and support\\n\\n\\nPregnancy\\n\\n\\nNHS services\\n\\n\\nCOVID-19\\n\\n\\n\\n\\nNHS App\\n\\n\\nFind my NHS number\\n\\n\\nView your GP health record\\n\\n\\nView your test results\\n\\n\\nAbout the NHS\\n\\n\\nHealthcare abroad\\n\\n\\n\\n\\nOther NHS websites\\n\\n\\nProfile editor login\\n\\n\\n\\n\\nAbout us\\n\\n\\nGive us feedback\\n\\n\\nAccessibility statement\\n\\n\\nOur policies\\n\\n\\nCookies\\n\\n\\n\\n\\n© Crown copyright')]"
      ]
     },
     "execution_count": 2,
     "metadata": {},
     "output_type": "execute_result"
    }
   ],
   "source": [
    "from langchain_community.document_loaders import WebBaseLoader\n",
    "from langchain.text_splitter import RecursiveCharacterTextSplitter\n",
    "\n",
    "text_splitter = RecursiveCharacterTextSplitter(chunk_size=1000, chunk_overlap=20)\n",
    "\n",
    "loader = WebBaseLoader(\"https://www.nhs.uk/medicines/aciclovir/about-aciclovir/\")\n",
    "documents = loader.load_and_split(text_splitter)\n",
    "documents"
   ]
  },
  {
   "cell_type": "code",
   "execution_count": 3,
   "metadata": {},
   "outputs": [
    {
     "data": {
      "text/plain": [
       "4"
      ]
     },
     "execution_count": 3,
     "metadata": {},
     "output_type": "execute_result"
    }
   ],
   "source": [
    "len(documents)"
   ]
  },
  {
   "cell_type": "markdown",
   "metadata": {},
   "source": [
    "### Load the content in a vector store ###"
   ]
  },
  {
   "cell_type": "code",
   "execution_count": 4,
   "metadata": {},
   "outputs": [
    {
     "name": "stderr",
     "output_type": "stream",
     "text": [
      "c:\\Users\\dunca\\OneDrive\\Desktop\\Disertation\\LLM\\venv\\lib\\site-packages\\tqdm\\auto.py:21: TqdmWarning: IProgress not found. Please update jupyter and ipywidgets. See https://ipywidgets.readthedocs.io/en/stable/user_install.html\n",
      "  from .autonotebook import tqdm as notebook_tqdm\n"
     ]
    }
   ],
   "source": [
    "from huggingface_hub import login\n",
    "\n",
    "login(token=os.getenv(\"TOKEN\"))"
   ]
  },
  {
   "cell_type": "code",
   "execution_count": 6,
   "metadata": {},
   "outputs": [
    {
     "name": "stdout",
     "output_type": "stream",
     "text": [
      "<langchain_community.vectorstores.docarray.in_memory.DocArrayInMemorySearch object at 0x000001B38020AB90>\n"
     ]
    }
   ],
   "source": [
    "from langchain.embeddings import HuggingFaceEmbeddings\n",
    "from langchain_community.vectorstores import DocArrayInMemorySearch\n",
    "\n",
    "embedding_model = HuggingFaceEmbeddings(model_name=\"sentence-transformers/all-MiniLM-L6-v2\")  # Adjust with the exact model you're using\n",
    "vectorstore = DocArrayInMemorySearch.from_documents(documents, embedding=embedding_model)\n",
    "print(vectorstore)"
   ]
  },
  {
   "cell_type": "markdown",
   "metadata": {},
   "source": [
    "### Create a knowledge base ###"
   ]
  },
  {
   "cell_type": "code",
   "execution_count": 7,
   "metadata": {},
   "outputs": [
    {
     "data": {
      "text/html": [
       "<div>\n",
       "<style scoped>\n",
       "    .dataframe tbody tr th:only-of-type {\n",
       "        vertical-align: middle;\n",
       "    }\n",
       "\n",
       "    .dataframe tbody tr th {\n",
       "        vertical-align: top;\n",
       "    }\n",
       "\n",
       "    .dataframe thead th {\n",
       "        text-align: right;\n",
       "    }\n",
       "</style>\n",
       "<table border=\"1\" class=\"dataframe\">\n",
       "  <thead>\n",
       "    <tr style=\"text-align: right;\">\n",
       "      <th></th>\n",
       "      <th>text</th>\n",
       "    </tr>\n",
       "  </thead>\n",
       "  <tbody>\n",
       "    <tr>\n",
       "      <th>0</th>\n",
       "      <td>About aciclovir - NHS\\n\\n\\n\\n\\n\\n\\n\\n\\n\\n\\n\\n\\...</td>\n",
       "    </tr>\n",
       "    <tr>\n",
       "      <th>1</th>\n",
       "      <td>Aciclovir (or acyclovir) is an antiviral medic...</td>\n",
       "    </tr>\n",
       "    <tr>\n",
       "      <th>2</th>\n",
       "      <td>Key facts\\nStart taking or using aciclovir as ...</td>\n",
       "    </tr>\n",
       "    <tr>\n",
       "      <th>3</th>\n",
       "      <td>Pregnancy, breastfeeding and fertility\\n      ...</td>\n",
       "    </tr>\n",
       "  </tbody>\n",
       "</table>\n",
       "</div>"
      ],
      "text/plain": [
       "                                                text\n",
       "0  About aciclovir - NHS\\n\\n\\n\\n\\n\\n\\n\\n\\n\\n\\n\\n\\...\n",
       "1  Aciclovir (or acyclovir) is an antiviral medic...\n",
       "2  Key facts\\nStart taking or using aciclovir as ...\n",
       "3  Pregnancy, breastfeeding and fertility\\n      ..."
      ]
     },
     "execution_count": 7,
     "metadata": {},
     "output_type": "execute_result"
    }
   ],
   "source": [
    "import pandas as pd\n",
    "\n",
    "df = pd.DataFrame([d.page_content for d in documents], columns=[\"text\"])\n",
    "\n",
    "df.head(10)\n"
   ]
  },
  {
   "cell_type": "code",
   "execution_count": 8,
   "metadata": {},
   "outputs": [],
   "source": [
    "import giskard\n",
    "\n",
    "# Setarea endpointului local pentru Ollama\n",
    "api_base = \"http://localhost:11434\"\n",
    "\n",
    "# Setează modelul principal LLM (ex: Qwen2.5 sau llama2, în funcție de ce ai instalat în Ollama)\n",
    "giskard.llm.set_llm_model(\"ollama/llama2\", disable_structured_output=True, api_base=api_base)\n",
    "\n",
    "# Setează modelul de embedding (ex: nomic-embed-text, disponibil prin Ollama)\n",
    "giskard.llm.set_embedding_model(\"ollama/nomic-embed-text\", api_base=api_base)\n",
    "\n"
   ]
  },
  {
   "cell_type": "code",
   "execution_count": 9,
   "metadata": {},
   "outputs": [],
   "source": [
    "import nest_asyncio\n",
    "nest_asyncio.apply()"
   ]
  },
  {
   "cell_type": "code",
   "execution_count": 10,
   "metadata": {},
   "outputs": [],
   "source": [
    "from giskard.rag import KnowledgeBase\n",
    "\n",
    "knowledge_base = KnowledgeBase(df)\n"
   ]
  },
  {
   "cell_type": "markdown",
   "metadata": {},
   "source": [
    "### Generate the Test set ###"
   ]
  },
  {
   "cell_type": "code",
   "execution_count": 11,
   "metadata": {},
   "outputs": [
    {
     "name": "stdout",
     "output_type": "stream",
     "text": [
      "2025-05-05 16:07:09,522 pid:19932 MainThread giskard.rag  INFO     Finding topics in the knowledge base.\n"
     ]
    },
    {
     "name": "stderr",
     "output_type": "stream",
     "text": [
      "c:\\Users\\dunca\\OneDrive\\Desktop\\Disertation\\LLM\\venv\\lib\\site-packages\\sklearn\\utils\\deprecation.py:151: FutureWarning: 'force_all_finite' was renamed to 'ensure_all_finite' in 1.6 and will be removed in 1.8.\n",
      "  warnings.warn(\n",
      "c:\\Users\\dunca\\OneDrive\\Desktop\\Disertation\\LLM\\venv\\lib\\site-packages\\umap\\umap_.py:2462: UserWarning: n_neighbors is larger than the dataset size; truncating to X.shape[0] - 1\n",
      "  warn(\n"
     ]
    },
    {
     "name": "stdout",
     "output_type": "stream",
     "text": [
      "2025-05-05 16:07:21,128 pid:19932 MainThread giskard.rag  INFO     Found 1 topics in the knowledge base.\n"
     ]
    },
    {
     "name": "stderr",
     "output_type": "stream",
     "text": [
      "Generating questions:  50%|█████     | 1/2 [00:36<00:36, 36.60s/it]"
     ]
    },
    {
     "name": "stdout",
     "output_type": "stream",
     "text": [
      "2025-05-05 16:08:36,599 pid:19932 MainThread giskard.rag  ERROR    Encountered error in question generation: 'question'. Skipping.\n",
      "2025-05-05 16:08:36,600 pid:19932 MainThread giskard.rag  ERROR    'question'\n",
      "Traceback (most recent call last):\n",
      "  File \"c:\\Users\\dunca\\OneDrive\\Desktop\\Disertation\\LLM\\venv\\lib\\site-packages\\giskard\\rag\\question_generators\\base.py\", line 59, in generate_questions\n",
      "    yield self.generate_single_question(knowledge_base, *args, **kwargs, seed_document=doc)\n",
      "  File \"c:\\Users\\dunca\\OneDrive\\Desktop\\Disertation\\LLM\\venv\\lib\\site-packages\\giskard\\rag\\question_generators\\simple_questions.py\", line 108, in generate_single_question\n",
      "    question=generated_qa[\"question\"],\n",
      "KeyError: 'question'\n"
     ]
    },
    {
     "name": "stderr",
     "output_type": "stream",
     "text": [
      "Generating questions:  50%|█████     | 1/2 [01:15<01:15, 75.47s/it]\n"
     ]
    }
   ],
   "source": [
    "from giskard.rag import generate_testset\n",
    "\n",
    "testset = generate_testset(\n",
    "    knowledge_base,\n",
    "    num_questions=2,\n",
    "    agent_description=\"A chatbot answerig questions anout medicine drugs\",\n",
    ")"
   ]
  },
  {
   "cell_type": "code",
   "execution_count": 12,
   "metadata": {},
   "outputs": [
    {
     "name": "stdout",
     "output_type": "stream",
     "text": [
      "Question 1: What medicines are safe to take during pregnancy?\n",
      "Reference answer: It is important to consult with a healthcare professional before taking any medication during pregnancy. The NHS website provides information on which medications are safe to use during pregnancy, including aciclovir. However, it is always best to seek personalized advice from a medical professional.\n",
      "Reference context:\n",
      "Document 3: Pregnancy, breastfeeding and fertility\n",
      "                        \n",
      "\n",
      "\n",
      "\n",
      "                          Taking or using aciclovir with other medicines and herbal supplements\n",
      "                        \n",
      "\n",
      "\n",
      "\n",
      "                          Common questions\n",
      "                        \n",
      "\n",
      "\n",
      "\n",
      "\n",
      "\n",
      "\n",
      "\n",
      "\n",
      "        Page last reviewed: 1 July 2022\n",
      "        \n",
      "        Next review due: 1 July 2025\n",
      "      \n",
      "\n",
      "\n",
      "\n",
      "\n",
      "\n",
      "\n",
      "Support links\n",
      "\n",
      "\n",
      "\n",
      "Home\n",
      "\n",
      "\n",
      "Health A to Z\n",
      "\n",
      "\n",
      "Live Well\n",
      "\n",
      "\n",
      "Mental health\n",
      "\n",
      "\n",
      "Care and support\n",
      "\n",
      "\n",
      "Pregnancy\n",
      "\n",
      "\n",
      "NHS services\n",
      "\n",
      "\n",
      "COVID-19\n",
      "\n",
      "\n",
      "\n",
      "\n",
      "NHS App\n",
      "\n",
      "\n",
      "Find my NHS number\n",
      "\n",
      "\n",
      "View your GP health record\n",
      "\n",
      "\n",
      "View your test results\n",
      "\n",
      "\n",
      "About the NHS\n",
      "\n",
      "\n",
      "Healthcare abroad\n",
      "\n",
      "\n",
      "\n",
      "\n",
      "Other NHS websites\n",
      "\n",
      "\n",
      "Profile editor login\n",
      "\n",
      "\n",
      "\n",
      "\n",
      "About us\n",
      "\n",
      "\n",
      "Give us feedback\n",
      "\n",
      "\n",
      "Accessibility statement\n",
      "\n",
      "\n",
      "Our policies\n",
      "\n",
      "\n",
      "Cookies\n",
      "\n",
      "\n",
      "\n",
      "\n",
      "© Crown copyright\n",
      "------------------------------\n",
      "\n"
     ]
    }
   ],
   "source": [
    "test_set_df = testset.to_pandas()\n",
    "\n",
    "for index, row in enumerate(test_set_df.head(3).iterrows()):\n",
    "    print(f\"Question {index + 1}: {row[1]['question']}\")\n",
    "    print(f\"Reference answer: {row[1]['reference_answer']}\")\n",
    "    print(\"Reference context:\")\n",
    "    print(row[1]['reference_context'])\n",
    "    print(\"------------------------------\", end=\"\\n\\n\")"
   ]
  },
  {
   "cell_type": "code",
   "execution_count": 13,
   "metadata": {},
   "outputs": [],
   "source": [
    "testset.save(\"test-set.jsonl\")"
   ]
  },
  {
   "cell_type": "code",
   "execution_count": 14,
   "metadata": {},
   "outputs": [
    {
     "name": "stdout",
     "output_type": "stream",
     "text": [
      "\n",
      "Answer the question based on the context below. If you can't\n",
      "answer the question, reply \"I don't know\".\n",
      "\n",
      "Context: Here is some context\n",
      "\n",
      "Question: Here is a question\n",
      "\n"
     ]
    }
   ],
   "source": [
    "from langchain.prompts import PromptTemplate\n",
    "\n",
    "template = \"\"\"\n",
    "Answer the question based on the context below. If you can't\n",
    "answer the question, reply \"I don't know\".\n",
    "\n",
    "Context: {context}\n",
    "\n",
    "Question: {question}\n",
    "\"\"\"\n",
    "\n",
    "prompt = PromptTemplate.from_template(template)\n",
    "print(prompt.format(context=\"Here is some context\", question=\"Here is a question\"))\n"
   ]
  }
 ],
 "metadata": {
  "kernelspec": {
   "display_name": "venv",
   "language": "python",
   "name": "python3"
  },
  "language_info": {
   "codemirror_mode": {
    "name": "ipython",
    "version": 3
   },
   "file_extension": ".py",
   "mimetype": "text/x-python",
   "name": "python",
   "nbconvert_exporter": "python",
   "pygments_lexer": "ipython3",
   "version": "3.10.10"
  }
 },
 "nbformat": 4,
 "nbformat_minor": 2
}
