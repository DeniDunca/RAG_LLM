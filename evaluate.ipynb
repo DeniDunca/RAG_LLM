{
 "cells": [
  {
   "cell_type": "code",
   "execution_count": 1,
   "id": "499bf0c8",
   "metadata": {},
   "outputs": [
    {
     "name": "stderr",
     "output_type": "stream",
     "text": [
      "c:\\Users\\dunca\\OneDrive\\Desktop\\Disertation\\LLM\\venv\\lib\\site-packages\\tqdm\\auto.py:21: TqdmWarning: IProgress not found. Please update jupyter and ipywidgets. See https://ipywidgets.readthedocs.io/en/stable/user_install.html\n",
      "  from .autonotebook import tqdm as notebook_tqdm\n"
     ]
    }
   ],
   "source": [
    "import os\n",
    "import pandas as pd\n",
    "import requests\n",
    "import tempfile\n",
    "from dotenv import load_dotenv\n",
    "from langchain_community.document_loaders import UnstructuredPDFLoader\n",
    "from langchain.text_splitter import RecursiveCharacterTextSplitter\n",
    "from langchain.embeddings import HuggingFaceEmbeddings\n",
    "from langchain_community.vectorstores import DocArrayInMemorySearch\n",
    "import giskard\n",
    "from giskard.rag import KnowledgeBase, generate_testset\n",
    "import nest_asyncio\n",
    "nest_asyncio.apply()"
   ]
  },
  {
   "cell_type": "code",
   "execution_count": 2,
   "id": "d5c36343",
   "metadata": {},
   "outputs": [
    {
     "data": {
      "text/plain": [
       "True"
      ]
     },
     "execution_count": 2,
     "metadata": {},
     "output_type": "execute_result"
    }
   ],
   "source": [
    "# Load environment variables\n",
    "load_dotenv()"
   ]
  },
  {
   "cell_type": "code",
   "execution_count": 3,
   "id": "c2e4ff57",
   "metadata": {},
   "outputs": [],
   "source": [
    "# Set up Ollama + embedding\n",
    "api_base = \"http://localhost:11434\"\n",
    "giskard.llm.set_llm_model(\"ollama/mistral\", api_base=\"http://localhost:11434\", disable_structured_output=True)\n",
    "giskard.llm.set_embedding_model(\"ollama/nomic-embed-text\", api_base=api_base)"
   ]
  },
  {
   "cell_type": "code",
   "execution_count": 4,
   "id": "c912de25",
   "metadata": {},
   "outputs": [],
   "source": [
    "# Load the Excel file with 'id' and 'link' columns\n",
    "df_links = pd.read_excel(\"dataset.xlsx\")\n",
    "df_links.columns = df_links.columns.str.strip().str.lower()\n"
   ]
  },
  {
   "cell_type": "code",
   "execution_count": 5,
   "id": "f160411e",
   "metadata": {},
   "outputs": [
    {
     "name": "stderr",
     "output_type": "stream",
     "text": [
      "C:\\Users\\dunca\\AppData\\Local\\Temp\\ipykernel_17692\\1947831796.py:2: LangChainDeprecationWarning: The class `HuggingFaceEmbeddings` was deprecated in LangChain 0.2.2 and will be removed in 1.0. An updated version of the class exists in the :class:`~langchain-huggingface package and should be used instead. To use it run `pip install -U :class:`~langchain-huggingface` and import as `from :class:`~langchain_huggingface import HuggingFaceEmbeddings``.\n",
      "  embedding_model = HuggingFaceEmbeddings(model_name=\"sentence-transformers/paraphrase-MiniLM-L3-v2\")\n"
     ]
    }
   ],
   "source": [
    "# Use HuggingFace embedding model\n",
    "embedding_model = HuggingFaceEmbeddings(model_name=\"sentence-transformers/paraphrase-MiniLM-L3-v2\")"
   ]
  },
  {
   "cell_type": "code",
   "execution_count": 10,
   "id": "edbcd0ce",
   "metadata": {},
   "outputs": [
    {
     "name": "stdout",
     "output_type": "stream",
     "text": [
      "\n",
      "📄 Processing 1...\n"
     ]
    },
    {
     "name": "stderr",
     "output_type": "stream",
     "text": [
      "c:\\Users\\dunca\\OneDrive\\Desktop\\Disertation\\LLM\\venv\\lib\\site-packages\\pydantic\\_migration.py:283: UserWarning: `pydantic.error_wrappers:ValidationError` has been moved to `pydantic:ValidationError`.\n",
      "  warnings.warn(f'`{import_path}` has been moved to `{new_location}`.')\n"
     ]
    },
    {
     "name": "stdout",
     "output_type": "stream",
     "text": [
      "2025-05-16 14:06:16,478 pid:22696 MainThread giskard.rag  INFO     Finding topics in the knowledge base.\n"
     ]
    },
    {
     "name": "stderr",
     "output_type": "stream",
     "text": [
      "c:\\Users\\dunca\\OneDrive\\Desktop\\Disertation\\LLM\\venv\\lib\\site-packages\\sklearn\\utils\\deprecation.py:151: FutureWarning: 'force_all_finite' was renamed to 'ensure_all_finite' in 1.6 and will be removed in 1.8.\n",
      "  warnings.warn(\n",
      "c:\\Users\\dunca\\OneDrive\\Desktop\\Disertation\\LLM\\venv\\lib\\site-packages\\umap\\umap_.py:2462: UserWarning: n_neighbors is larger than the dataset size; truncating to X.shape[0] - 1\n",
      "  warn(\n"
     ]
    },
    {
     "name": "stdout",
     "output_type": "stream",
     "text": [
      "2025-05-16 14:07:45,028 pid:22696 MainThread giskard.rag  INFO     Found 4 topics in the knowledge base.\n"
     ]
    },
    {
     "name": "stderr",
     "output_type": "stream",
     "text": [
      "Generating questions:  67%|██████▋   | 2/3 [01:20<00:43, 43.70s/it]"
     ]
    },
    {
     "name": "stdout",
     "output_type": "stream",
     "text": [
      "2025-05-16 14:11:43,503 pid:22696 MainThread giskard.rag  ERROR    Encountered error in question generation: 'question'. Skipping.\n",
      "2025-05-16 14:11:43,504 pid:22696 MainThread giskard.rag  ERROR    'question'\n",
      "Traceback (most recent call last):\n",
      "  File \"c:\\Users\\dunca\\OneDrive\\Desktop\\Disertation\\LLM\\venv\\lib\\site-packages\\giskard\\rag\\question_generators\\base.py\", line 59, in generate_questions\n",
      "    yield self.generate_single_question(knowledge_base, *args, **kwargs, seed_document=doc)\n",
      "  File \"c:\\Users\\dunca\\OneDrive\\Desktop\\Disertation\\LLM\\venv\\lib\\site-packages\\giskard\\rag\\question_generators\\simple_questions.py\", line 108, in generate_single_question\n",
      "    question=generated_qa[\"question\"],\n",
      "KeyError: 'question'\n"
     ]
    },
    {
     "name": "stderr",
     "output_type": "stream",
     "text": [
      "Generating questions:  67%|██████▋   | 2/3 [03:58<01:59, 119.24s/it]"
     ]
    },
    {
     "name": "stdout",
     "output_type": "stream",
     "text": [
      "[✓] Saved testset for 1 to testsets/testset_1.jsonl\n",
      "\n",
      "📄 Processing 2...\n"
     ]
    },
    {
     "name": "stderr",
     "output_type": "stream",
     "text": [
      "\n"
     ]
    },
    {
     "name": "stdout",
     "output_type": "stream",
     "text": [
      "2025-05-16 14:11:51,770 pid:22696 MainThread giskard.rag  INFO     Finding topics in the knowledge base.\n"
     ]
    },
    {
     "name": "stderr",
     "output_type": "stream",
     "text": [
      "c:\\Users\\dunca\\OneDrive\\Desktop\\Disertation\\LLM\\venv\\lib\\site-packages\\sklearn\\utils\\deprecation.py:151: FutureWarning: 'force_all_finite' was renamed to 'ensure_all_finite' in 1.6 and will be removed in 1.8.\n",
      "  warnings.warn(\n"
     ]
    },
    {
     "name": "stdout",
     "output_type": "stream",
     "text": [
      "2025-05-16 14:13:33,434 pid:22696 MainThread giskard.rag  INFO     Found 5 topics in the knowledge base.\n"
     ]
    },
    {
     "name": "stderr",
     "output_type": "stream",
     "text": [
      "Generating questions: 100%|██████████| 3/3 [02:16<00:00, 45.39s/it]\n"
     ]
    },
    {
     "name": "stdout",
     "output_type": "stream",
     "text": [
      "[✓] Saved testset for 2 to testsets/testset_2.jsonl\n",
      "\n",
      "📄 Processing 3...\n",
      "2025-05-16 14:15:56,533 pid:22696 MainThread giskard.rag  INFO     Finding topics in the knowledge base.\n"
     ]
    },
    {
     "name": "stderr",
     "output_type": "stream",
     "text": [
      "c:\\Users\\dunca\\OneDrive\\Desktop\\Disertation\\LLM\\venv\\lib\\site-packages\\sklearn\\utils\\deprecation.py:151: FutureWarning: 'force_all_finite' was renamed to 'ensure_all_finite' in 1.6 and will be removed in 1.8.\n",
      "  warnings.warn(\n"
     ]
    },
    {
     "name": "stdout",
     "output_type": "stream",
     "text": [
      "2025-05-16 14:17:00,197 pid:22696 MainThread giskard.rag  INFO     Found 3 topics in the knowledge base.\n"
     ]
    },
    {
     "name": "stderr",
     "output_type": "stream",
     "text": [
      "Generating questions: 100%|██████████| 3/3 [01:38<00:00, 32.70s/it]\n"
     ]
    },
    {
     "name": "stdout",
     "output_type": "stream",
     "text": [
      "[✓] Saved testset for 3 to testsets/testset_3.jsonl\n",
      "\n",
      "📄 Processing 4...\n",
      "2025-05-16 14:18:47,133 pid:22696 MainThread giskard.rag  INFO     Finding topics in the knowledge base.\n"
     ]
    },
    {
     "name": "stderr",
     "output_type": "stream",
     "text": [
      "c:\\Users\\dunca\\OneDrive\\Desktop\\Disertation\\LLM\\venv\\lib\\site-packages\\sklearn\\utils\\deprecation.py:151: FutureWarning: 'force_all_finite' was renamed to 'ensure_all_finite' in 1.6 and will be removed in 1.8.\n",
      "  warnings.warn(\n"
     ]
    },
    {
     "name": "stdout",
     "output_type": "stream",
     "text": [
      "2025-05-16 14:20:17,013 pid:22696 MainThread giskard.rag  INFO     Found 4 topics in the knowledge base.\n"
     ]
    },
    {
     "name": "stderr",
     "output_type": "stream",
     "text": [
      "Generating questions: 100%|██████████| 3/3 [02:01<00:00, 40.52s/it]\n"
     ]
    },
    {
     "name": "stdout",
     "output_type": "stream",
     "text": [
      "[✓] Saved testset for 4 to testsets/testset_4.jsonl\n",
      "\n",
      "📄 Processing 5...\n",
      "2025-05-16 14:22:20,886 pid:22696 MainThread giskard.rag  INFO     Finding topics in the knowledge base.\n"
     ]
    },
    {
     "name": "stderr",
     "output_type": "stream",
     "text": [
      "c:\\Users\\dunca\\OneDrive\\Desktop\\Disertation\\LLM\\venv\\lib\\site-packages\\sklearn\\utils\\deprecation.py:151: FutureWarning: 'force_all_finite' was renamed to 'ensure_all_finite' in 1.6 and will be removed in 1.8.\n",
      "  warnings.warn(\n",
      "c:\\Users\\dunca\\OneDrive\\Desktop\\Disertation\\LLM\\venv\\lib\\site-packages\\umap\\umap_.py:2462: UserWarning: n_neighbors is larger than the dataset size; truncating to X.shape[0] - 1\n",
      "  warn(\n",
      "c:\\Users\\dunca\\OneDrive\\Desktop\\Disertation\\LLM\\venv\\lib\\site-packages\\umap\\umap_.py:134: UserWarning: A large number of your vertices were disconnected from the manifold.\n",
      "Disconnection_distance = inf has removed 0 edges.\n",
      "It has fully disconnected 2 vertices.\n",
      "You might consider using find_disconnected_points() to find and remove these points from your data.\n",
      "Use umap.utils.disconnected_vertices() to identify them.\n",
      "  warn(\n",
      "Traceback (most recent call last):\n",
      "  File \"C:\\Users\\dunca\\AppData\\Local\\Temp\\ipykernel_22696\\902400888.py\", line 34, in <module>\n",
      "    testset = generate_testset(\n",
      "  File \"c:\\Users\\dunca\\OneDrive\\Desktop\\Disertation\\LLM\\venv\\lib\\site-packages\\giskard\\rag\\testset_generation.py\", line 63, in generate_testset\n",
      "    _ = knowledge_base.topics\n",
      "  File \"c:\\Users\\dunca\\OneDrive\\Desktop\\Disertation\\LLM\\venv\\lib\\site-packages\\giskard\\rag\\knowledge_base.py\", line 240, in topics\n",
      "    self._topics_inst = self._find_topics()\n",
      "  File \"c:\\Users\\dunca\\OneDrive\\Desktop\\Disertation\\LLM\\venv\\lib\\site-packages\\giskard\\rag\\knowledge_base.py\", line 251, in _find_topics\n",
      "    clustering = hdbscan.fit(self._reduced_embeddings)\n",
      "  File \"c:\\Users\\dunca\\OneDrive\\Desktop\\Disertation\\LLM\\venv\\lib\\site-packages\\giskard\\rag\\knowledge_base.py\", line 208, in _reduced_embeddings\n",
      "    self._reduced_embeddings_inst = reducer.fit_transform(self._embeddings)\n",
      "  File \"c:\\Users\\dunca\\OneDrive\\Desktop\\Disertation\\LLM\\venv\\lib\\site-packages\\umap\\umap_.py\", line 2928, in fit_transform\n",
      "    self.fit(X, y, force_all_finite, **kwargs)\n",
      "  File \"c:\\Users\\dunca\\OneDrive\\Desktop\\Disertation\\LLM\\venv\\lib\\site-packages\\umap\\umap_.py\", line 2817, in fit\n",
      "    self.embedding_, aux_data = self._fit_embed_data(\n",
      "  File \"c:\\Users\\dunca\\OneDrive\\Desktop\\Disertation\\LLM\\venv\\lib\\site-packages\\umap\\umap_.py\", line 2865, in _fit_embed_data\n",
      "    return simplicial_set_embedding(\n",
      "  File \"c:\\Users\\dunca\\OneDrive\\Desktop\\Disertation\\LLM\\venv\\lib\\site-packages\\umap\\umap_.py\", line 1089, in simplicial_set_embedding\n",
      "    graph.data[graph.data < (graph.data.max() / float(n_epochs_max))] = 0.0\n",
      "  File \"c:\\Users\\dunca\\OneDrive\\Desktop\\Disertation\\LLM\\venv\\lib\\site-packages\\numpy\\core\\_methods.py\", line 41, in _amax\n",
      "    return umr_maximum(a, axis, None, out, keepdims, initial, where)\n",
      "ValueError: zero-size array to reduction operation maximum which has no identity\n"
     ]
    },
    {
     "name": "stdout",
     "output_type": "stream",
     "text": [
      "[✗] Failed for 5: zero-size array to reduction operation maximum which has no identity\n",
      "\n",
      "📄 Processing 6...\n",
      "2025-05-16 14:22:35,080 pid:22696 MainThread giskard.rag  INFO     Finding topics in the knowledge base.\n"
     ]
    },
    {
     "name": "stderr",
     "output_type": "stream",
     "text": [
      "c:\\Users\\dunca\\OneDrive\\Desktop\\Disertation\\LLM\\venv\\lib\\site-packages\\sklearn\\utils\\deprecation.py:151: FutureWarning: 'force_all_finite' was renamed to 'ensure_all_finite' in 1.6 and will be removed in 1.8.\n",
      "  warnings.warn(\n"
     ]
    },
    {
     "name": "stdout",
     "output_type": "stream",
     "text": [
      "2025-05-16 14:25:44,726 pid:22696 MainThread giskard.rag  INFO     Found 9 topics in the knowledge base.\n"
     ]
    },
    {
     "name": "stderr",
     "output_type": "stream",
     "text": [
      "Generating questions: 100%|██████████| 3/3 [02:02<00:00, 40.91s/it]\n"
     ]
    },
    {
     "name": "stdout",
     "output_type": "stream",
     "text": [
      "[✓] Saved testset for 6 to testsets/testset_6.jsonl\n",
      "\n",
      "📄 Processing 7...\n",
      "2025-05-16 14:27:59,510 pid:22696 MainThread giskard.rag  INFO     Finding topics in the knowledge base.\n"
     ]
    },
    {
     "name": "stderr",
     "output_type": "stream",
     "text": [
      "c:\\Users\\dunca\\OneDrive\\Desktop\\Disertation\\LLM\\venv\\lib\\site-packages\\sklearn\\utils\\deprecation.py:151: FutureWarning: 'force_all_finite' was renamed to 'ensure_all_finite' in 1.6 and will be removed in 1.8.\n",
      "  warnings.warn(\n"
     ]
    },
    {
     "name": "stdout",
     "output_type": "stream",
     "text": [
      "2025-05-16 14:31:45,091 pid:22696 MainThread giskard.rag  INFO     Found 10 topics in the knowledge base.\n"
     ]
    },
    {
     "name": "stderr",
     "output_type": "stream",
     "text": [
      "Generating questions: 100%|██████████| 3/3 [01:57<00:00, 39.23s/it]\n"
     ]
    },
    {
     "name": "stdout",
     "output_type": "stream",
     "text": [
      "[✓] Saved testset for 7 to testsets/testset_7.jsonl\n",
      "\n",
      "📄 Processing 8...\n",
      "2025-05-16 14:33:44,732 pid:22696 MainThread giskard.rag  INFO     Finding topics in the knowledge base.\n"
     ]
    },
    {
     "name": "stderr",
     "output_type": "stream",
     "text": [
      "c:\\Users\\dunca\\OneDrive\\Desktop\\Disertation\\LLM\\venv\\lib\\site-packages\\sklearn\\utils\\deprecation.py:151: FutureWarning: 'force_all_finite' was renamed to 'ensure_all_finite' in 1.6 and will be removed in 1.8.\n",
      "  warnings.warn(\n",
      "c:\\Users\\dunca\\OneDrive\\Desktop\\Disertation\\LLM\\venv\\lib\\site-packages\\umap\\umap_.py:2462: UserWarning: n_neighbors is larger than the dataset size; truncating to X.shape[0] - 1\n",
      "  warn(\n",
      "c:\\Users\\dunca\\OneDrive\\Desktop\\Disertation\\LLM\\venv\\lib\\site-packages\\umap\\umap_.py:134: UserWarning: A large number of your vertices were disconnected from the manifold.\n",
      "Disconnection_distance = inf has removed 0 edges.\n",
      "It has fully disconnected 2 vertices.\n",
      "You might consider using find_disconnected_points() to find and remove these points from your data.\n",
      "Use umap.utils.disconnected_vertices() to identify them.\n",
      "  warn(\n",
      "Traceback (most recent call last):\n",
      "  File \"C:\\Users\\dunca\\AppData\\Local\\Temp\\ipykernel_22696\\902400888.py\", line 34, in <module>\n",
      "    testset = generate_testset(\n",
      "  File \"c:\\Users\\dunca\\OneDrive\\Desktop\\Disertation\\LLM\\venv\\lib\\site-packages\\giskard\\rag\\testset_generation.py\", line 63, in generate_testset\n",
      "    _ = knowledge_base.topics\n",
      "  File \"c:\\Users\\dunca\\OneDrive\\Desktop\\Disertation\\LLM\\venv\\lib\\site-packages\\giskard\\rag\\knowledge_base.py\", line 240, in topics\n",
      "    self._topics_inst = self._find_topics()\n",
      "  File \"c:\\Users\\dunca\\OneDrive\\Desktop\\Disertation\\LLM\\venv\\lib\\site-packages\\giskard\\rag\\knowledge_base.py\", line 251, in _find_topics\n",
      "    clustering = hdbscan.fit(self._reduced_embeddings)\n",
      "  File \"c:\\Users\\dunca\\OneDrive\\Desktop\\Disertation\\LLM\\venv\\lib\\site-packages\\giskard\\rag\\knowledge_base.py\", line 208, in _reduced_embeddings\n",
      "    self._reduced_embeddings_inst = reducer.fit_transform(self._embeddings)\n",
      "  File \"c:\\Users\\dunca\\OneDrive\\Desktop\\Disertation\\LLM\\venv\\lib\\site-packages\\umap\\umap_.py\", line 2928, in fit_transform\n",
      "    self.fit(X, y, force_all_finite, **kwargs)\n",
      "  File \"c:\\Users\\dunca\\OneDrive\\Desktop\\Disertation\\LLM\\venv\\lib\\site-packages\\umap\\umap_.py\", line 2817, in fit\n",
      "    self.embedding_, aux_data = self._fit_embed_data(\n",
      "  File \"c:\\Users\\dunca\\OneDrive\\Desktop\\Disertation\\LLM\\venv\\lib\\site-packages\\umap\\umap_.py\", line 2865, in _fit_embed_data\n",
      "    return simplicial_set_embedding(\n",
      "  File \"c:\\Users\\dunca\\OneDrive\\Desktop\\Disertation\\LLM\\venv\\lib\\site-packages\\umap\\umap_.py\", line 1089, in simplicial_set_embedding\n",
      "    graph.data[graph.data < (graph.data.max() / float(n_epochs_max))] = 0.0\n",
      "  File \"c:\\Users\\dunca\\OneDrive\\Desktop\\Disertation\\LLM\\venv\\lib\\site-packages\\numpy\\core\\_methods.py\", line 41, in _amax\n",
      "    return umr_maximum(a, axis, None, out, keepdims, initial, where)\n",
      "ValueError: zero-size array to reduction operation maximum which has no identity\n"
     ]
    },
    {
     "name": "stdout",
     "output_type": "stream",
     "text": [
      "[✗] Failed for 8: zero-size array to reduction operation maximum which has no identity\n",
      "\n",
      "📄 Processing 9...\n",
      "2025-05-16 14:33:57,120 pid:22696 MainThread giskard.rag  INFO     Finding topics in the knowledge base.\n"
     ]
    },
    {
     "name": "stderr",
     "output_type": "stream",
     "text": [
      "c:\\Users\\dunca\\OneDrive\\Desktop\\Disertation\\LLM\\venv\\lib\\site-packages\\sklearn\\utils\\deprecation.py:151: FutureWarning: 'force_all_finite' was renamed to 'ensure_all_finite' in 1.6 and will be removed in 1.8.\n",
      "  warnings.warn(\n"
     ]
    },
    {
     "name": "stdout",
     "output_type": "stream",
     "text": [
      "2025-05-16 14:36:44,758 pid:22696 MainThread giskard.rag  INFO     Found 8 topics in the knowledge base.\n"
     ]
    },
    {
     "name": "stderr",
     "output_type": "stream",
     "text": [
      "Generating questions: 100%|██████████| 3/3 [01:55<00:00, 38.63s/it]\n"
     ]
    },
    {
     "name": "stdout",
     "output_type": "stream",
     "text": [
      "[✓] Saved testset for 9 to testsets/testset_9.jsonl\n",
      "\n",
      "📄 Processing 10...\n",
      "2025-05-16 14:38:43,727 pid:22696 MainThread giskard.rag  INFO     Finding topics in the knowledge base.\n",
      "2025-05-16 14:38:46,746 pid:22696 MainThread giskard.rag  INFO     Found 1 topics in the knowledge base.\n"
     ]
    },
    {
     "name": "stderr",
     "output_type": "stream",
     "text": [
      "c:\\Users\\dunca\\OneDrive\\Desktop\\Disertation\\LLM\\venv\\lib\\site-packages\\sklearn\\utils\\deprecation.py:151: FutureWarning: 'force_all_finite' was renamed to 'ensure_all_finite' in 1.6 and will be removed in 1.8.\n",
      "  warnings.warn(\n",
      "c:\\Users\\dunca\\OneDrive\\Desktop\\Disertation\\LLM\\venv\\lib\\site-packages\\umap\\umap_.py:2462: UserWarning: n_neighbors is larger than the dataset size; truncating to X.shape[0] - 1\n",
      "  warn(\n",
      "Generating questions: 100%|██████████| 3/3 [02:27<00:00, 49.30s/it]\n"
     ]
    },
    {
     "name": "stdout",
     "output_type": "stream",
     "text": [
      "[✓] Saved testset for 10 to testsets/testset_10.jsonl\n",
      "\n",
      "📄 Processing 11...\n",
      "2025-05-16 14:41:20,774 pid:22696 MainThread giskard.rag  INFO     Finding topics in the knowledge base.\n"
     ]
    },
    {
     "name": "stderr",
     "output_type": "stream",
     "text": [
      "c:\\Users\\dunca\\OneDrive\\Desktop\\Disertation\\LLM\\venv\\lib\\site-packages\\sklearn\\utils\\deprecation.py:151: FutureWarning: 'force_all_finite' was renamed to 'ensure_all_finite' in 1.6 and will be removed in 1.8.\n",
      "  warnings.warn(\n"
     ]
    },
    {
     "name": "stdout",
     "output_type": "stream",
     "text": [
      "2025-05-16 14:42:24,778 pid:22696 MainThread giskard.rag  INFO     Found 3 topics in the knowledge base.\n"
     ]
    },
    {
     "name": "stderr",
     "output_type": "stream",
     "text": [
      "Generating questions: 100%|██████████| 3/3 [01:47<00:00, 35.73s/it]\n"
     ]
    },
    {
     "name": "stdout",
     "output_type": "stream",
     "text": [
      "[✓] Saved testset for 11 to testsets/testset_11.jsonl\n",
      "\n",
      "📄 Processing 12...\n",
      "2025-05-16 14:44:19,678 pid:22696 MainThread giskard.rag  INFO     Finding topics in the knowledge base.\n"
     ]
    },
    {
     "name": "stderr",
     "output_type": "stream",
     "text": [
      "c:\\Users\\dunca\\OneDrive\\Desktop\\Disertation\\LLM\\venv\\lib\\site-packages\\sklearn\\utils\\deprecation.py:151: FutureWarning: 'force_all_finite' was renamed to 'ensure_all_finite' in 1.6 and will be removed in 1.8.\n",
      "  warnings.warn(\n"
     ]
    },
    {
     "name": "stdout",
     "output_type": "stream",
     "text": [
      "2025-05-16 14:45:56,411 pid:22696 MainThread giskard.rag  INFO     Found 5 topics in the knowledge base.\n"
     ]
    },
    {
     "name": "stderr",
     "output_type": "stream",
     "text": [
      "Generating questions: 100%|██████████| 3/3 [01:30<00:00, 30.26s/it]\n"
     ]
    },
    {
     "name": "stdout",
     "output_type": "stream",
     "text": [
      "[✓] Saved testset for 12 to testsets/testset_12.jsonl\n",
      "\n",
      "📄 Processing 13...\n",
      "2025-05-16 14:47:34,933 pid:22696 MainThread giskard.rag  INFO     Finding topics in the knowledge base.\n"
     ]
    },
    {
     "name": "stderr",
     "output_type": "stream",
     "text": [
      "c:\\Users\\dunca\\OneDrive\\Desktop\\Disertation\\LLM\\venv\\lib\\site-packages\\sklearn\\utils\\deprecation.py:151: FutureWarning: 'force_all_finite' was renamed to 'ensure_all_finite' in 1.6 and will be removed in 1.8.\n",
      "  warnings.warn(\n"
     ]
    },
    {
     "name": "stdout",
     "output_type": "stream",
     "text": [
      "2025-05-16 14:49:05,363 pid:22696 MainThread giskard.rag  INFO     Found 4 topics in the knowledge base.\n"
     ]
    },
    {
     "name": "stderr",
     "output_type": "stream",
     "text": [
      "Generating questions: 100%|██████████| 3/3 [02:10<00:00, 43.35s/it]\n"
     ]
    },
    {
     "name": "stdout",
     "output_type": "stream",
     "text": [
      "[✓] Saved testset for 13 to testsets/testset_13.jsonl\n",
      "\n",
      "📄 Processing 14...\n",
      "2025-05-16 14:51:17,493 pid:22696 MainThread giskard.rag  INFO     Finding topics in the knowledge base.\n"
     ]
    },
    {
     "name": "stderr",
     "output_type": "stream",
     "text": [
      "c:\\Users\\dunca\\OneDrive\\Desktop\\Disertation\\LLM\\venv\\lib\\site-packages\\sklearn\\utils\\deprecation.py:151: FutureWarning: 'force_all_finite' was renamed to 'ensure_all_finite' in 1.6 and will be removed in 1.8.\n",
      "  warnings.warn(\n",
      "c:\\Users\\dunca\\OneDrive\\Desktop\\Disertation\\LLM\\venv\\lib\\site-packages\\umap\\umap_.py:2462: UserWarning: n_neighbors is larger than the dataset size; truncating to X.shape[0] - 1\n",
      "  warn(\n",
      "c:\\Users\\dunca\\OneDrive\\Desktop\\Disertation\\LLM\\venv\\lib\\site-packages\\umap\\umap_.py:134: UserWarning: A large number of your vertices were disconnected from the manifold.\n",
      "Disconnection_distance = inf has removed 0 edges.\n",
      "It has fully disconnected 2 vertices.\n",
      "You might consider using find_disconnected_points() to find and remove these points from your data.\n",
      "Use umap.utils.disconnected_vertices() to identify them.\n",
      "  warn(\n",
      "Traceback (most recent call last):\n",
      "  File \"C:\\Users\\dunca\\AppData\\Local\\Temp\\ipykernel_22696\\902400888.py\", line 34, in <module>\n",
      "    testset = generate_testset(\n",
      "  File \"c:\\Users\\dunca\\OneDrive\\Desktop\\Disertation\\LLM\\venv\\lib\\site-packages\\giskard\\rag\\testset_generation.py\", line 63, in generate_testset\n",
      "    _ = knowledge_base.topics\n",
      "  File \"c:\\Users\\dunca\\OneDrive\\Desktop\\Disertation\\LLM\\venv\\lib\\site-packages\\giskard\\rag\\knowledge_base.py\", line 240, in topics\n",
      "    self._topics_inst = self._find_topics()\n",
      "  File \"c:\\Users\\dunca\\OneDrive\\Desktop\\Disertation\\LLM\\venv\\lib\\site-packages\\giskard\\rag\\knowledge_base.py\", line 251, in _find_topics\n",
      "    clustering = hdbscan.fit(self._reduced_embeddings)\n",
      "  File \"c:\\Users\\dunca\\OneDrive\\Desktop\\Disertation\\LLM\\venv\\lib\\site-packages\\giskard\\rag\\knowledge_base.py\", line 208, in _reduced_embeddings\n",
      "    self._reduced_embeddings_inst = reducer.fit_transform(self._embeddings)\n",
      "  File \"c:\\Users\\dunca\\OneDrive\\Desktop\\Disertation\\LLM\\venv\\lib\\site-packages\\umap\\umap_.py\", line 2928, in fit_transform\n",
      "    self.fit(X, y, force_all_finite, **kwargs)\n",
      "  File \"c:\\Users\\dunca\\OneDrive\\Desktop\\Disertation\\LLM\\venv\\lib\\site-packages\\umap\\umap_.py\", line 2817, in fit\n",
      "    self.embedding_, aux_data = self._fit_embed_data(\n",
      "  File \"c:\\Users\\dunca\\OneDrive\\Desktop\\Disertation\\LLM\\venv\\lib\\site-packages\\umap\\umap_.py\", line 2865, in _fit_embed_data\n",
      "    return simplicial_set_embedding(\n",
      "  File \"c:\\Users\\dunca\\OneDrive\\Desktop\\Disertation\\LLM\\venv\\lib\\site-packages\\umap\\umap_.py\", line 1089, in simplicial_set_embedding\n",
      "    graph.data[graph.data < (graph.data.max() / float(n_epochs_max))] = 0.0\n",
      "  File \"c:\\Users\\dunca\\OneDrive\\Desktop\\Disertation\\LLM\\venv\\lib\\site-packages\\numpy\\core\\_methods.py\", line 41, in _amax\n",
      "    return umr_maximum(a, axis, None, out, keepdims, initial, where)\n",
      "ValueError: zero-size array to reduction operation maximum which has no identity\n"
     ]
    },
    {
     "name": "stdout",
     "output_type": "stream",
     "text": [
      "[✗] Failed for 14: zero-size array to reduction operation maximum which has no identity\n",
      "\n",
      "📄 Processing 15...\n",
      "2025-05-16 14:51:32,634 pid:22696 MainThread giskard.rag  INFO     Finding topics in the knowledge base.\n"
     ]
    },
    {
     "name": "stderr",
     "output_type": "stream",
     "text": [
      "c:\\Users\\dunca\\OneDrive\\Desktop\\Disertation\\LLM\\venv\\lib\\site-packages\\sklearn\\utils\\deprecation.py:151: FutureWarning: 'force_all_finite' was renamed to 'ensure_all_finite' in 1.6 and will be removed in 1.8.\n",
      "  warnings.warn(\n"
     ]
    },
    {
     "name": "stdout",
     "output_type": "stream",
     "text": [
      "2025-05-16 14:54:38,640 pid:22696 MainThread giskard.rag  INFO     Found 9 topics in the knowledge base.\n"
     ]
    },
    {
     "name": "stderr",
     "output_type": "stream",
     "text": [
      "Generating questions: 100%|██████████| 3/3 [02:16<00:00, 45.44s/it]\n"
     ]
    },
    {
     "name": "stdout",
     "output_type": "stream",
     "text": [
      "[✓] Saved testset for 15 to testsets/testset_15.jsonl\n",
      "\n",
      "📄 Processing 16...\n",
      "2025-05-16 14:57:06,785 pid:22696 MainThread giskard.rag  INFO     Finding topics in the knowledge base.\n"
     ]
    },
    {
     "name": "stderr",
     "output_type": "stream",
     "text": [
      "c:\\Users\\dunca\\OneDrive\\Desktop\\Disertation\\LLM\\venv\\lib\\site-packages\\sklearn\\utils\\deprecation.py:151: FutureWarning: 'force_all_finite' was renamed to 'ensure_all_finite' in 1.6 and will be removed in 1.8.\n",
      "  warnings.warn(\n"
     ]
    },
    {
     "name": "stdout",
     "output_type": "stream",
     "text": [
      "2025-05-16 15:00:47,798 pid:22696 MainThread giskard.rag  INFO     Found 10 topics in the knowledge base.\n"
     ]
    },
    {
     "name": "stderr",
     "output_type": "stream",
     "text": [
      "Generating questions: 100%|██████████| 3/3 [01:31<00:00, 30.62s/it]\n"
     ]
    },
    {
     "name": "stdout",
     "output_type": "stream",
     "text": [
      "[✓] Saved testset for 16 to testsets/testset_16.jsonl\n",
      "\n",
      "📄 Processing 17...\n",
      "2025-05-16 15:02:21,674 pid:22696 MainThread giskard.rag  INFO     Finding topics in the knowledge base.\n"
     ]
    },
    {
     "name": "stderr",
     "output_type": "stream",
     "text": [
      "c:\\Users\\dunca\\OneDrive\\Desktop\\Disertation\\LLM\\venv\\lib\\site-packages\\sklearn\\utils\\deprecation.py:151: FutureWarning: 'force_all_finite' was renamed to 'ensure_all_finite' in 1.6 and will be removed in 1.8.\n",
      "  warnings.warn(\n",
      "c:\\Users\\dunca\\OneDrive\\Desktop\\Disertation\\LLM\\venv\\lib\\site-packages\\umap\\umap_.py:2462: UserWarning: n_neighbors is larger than the dataset size; truncating to X.shape[0] - 1\n",
      "  warn(\n",
      "c:\\Users\\dunca\\OneDrive\\Desktop\\Disertation\\LLM\\venv\\lib\\site-packages\\umap\\umap_.py:134: UserWarning: A large number of your vertices were disconnected from the manifold.\n",
      "Disconnection_distance = inf has removed 0 edges.\n",
      "It has fully disconnected 2 vertices.\n",
      "You might consider using find_disconnected_points() to find and remove these points from your data.\n",
      "Use umap.utils.disconnected_vertices() to identify them.\n",
      "  warn(\n",
      "Traceback (most recent call last):\n",
      "  File \"C:\\Users\\dunca\\AppData\\Local\\Temp\\ipykernel_22696\\902400888.py\", line 34, in <module>\n",
      "    testset = generate_testset(\n",
      "  File \"c:\\Users\\dunca\\OneDrive\\Desktop\\Disertation\\LLM\\venv\\lib\\site-packages\\giskard\\rag\\testset_generation.py\", line 63, in generate_testset\n",
      "    _ = knowledge_base.topics\n",
      "  File \"c:\\Users\\dunca\\OneDrive\\Desktop\\Disertation\\LLM\\venv\\lib\\site-packages\\giskard\\rag\\knowledge_base.py\", line 240, in topics\n",
      "    self._topics_inst = self._find_topics()\n",
      "  File \"c:\\Users\\dunca\\OneDrive\\Desktop\\Disertation\\LLM\\venv\\lib\\site-packages\\giskard\\rag\\knowledge_base.py\", line 251, in _find_topics\n",
      "    clustering = hdbscan.fit(self._reduced_embeddings)\n",
      "  File \"c:\\Users\\dunca\\OneDrive\\Desktop\\Disertation\\LLM\\venv\\lib\\site-packages\\giskard\\rag\\knowledge_base.py\", line 208, in _reduced_embeddings\n",
      "    self._reduced_embeddings_inst = reducer.fit_transform(self._embeddings)\n",
      "  File \"c:\\Users\\dunca\\OneDrive\\Desktop\\Disertation\\LLM\\venv\\lib\\site-packages\\umap\\umap_.py\", line 2928, in fit_transform\n",
      "    self.fit(X, y, force_all_finite, **kwargs)\n",
      "  File \"c:\\Users\\dunca\\OneDrive\\Desktop\\Disertation\\LLM\\venv\\lib\\site-packages\\umap\\umap_.py\", line 2817, in fit\n",
      "    self.embedding_, aux_data = self._fit_embed_data(\n",
      "  File \"c:\\Users\\dunca\\OneDrive\\Desktop\\Disertation\\LLM\\venv\\lib\\site-packages\\umap\\umap_.py\", line 2865, in _fit_embed_data\n",
      "    return simplicial_set_embedding(\n",
      "  File \"c:\\Users\\dunca\\OneDrive\\Desktop\\Disertation\\LLM\\venv\\lib\\site-packages\\umap\\umap_.py\", line 1089, in simplicial_set_embedding\n",
      "    graph.data[graph.data < (graph.data.max() / float(n_epochs_max))] = 0.0\n",
      "  File \"c:\\Users\\dunca\\OneDrive\\Desktop\\Disertation\\LLM\\venv\\lib\\site-packages\\numpy\\core\\_methods.py\", line 41, in _amax\n",
      "    return umr_maximum(a, axis, None, out, keepdims, initial, where)\n",
      "ValueError: zero-size array to reduction operation maximum which has no identity\n"
     ]
    },
    {
     "name": "stdout",
     "output_type": "stream",
     "text": [
      "[✗] Failed for 17: zero-size array to reduction operation maximum which has no identity\n",
      "\n",
      "📄 Processing 18...\n",
      "2025-05-16 15:02:33,594 pid:22696 MainThread giskard.rag  INFO     Finding topics in the knowledge base.\n"
     ]
    },
    {
     "name": "stderr",
     "output_type": "stream",
     "text": [
      "c:\\Users\\dunca\\OneDrive\\Desktop\\Disertation\\LLM\\venv\\lib\\site-packages\\sklearn\\utils\\deprecation.py:151: FutureWarning: 'force_all_finite' was renamed to 'ensure_all_finite' in 1.6 and will be removed in 1.8.\n",
      "  warnings.warn(\n"
     ]
    },
    {
     "name": "stdout",
     "output_type": "stream",
     "text": [
      "2025-05-16 15:05:22,350 pid:22696 MainThread giskard.rag  INFO     Found 8 topics in the knowledge base.\n"
     ]
    },
    {
     "name": "stderr",
     "output_type": "stream",
     "text": [
      "Generating questions: 100%|██████████| 3/3 [02:11<00:00, 43.82s/it]\n"
     ]
    },
    {
     "name": "stdout",
     "output_type": "stream",
     "text": [
      "[✓] Saved testset for 18 to testsets/testset_18.jsonl\n",
      "\n",
      "📄 Processing 19...\n",
      "2025-05-16 15:07:36,587 pid:22696 MainThread giskard.rag  INFO     Finding topics in the knowledge base.\n",
      "2025-05-16 15:07:39,640 pid:22696 MainThread giskard.rag  INFO     Found 1 topics in the knowledge base.\n"
     ]
    },
    {
     "name": "stderr",
     "output_type": "stream",
     "text": [
      "c:\\Users\\dunca\\OneDrive\\Desktop\\Disertation\\LLM\\venv\\lib\\site-packages\\sklearn\\utils\\deprecation.py:151: FutureWarning: 'force_all_finite' was renamed to 'ensure_all_finite' in 1.6 and will be removed in 1.8.\n",
      "  warnings.warn(\n",
      "c:\\Users\\dunca\\OneDrive\\Desktop\\Disertation\\LLM\\venv\\lib\\site-packages\\umap\\umap_.py:2462: UserWarning: n_neighbors is larger than the dataset size; truncating to X.shape[0] - 1\n",
      "  warn(\n",
      "Generating questions: 100%|██████████| 3/3 [02:12<00:00, 44.11s/it]\n"
     ]
    },
    {
     "name": "stdout",
     "output_type": "stream",
     "text": [
      "[✓] Saved testset for 19 to testsets/testset_19.jsonl\n",
      "\n",
      "📄 Processing 20...\n",
      "2025-05-16 15:09:58,479 pid:22696 MainThread giskard.rag  INFO     Finding topics in the knowledge base.\n"
     ]
    },
    {
     "name": "stderr",
     "output_type": "stream",
     "text": [
      "c:\\Users\\dunca\\OneDrive\\Desktop\\Disertation\\LLM\\venv\\lib\\site-packages\\sklearn\\utils\\deprecation.py:151: FutureWarning: 'force_all_finite' was renamed to 'ensure_all_finite' in 1.6 and will be removed in 1.8.\n",
      "  warnings.warn(\n"
     ]
    },
    {
     "name": "stdout",
     "output_type": "stream",
     "text": [
      "2025-05-16 15:11:04,829 pid:22696 MainThread giskard.rag  INFO     Found 3 topics in the knowledge base.\n"
     ]
    },
    {
     "name": "stderr",
     "output_type": "stream",
     "text": [
      "Generating questions: 100%|██████████| 3/3 [01:47<00:00, 36.00s/it]\n"
     ]
    },
    {
     "name": "stdout",
     "output_type": "stream",
     "text": [
      "[✓] Saved testset for 20 to testsets/testset_20.jsonl\n",
      "\n",
      "📄 Processing 21...\n",
      "2025-05-16 15:13:00,622 pid:22696 MainThread giskard.rag  INFO     Finding topics in the knowledge base.\n"
     ]
    },
    {
     "name": "stderr",
     "output_type": "stream",
     "text": [
      "c:\\Users\\dunca\\OneDrive\\Desktop\\Disertation\\LLM\\venv\\lib\\site-packages\\sklearn\\utils\\deprecation.py:151: FutureWarning: 'force_all_finite' was renamed to 'ensure_all_finite' in 1.6 and will be removed in 1.8.\n",
      "  warnings.warn(\n"
     ]
    },
    {
     "name": "stdout",
     "output_type": "stream",
     "text": [
      "2025-05-16 15:14:38,693 pid:22696 MainThread giskard.rag  INFO     Found 5 topics in the knowledge base.\n"
     ]
    },
    {
     "name": "stderr",
     "output_type": "stream",
     "text": [
      "Generating questions: 100%|██████████| 3/3 [01:48<00:00, 36.18s/it]\n"
     ]
    },
    {
     "name": "stdout",
     "output_type": "stream",
     "text": [
      "[✓] Saved testset for 21 to testsets/testset_21.jsonl\n",
      "\n",
      "📄 Processing 22...\n",
      "2025-05-16 15:16:34,583 pid:22696 MainThread giskard.rag  INFO     Finding topics in the knowledge base.\n"
     ]
    },
    {
     "name": "stderr",
     "output_type": "stream",
     "text": [
      "c:\\Users\\dunca\\OneDrive\\Desktop\\Disertation\\LLM\\venv\\lib\\site-packages\\sklearn\\utils\\deprecation.py:151: FutureWarning: 'force_all_finite' was renamed to 'ensure_all_finite' in 1.6 and will be removed in 1.8.\n",
      "  warnings.warn(\n"
     ]
    },
    {
     "name": "stdout",
     "output_type": "stream",
     "text": [
      "2025-05-16 15:18:17,026 pid:22696 MainThread giskard.rag  INFO     Found 5 topics in the knowledge base.\n"
     ]
    },
    {
     "name": "stderr",
     "output_type": "stream",
     "text": [
      "Generating questions: 100%|██████████| 3/3 [02:19<00:00, 46.60s/it]\n"
     ]
    },
    {
     "name": "stdout",
     "output_type": "stream",
     "text": [
      "[✓] Saved testset for 22 to testsets/testset_22.jsonl\n",
      "\n",
      "📄 Processing 23...\n",
      "2025-05-16 15:20:41,195 pid:22696 MainThread giskard.rag  INFO     Finding topics in the knowledge base.\n"
     ]
    },
    {
     "name": "stderr",
     "output_type": "stream",
     "text": [
      "c:\\Users\\dunca\\OneDrive\\Desktop\\Disertation\\LLM\\venv\\lib\\site-packages\\sklearn\\utils\\deprecation.py:151: FutureWarning: 'force_all_finite' was renamed to 'ensure_all_finite' in 1.6 and will be removed in 1.8.\n",
      "  warnings.warn(\n",
      "c:\\Users\\dunca\\OneDrive\\Desktop\\Disertation\\LLM\\venv\\lib\\site-packages\\umap\\umap_.py:2462: UserWarning: n_neighbors is larger than the dataset size; truncating to X.shape[0] - 1\n",
      "  warn(\n"
     ]
    },
    {
     "name": "stdout",
     "output_type": "stream",
     "text": [
      "2025-05-16 15:21:40,380 pid:22696 MainThread giskard.rag  INFO     Found 3 topics in the knowledge base.\n"
     ]
    },
    {
     "name": "stderr",
     "output_type": "stream",
     "text": [
      "Generating questions: 100%|██████████| 3/3 [01:32<00:00, 30.94s/it]\n"
     ]
    },
    {
     "name": "stdout",
     "output_type": "stream",
     "text": [
      "[✓] Saved testset for 23 to testsets/testset_23.jsonl\n",
      "\n",
      "📄 Processing 24...\n",
      "2025-05-16 15:23:19,652 pid:22696 MainThread giskard.rag  INFO     Finding topics in the knowledge base.\n"
     ]
    },
    {
     "name": "stderr",
     "output_type": "stream",
     "text": [
      "c:\\Users\\dunca\\OneDrive\\Desktop\\Disertation\\LLM\\venv\\lib\\site-packages\\sklearn\\utils\\deprecation.py:151: FutureWarning: 'force_all_finite' was renamed to 'ensure_all_finite' in 1.6 and will be removed in 1.8.\n",
      "  warnings.warn(\n"
     ]
    },
    {
     "name": "stdout",
     "output_type": "stream",
     "text": [
      "2025-05-16 15:25:03,580 pid:22696 MainThread giskard.rag  INFO     Found 5 topics in the knowledge base.\n"
     ]
    },
    {
     "name": "stderr",
     "output_type": "stream",
     "text": [
      "Generating questions: 100%|██████████| 3/3 [02:02<00:00, 40.89s/it]\n"
     ]
    },
    {
     "name": "stdout",
     "output_type": "stream",
     "text": [
      "[✓] Saved testset for 24 to testsets/testset_24.jsonl\n",
      "\n",
      "📄 Processing 25...\n",
      "2025-05-16 15:27:11,424 pid:22696 MainThread giskard.rag  INFO     Finding topics in the knowledge base.\n"
     ]
    },
    {
     "name": "stderr",
     "output_type": "stream",
     "text": [
      "c:\\Users\\dunca\\OneDrive\\Desktop\\Disertation\\LLM\\venv\\lib\\site-packages\\sklearn\\utils\\deprecation.py:151: FutureWarning: 'force_all_finite' was renamed to 'ensure_all_finite' in 1.6 and will be removed in 1.8.\n",
      "  warnings.warn(\n",
      "c:\\Users\\dunca\\OneDrive\\Desktop\\Disertation\\LLM\\venv\\lib\\site-packages\\umap\\umap_.py:2462: UserWarning: n_neighbors is larger than the dataset size; truncating to X.shape[0] - 1\n",
      "  warn(\n"
     ]
    },
    {
     "name": "stdout",
     "output_type": "stream",
     "text": [
      "2025-05-16 15:28:07,504 pid:22696 MainThread giskard.rag  INFO     Found 3 topics in the knowledge base.\n"
     ]
    },
    {
     "name": "stderr",
     "output_type": "stream",
     "text": [
      "Generating questions: 100%|██████████| 3/3 [01:34<00:00, 31.48s/it]\n"
     ]
    },
    {
     "name": "stdout",
     "output_type": "stream",
     "text": [
      "[✓] Saved testset for 25 to testsets/testset_25.jsonl\n",
      "\n",
      "📄 Processing 26...\n",
      "2025-05-16 15:29:44,549 pid:22696 MainThread giskard.rag  INFO     Finding topics in the knowledge base.\n",
      "2025-05-16 15:29:49,873 pid:22696 MainThread giskard.rag  INFO     Found 1 topics in the knowledge base.\n"
     ]
    },
    {
     "name": "stderr",
     "output_type": "stream",
     "text": [
      "c:\\Users\\dunca\\OneDrive\\Desktop\\Disertation\\LLM\\venv\\lib\\site-packages\\sklearn\\utils\\deprecation.py:151: FutureWarning: 'force_all_finite' was renamed to 'ensure_all_finite' in 1.6 and will be removed in 1.8.\n",
      "  warnings.warn(\n",
      "c:\\Users\\dunca\\OneDrive\\Desktop\\Disertation\\LLM\\venv\\lib\\site-packages\\umap\\umap_.py:2462: UserWarning: n_neighbors is larger than the dataset size; truncating to X.shape[0] - 1\n",
      "  warn(\n",
      "Generating questions: 100%|██████████| 3/3 [01:48<00:00, 36.13s/it]\n"
     ]
    },
    {
     "name": "stdout",
     "output_type": "stream",
     "text": [
      "[✓] Saved testset for 26 to testsets/testset_26.jsonl\n",
      "\n",
      "📄 Processing 27...\n",
      "2025-05-16 15:31:42,033 pid:22696 MainThread giskard.rag  INFO     Finding topics in the knowledge base.\n",
      "2025-05-16 15:31:47,395 pid:22696 MainThread giskard.rag  INFO     Found 1 topics in the knowledge base.\n"
     ]
    },
    {
     "name": "stderr",
     "output_type": "stream",
     "text": [
      "c:\\Users\\dunca\\OneDrive\\Desktop\\Disertation\\LLM\\venv\\lib\\site-packages\\sklearn\\utils\\deprecation.py:151: FutureWarning: 'force_all_finite' was renamed to 'ensure_all_finite' in 1.6 and will be removed in 1.8.\n",
      "  warnings.warn(\n",
      "c:\\Users\\dunca\\OneDrive\\Desktop\\Disertation\\LLM\\venv\\lib\\site-packages\\umap\\umap_.py:2462: UserWarning: n_neighbors is larger than the dataset size; truncating to X.shape[0] - 1\n",
      "  warn(\n",
      "Generating questions: 100%|██████████| 3/3 [01:43<00:00, 34.45s/it]"
     ]
    },
    {
     "name": "stdout",
     "output_type": "stream",
     "text": [
      "[✓] Saved testset for 27 to testsets/testset_27.jsonl\n"
     ]
    },
    {
     "name": "stderr",
     "output_type": "stream",
     "text": [
      "\n"
     ]
    }
   ],
   "source": [
    "import traceback\n",
    "\n",
    "for idx, row in df_links.iterrows():\n",
    "    drug_id = row[\"id\"]\n",
    "    pdf_url = row[\"link\"]\n",
    "\n",
    "    print(f\"\\n📄 Processing {drug_id}...\")\n",
    "\n",
    "    try:\n",
    "        # Download PDF\n",
    "        response = requests.get(pdf_url)\n",
    "        response.raise_for_status()\n",
    "\n",
    "        with tempfile.NamedTemporaryFile(delete=False, suffix=\".pdf\") as tmp_file:\n",
    "            tmp_file.write(response.content)\n",
    "            temp_pdf_path = tmp_file.name\n",
    "\n",
    "        # Load and split PDF into chunks\n",
    "        loader = UnstructuredPDFLoader(temp_pdf_path)\n",
    "        text_splitter = RecursiveCharacterTextSplitter(chunk_size=1000, chunk_overlap=20)\n",
    "        documents = loader.load_and_split(text_splitter)\n",
    "\n",
    "        if len(documents) < 2:\n",
    "            print(f\"[{drug_id}] ⚠️ Warning: only {len(documents)} chunk(s) extracted — may cause clustering issues.\")\n",
    "\n",
    "        # Embed documents\n",
    "        vectorstore = DocArrayInMemorySearch.from_documents(documents, embedding=embedding_model)\n",
    "\n",
    "        # Create knowledge base\n",
    "        df_docs = pd.DataFrame([d.page_content for d in documents], columns=[\"text\"])\n",
    "        knowledge_base = KnowledgeBase(df_docs)\n",
    "\n",
    "        # Generate 3 test questions\n",
    "        testset = generate_testset(\n",
    "            knowledge_base,\n",
    "            num_questions=3,\n",
    "            agent_description=\"A chatbot answering questions about medicine drugs\"\n",
    "        )\n",
    "\n",
    "        # Save testset\n",
    "        os.makedirs(\"testsets\", exist_ok=True)\n",
    "        out_path = f\"testsets/testset_{drug_id}.jsonl\"\n",
    "        testset.save(out_path)\n",
    "        print(f\"[✓] Saved testset for {drug_id} to {out_path}\")\n",
    "\n",
    "    except Exception as e:\n",
    "        print(f\"[✗] Failed for {drug_id}: {e}\")\n",
    "        traceback.print_exc()\n"
   ]
  },
  {
   "cell_type": "code",
   "execution_count": 11,
   "id": "b02c5164",
   "metadata": {},
   "outputs": [
    {
     "name": "stdout",
     "output_type": "stream",
     "text": [
      "\n",
      "Answer the question based on the context below. If you can't\n",
      "answer the question, reply \"I don't know\".\n",
      "\n",
      "Context: Here is some context\n",
      "\n",
      "Question: Here is a question\n",
      "\n"
     ]
    }
   ],
   "source": [
    "from langchain.prompts import PromptTemplate\n",
    "\n",
    "template = \"\"\"\n",
    "Answer the question based on the context below. If you can't\n",
    "answer the question, reply \"I don't know\".\n",
    "\n",
    "Context: {context}\n",
    "\n",
    "Question: {question}\n",
    "\"\"\"\n",
    "\n",
    "prompt = PromptTemplate.from_template(template)\n",
    "print(prompt.format(context=\"Here is some context\", question=\"Here is a question\"))"
   ]
  },
  {
   "cell_type": "code",
   "execution_count": 12,
   "id": "e84e8328",
   "metadata": {},
   "outputs": [],
   "source": [
    "from langchain_ollama import OllamaLLM,OllamaEmbeddings \n",
    "from langchain_core.output_parsers import StrOutputParser\n",
    "from operator import itemgetter\n",
    "import os\n",
    "from dotenv import load_dotenv\n",
    "\n",
    "load_dotenv()\n",
    "MODEL = \"llama2\"\n",
    "model = OllamaLLM(model=MODEL)\n",
    "\n",
    "chain = (\n",
    "    {\n",
    "        \"context\": itemgetter(\"question\") | vectorstore.as_retriever(),\n",
    "        \"question\": itemgetter(\"question\"),\n",
    "    }\n",
    "    | prompt\n",
    "    | model\n",
    "    | StrOutputParser()\n",
    ")"
   ]
  },
  {
   "cell_type": "code",
   "execution_count": 13,
   "id": "cf2f860c",
   "metadata": {},
   "outputs": [],
   "source": [
    "def answer_fn(question, history=None):\n",
    "    return chain.invoke({\"question\": question})  "
   ]
  },
  {
   "cell_type": "code",
   "execution_count": 17,
   "id": "4320b978",
   "metadata": {},
   "outputs": [
    {
     "name": "stderr",
     "output_type": "stream",
     "text": [
      "Asking questions to the agent: 100%|██████████| 3/3 [03:39<00:00, 73.19s/it]\n",
      "CorrectnessMetric evaluation: 100%|██████████| 3/3 [00:41<00:00, 13.92s/it]\n"
     ]
    }
   ],
   "source": [
    "from giskard.rag import evaluate\n",
    "\n",
    "report = evaluate(answer_fn, testset=testset, knowledge_base=knowledge_base)"
   ]
  },
  {
   "cell_type": "code",
   "execution_count": 18,
   "id": "388cc9c4",
   "metadata": {},
   "outputs": [
    {
     "data": {
      "text/html": [
       "    <style>\n",
       "        .bk-notebook-logo {\n",
       "            display: block;\n",
       "            width: 20px;\n",
       "            height: 20px;\n",
       "            background-image: url(data:image/png;base64,iVBORw0KGgoAAAANSUhEUgAAABQAAAAUCAYAAACNiR0NAAAABHNCSVQICAgIfAhkiAAAAAlwSFlzAAALEgAACxIB0t1+/AAAABx0RVh0U29mdHdhcmUAQWRvYmUgRmlyZXdvcmtzIENTNui8sowAAAOkSURBVDiNjZRtaJVlGMd/1/08zzln5zjP1LWcU9N0NkN8m2CYjpgQYQXqSs0I84OLIC0hkEKoPtiH3gmKoiJDU7QpLgoLjLIQCpEsNJ1vqUOdO7ppbuec5+V+rj4ctwzd8IIbbi6u+8f1539dt3A78eXC7QizUF7gyV1fD1Yqg4JWz84yffhm0qkFqBogB9rM8tZdtwVsPUhWhGcFJngGeWrPzHm5oaMmkfEg1usvLFyc8jLRqDOMru7AyC8saQr7GG7f5fvDeH7Ej8CM66nIF+8yngt6HWaKh7k49Soy9nXurCi1o3qUbS3zWfrYeQDTB/Qj6kX6Ybhw4B+bOYoLKCC9H3Nu/leUTZ1JdRWkkn2ldcCamzrcf47KKXdAJllSlxAOkRgyHsGC/zRday5Qld9DyoM4/q/rUoy/CXh3jzOu3bHUVZeU+DEn8FInkPBFlu3+nW3Nw0mk6vCDiWg8CeJaxEwuHS3+z5RgY+YBR6V1Z1nxSOfoaPa4LASWxxdNp+VWTk7+4vzaou8v8PN+xo+KY2xsw6une2frhw05CTYOmQvsEhjhWjn0bmXPjpE1+kplmmkP3suftwTubK9Vq22qKmrBhpY4jvd5afdRA3wGjFAgcnTK2s4hY0/GPNIb0nErGMCRxWOOX64Z8RAC4oCXdklmEvcL8o0BfkNK4lUg9HTl+oPlQxdNo3Mg4Nv175e/1LDGzZen30MEjRUtmXSfiTVu1kK8W4txyV6BMKlbgk3lMwYCiusNy9fVfvvwMxv8Ynl6vxoByANLTWplvuj/nF9m2+PDtt1eiHPBr1oIfhCChQMBw6Aw0UulqTKZdfVvfG7VcfIqLG9bcldL/+pdWTLxLUy8Qq38heUIjh4XlzZxzQm19lLFlr8vdQ97rjZVOLf8nclzckbcD4wxXMidpX30sFd37Fv/GtwwhzhxGVAprjbg0gCAEeIgwCZyTV2Z1REEW8O4py0wsjeloKoMr6iCY6dP92H6Vw/oTyICIthibxjm/DfN9lVz8IqtqKYLUXfoKVMVQVVJOElGjrnnUt9T9wbgp8AyYKaGlqingHZU/uG2NTZSVqwHQTWkx9hxjkpWDaCg6Ckj5qebgBVbT3V3NNXMSiWSDdGV3hrtzla7J+duwPOToIg42ChPQOQjspnSlp1V+Gjdged7+8UN5CRAV7a5EdFNwCjEaBR27b3W890TE7g24NAP/mMDXRWrGoFPQI9ls/MWO2dWFAar/xcOIImbbpA3zgAAAABJRU5ErkJggg==);\n",
       "        }\n",
       "    </style>\n",
       "    <div>\n",
       "        <a href=\"https://bokeh.org\" target=\"_blank\" class=\"bk-notebook-logo\"></a>\n",
       "        <span id=\"bbc3453f-ea04-4a4d-ac3d-3a1834a7a7d8\">Loading BokehJS ...</span>\n",
       "    </div>\n"
      ]
     },
     "metadata": {},
     "output_type": "display_data"
    },
    {
     "data": {
      "application/javascript": "'use strict';\n(function(root) {\n  function now() {\n    return new Date();\n  }\n\n  const force = true;\n\n  if (typeof root._bokeh_onload_callbacks === \"undefined\" || force === true) {\n    root._bokeh_onload_callbacks = [];\n    root._bokeh_is_loading = undefined;\n  }\n\nconst JS_MIME_TYPE = 'application/javascript';\n  const HTML_MIME_TYPE = 'text/html';\n  const EXEC_MIME_TYPE = 'application/vnd.bokehjs_exec.v0+json';\n  const CLASS_NAME = 'output_bokeh rendered_html';\n\n  /**\n   * Render data to the DOM node\n   */\n  function render(props, node) {\n    const script = document.createElement(\"script\");\n    node.appendChild(script);\n  }\n\n  /**\n   * Handle when an output is cleared or removed\n   */\n  function handleClearOutput(event, handle) {\n    function drop(id) {\n      const view = Bokeh.index.get_by_id(id)\n      if (view != null) {\n        view.model.document.clear()\n        Bokeh.index.delete(view)\n      }\n    }\n\n    const cell = handle.cell;\n\n    const id = cell.output_area._bokeh_element_id;\n    const server_id = cell.output_area._bokeh_server_id;\n\n    // Clean up Bokeh references\n    if (id != null) {\n      drop(id)\n    }\n\n    if (server_id !== undefined) {\n      // Clean up Bokeh references\n      const cmd_clean = \"from bokeh.io.state import curstate; print(curstate().uuid_to_server['\" + server_id + \"'].get_sessions()[0].document.roots[0]._id)\";\n      cell.notebook.kernel.execute(cmd_clean, {\n        iopub: {\n          output: function(msg) {\n            const id = msg.content.text.trim()\n            drop(id)\n          }\n        }\n      });\n      // Destroy server and session\n      const cmd_destroy = \"import bokeh.io.notebook as ion; ion.destroy_server('\" + server_id + \"')\";\n      cell.notebook.kernel.execute(cmd_destroy);\n    }\n  }\n\n  /**\n   * Handle when a new output is added\n   */\n  function handleAddOutput(event, handle) {\n    const output_area = handle.output_area;\n    const output = handle.output;\n\n    // limit handleAddOutput to display_data with EXEC_MIME_TYPE content only\n    if ((output.output_type != \"display_data\") || (!Object.prototype.hasOwnProperty.call(output.data, EXEC_MIME_TYPE))) {\n      return\n    }\n\n    const toinsert = output_area.element.find(\".\" + CLASS_NAME.split(' ')[0]);\n\n    if (output.metadata[EXEC_MIME_TYPE][\"id\"] !== undefined) {\n      toinsert[toinsert.length - 1].firstChild.textContent = output.data[JS_MIME_TYPE];\n      // store reference to embed id on output_area\n      output_area._bokeh_element_id = output.metadata[EXEC_MIME_TYPE][\"id\"];\n    }\n    if (output.metadata[EXEC_MIME_TYPE][\"server_id\"] !== undefined) {\n      const bk_div = document.createElement(\"div\");\n      bk_div.innerHTML = output.data[HTML_MIME_TYPE];\n      const script_attrs = bk_div.children[0].attributes;\n      for (let i = 0; i < script_attrs.length; i++) {\n        toinsert[toinsert.length - 1].firstChild.setAttribute(script_attrs[i].name, script_attrs[i].value);\n        toinsert[toinsert.length - 1].firstChild.textContent = bk_div.children[0].textContent\n      }\n      // store reference to server id on output_area\n      output_area._bokeh_server_id = output.metadata[EXEC_MIME_TYPE][\"server_id\"];\n    }\n  }\n\n  function register_renderer(events, OutputArea) {\n\n    function append_mime(data, metadata, element) {\n      // create a DOM node to render to\n      const toinsert = this.create_output_subarea(\n        metadata,\n        CLASS_NAME,\n        EXEC_MIME_TYPE\n      );\n      this.keyboard_manager.register_events(toinsert);\n      // Render to node\n      const props = {data: data, metadata: metadata[EXEC_MIME_TYPE]};\n      render(props, toinsert[toinsert.length - 1]);\n      element.append(toinsert);\n      return toinsert\n    }\n\n    /* Handle when an output is cleared or removed */\n    events.on('clear_output.CodeCell', handleClearOutput);\n    events.on('delete.Cell', handleClearOutput);\n\n    /* Handle when a new output is added */\n    events.on('output_added.OutputArea', handleAddOutput);\n\n    /**\n     * Register the mime type and append_mime function with output_area\n     */\n    OutputArea.prototype.register_mime_type(EXEC_MIME_TYPE, append_mime, {\n      /* Is output safe? */\n      safe: true,\n      /* Index of renderer in `output_area.display_order` */\n      index: 0\n    });\n  }\n\n  // register the mime type if in Jupyter Notebook environment and previously unregistered\n  if (root.Jupyter !== undefined) {\n    const events = require('base/js/events');\n    const OutputArea = require('notebook/js/outputarea').OutputArea;\n\n    if (OutputArea.prototype.mime_types().indexOf(EXEC_MIME_TYPE) == -1) {\n      register_renderer(events, OutputArea);\n    }\n  }\n  if (typeof (root._bokeh_timeout) === \"undefined\" || force === true) {\n    root._bokeh_timeout = Date.now() + 5000;\n    root._bokeh_failed_load = false;\n  }\n\n  const NB_LOAD_WARNING = {'data': {'text/html':\n     \"<div style='background-color: #fdd'>\\n\"+\n     \"<p>\\n\"+\n     \"BokehJS does not appear to have successfully loaded. If loading BokehJS from CDN, this \\n\"+\n     \"may be due to a slow or bad network connection. Possible fixes:\\n\"+\n     \"</p>\\n\"+\n     \"<ul>\\n\"+\n     \"<li>re-rerun `output_notebook()` to attempt to load from CDN again, or</li>\\n\"+\n     \"<li>use INLINE resources instead, as so:</li>\\n\"+\n     \"</ul>\\n\"+\n     \"<code>\\n\"+\n     \"from bokeh.resources import INLINE\\n\"+\n     \"output_notebook(resources=INLINE)\\n\"+\n     \"</code>\\n\"+\n     \"</div>\"}};\n\n  function display_loaded(error = null) {\n    const el = document.getElementById(\"bbc3453f-ea04-4a4d-ac3d-3a1834a7a7d8\");\n    if (el != null) {\n      const html = (() => {\n        if (typeof root.Bokeh === \"undefined\") {\n          if (error == null) {\n            return \"BokehJS is loading ...\";\n          } else {\n            return \"BokehJS failed to load.\";\n          }\n        } else {\n          const prefix = `BokehJS ${root.Bokeh.version}`;\n          if (error == null) {\n            return `${prefix} successfully loaded.`;\n          } else {\n            return `${prefix} <b>encountered errors</b> while loading and may not function as expected.`;\n          }\n        }\n      })();\n      el.innerHTML = html;\n\n      if (error != null) {\n        const wrapper = document.createElement(\"div\");\n        wrapper.style.overflow = \"auto\";\n        wrapper.style.height = \"5em\";\n        wrapper.style.resize = \"vertical\";\n        const content = document.createElement(\"div\");\n        content.style.fontFamily = \"monospace\";\n        content.style.whiteSpace = \"pre-wrap\";\n        content.style.backgroundColor = \"rgb(255, 221, 221)\";\n        content.textContent = error.stack ?? error.toString();\n        wrapper.append(content);\n        el.append(wrapper);\n      }\n    } else if (Date.now() < root._bokeh_timeout) {\n      setTimeout(() => display_loaded(error), 100);\n    }\n  }\n\n  function run_callbacks() {\n    try {\n      root._bokeh_onload_callbacks.forEach(function(callback) {\n        if (callback != null)\n          callback();\n      });\n    } finally {\n      delete root._bokeh_onload_callbacks\n    }\n    console.debug(\"Bokeh: all callbacks have finished\");\n  }\n\n  function load_libs(css_urls, js_urls, callback) {\n    if (css_urls == null) css_urls = [];\n    if (js_urls == null) js_urls = [];\n\n    root._bokeh_onload_callbacks.push(callback);\n    if (root._bokeh_is_loading > 0) {\n      console.debug(\"Bokeh: BokehJS is being loaded, scheduling callback at\", now());\n      return null;\n    }\n    if (js_urls == null || js_urls.length === 0) {\n      run_callbacks();\n      return null;\n    }\n    console.debug(\"Bokeh: BokehJS not loaded, scheduling load and callback at\", now());\n    root._bokeh_is_loading = css_urls.length + js_urls.length;\n\n    function on_load() {\n      root._bokeh_is_loading--;\n      if (root._bokeh_is_loading === 0) {\n        console.debug(\"Bokeh: all BokehJS libraries/stylesheets loaded\");\n        run_callbacks()\n      }\n    }\n\n    function on_error(url) {\n      console.error(\"failed to load \" + url);\n    }\n\n    for (let i = 0; i < css_urls.length; i++) {\n      const url = css_urls[i];\n      const element = document.createElement(\"link\");\n      element.onload = on_load;\n      element.onerror = on_error.bind(null, url);\n      element.rel = \"stylesheet\";\n      element.type = \"text/css\";\n      element.href = url;\n      console.debug(\"Bokeh: injecting link tag for BokehJS stylesheet: \", url);\n      document.body.appendChild(element);\n    }\n\n    for (let i = 0; i < js_urls.length; i++) {\n      const url = js_urls[i];\n      const element = document.createElement('script');\n      element.onload = on_load;\n      element.onerror = on_error.bind(null, url);\n      element.async = false;\n      element.src = url;\n      console.debug(\"Bokeh: injecting script tag for BokehJS library: \", url);\n      document.head.appendChild(element);\n    }\n  };\n\n  function inject_raw_css(css) {\n    const element = document.createElement(\"style\");\n    element.appendChild(document.createTextNode(css));\n    document.body.appendChild(element);\n  }\n\n  const js_urls = [\"https://cdn.bokeh.org/bokeh/release/bokeh-3.4.3.min.js\", \"https://cdn.bokeh.org/bokeh/release/bokeh-gl-3.4.3.min.js\", \"https://cdn.bokeh.org/bokeh/release/bokeh-widgets-3.4.3.min.js\", \"https://cdn.bokeh.org/bokeh/release/bokeh-tables-3.4.3.min.js\", \"https://cdn.bokeh.org/bokeh/release/bokeh-mathjax-3.4.3.min.js\"];\n  const css_urls = [];\n\n  const inline_js = [    function(Bokeh) {\n      Bokeh.set_log_level(\"info\");\n    },\nfunction(Bokeh) {\n    }\n  ];\n\n  function run_inline_js() {\n    if (root.Bokeh !== undefined || force === true) {\n      try {\n            for (let i = 0; i < inline_js.length; i++) {\n      inline_js[i].call(root, root.Bokeh);\n    }\n\n      } catch (error) {display_loaded(error);throw error;\n      }if (force === true) {\n        display_loaded();\n      }} else if (Date.now() < root._bokeh_timeout) {\n      setTimeout(run_inline_js, 100);\n    } else if (!root._bokeh_failed_load) {\n      console.log(\"Bokeh: BokehJS failed to load within specified timeout.\");\n      root._bokeh_failed_load = true;\n    } else if (force !== true) {\n      const cell = $(document.getElementById(\"bbc3453f-ea04-4a4d-ac3d-3a1834a7a7d8\")).parents('.cell').data().cell;\n      cell.output_area.append_execute_result(NB_LOAD_WARNING)\n    }\n  }\n\n  if (root._bokeh_is_loading === 0) {\n    console.debug(\"Bokeh: BokehJS loaded, going straight to plotting\");\n    run_inline_js();\n  } else {\n    load_libs(css_urls, js_urls, function() {\n      console.debug(\"Bokeh: BokehJS plotting callback run at\", now());\n      run_inline_js();\n    });\n  }\n}(window));",
      "application/vnd.bokehjs_load.v0+json": ""
     },
     "metadata": {},
     "output_type": "display_data"
    },
    {
     "data": {
      "text/html": [
       "<!DOCTYPE html>\n",
       "\n",
       "\n",
       "<style>\n",
       "    body{\n",
       "  background: #18181B;\n",
       "}\n",
       "\n",
       ".main{\n",
       "  font-family: \"Noto Sans\", ui-sans-serif, system-ui, -apple-system, BlinkMacSystemFont, \"Segoe UI\", Roboto, \"Helvetica Neue\", Arial, sans-serif, \"Apple Color Emoji\", \"Segoe UI Emoji\", \"Segoe UI Symbol\", \"Noto Color Emoji\";\n",
       "  color: #FDFDFD;\n",
       "}\n",
       "\n",
       "h1 {\n",
       "  font-size: 2.5rem;\n",
       "  color: white;\n",
       "}\n",
       "\n",
       "h3 {\n",
       "  font-size: 1.5rem;\n",
       "  background: #0c087c;\n",
       "  padding: 10px;\n",
       "  margin: 0px;\n",
       "  border: 1px solid #6b7280;}\n",
       "\n",
       ".extended-title{\n",
       "  width:100%;\n",
       "}\n",
       "\n",
       "#gsk-overview{\n",
       "  display:flex;\n",
       "}\n",
       "\n",
       "h4 {\n",
       "  font-size: 1rem;\n",
       "  background: #27272A;\n",
       "  padding: 10px;\n",
       "  margin: 0px;\n",
       "  border-bottom: 1px solid #6b7280;\n",
       "}\n",
       "\n",
       "h2 {\n",
       "  font-size: 1.5rem;\n",
       "  margin-top: 3px;\n",
       "  color:#000000;\n",
       "}\n",
       "\n",
       ".header{\n",
       "  display: flex;\n",
       "  justify-content: center;\n",
       "  align-items: center;\n",
       "}\n",
       ".header > * {\n",
       "  margin-inline: 20px;\n",
       "}\n",
       "\n",
       ".flex-row {\n",
       "  display: flex;\n",
       "  flex-direction: row;\n",
       "  padding:10px;\n",
       "  border: 1px solid #27272A;\n",
       "}\n",
       "\n",
       ".flex-row>div {\n",
       "  flex: auto;\n",
       "  box-sizing: border-box;\n",
       "  display: flex;\n",
       "  flex-direction: column;\n",
       "  justify-content: center;\n",
       "  align-items: center;\n",
       "}\n",
       "\n",
       "progress[value] {\n",
       "  --background: #6D6D6D;\n",
       "  -webkit-appearance: none;\n",
       "  -moz-appearance: none;\n",
       "  appearance: none;\n",
       "  border: none;\n",
       "  height: 4px;\n",
       "  margin: 0 10px;\n",
       "  border-radius: 10em;\n",
       "  background: var(--background);\n",
       "}\n",
       "\n",
       "progress[value]::-webkit-progress-bar {\n",
       "  border-radius: 10em;\n",
       "  background: var(--background);\n",
       "}\n",
       "\n",
       "progress[value]::-webkit-progress-value {\n",
       "  border-radius: 10em;\n",
       "  background: var(--color);\n",
       "}\n",
       "\n",
       "progress[value]::-moz-progress-bar {\n",
       "  border-radius: 10em;\n",
       "  background: var(--color);\n",
       "}\n",
       "\n",
       "label {\n",
       "  font-size: 20px;\n",
       "  font-weight: bold;\n",
       "  display: block;\n",
       "  margin: 20px 0;\n",
       "}\n",
       "\n",
       ".tab {\n",
       "  overflow: hidden;\n",
       "  border: 1px solid #27272A;\n",
       "  background-color: #27272A;\n",
       "}\n",
       "\n",
       ".tab button {\n",
       "  background-color: inherit;\n",
       "  float: left;\n",
       "  border: none;\n",
       "  outline: none;\n",
       "  cursor: pointer;\n",
       "  padding: 14px 16px;\n",
       "  transition: 0.3s;\n",
       "  color: #ffffff;\n",
       "  font-size:1.2rem;\n",
       "}\n",
       "\n",
       ".tab div {\n",
       "  background-color: inherit;\n",
       "  float: left;\n",
       "  border: none;\n",
       "  outline: none;\n",
       "  cursor: pointer;\n",
       "  padding: 14px 16px;\n",
       "  transition: 0.3s;\n",
       "  color: #ffffff;\n",
       "  font-size: 1.2rem;\n",
       "}\n",
       "\n",
       ".tab button:hover {\n",
       "  background-color: #18181B;\n",
       "}\n",
       "\n",
       ".tab-title{\n",
       "  font-size: 1.5rem;\n",
       "  font-weight: bold;\n",
       "  margin-bottom:-5px;\n",
       "}\n",
       "\n",
       ".tab button.active {\n",
       "  background-color: #18181B;\n",
       "  border-top: 1px solid #6b7280;\n",
       "  border-bottom: 1px solid #18181B;\n",
       "  border-left: 1px solid #6b7280;\n",
       "  border-right: 1px solid #6b7280;\n",
       "}\n",
       "\n",
       ".tabcontent {\n",
       "  display: none;\n",
       "  padding: 6px 12px;\n",
       "  background: #18181B;\n",
       "  border: 1px solid #27272A;\n",
       "  border-top: 1px solid #6b7280;\n",
       "  margin-top: -2px;\n",
       "}\n",
       "\n",
       "#gsk-advice {\n",
       "  display: flex;\n",
       "  justify-content: center;\n",
       "}\n",
       "\n",
       "#gsk-metrics{\n",
       "  width:100%;\n",
       "}\n",
       "\n",
       "#recommendation {\n",
       "  margin-top: 20px;\n",
       "  padding: 20px;\n",
       "  border-radius: 10px;\n",
       "  background-color: #e1ce86;\n",
       "  color: #27272A;\n",
       "  width:95%;\n",
       "  box-shadow: 0 4px 8px 0 #000000, 0 6px 20px 0 #000000;\n",
       "  font-size: 12pt;\n",
       "}\n",
       "\n",
       ".separator {\n",
       "  margin: 20px 0;\n",
       "}\n",
       "\n",
       ".separator-border {\n",
       "  margin: 20px 0;\n",
       "  border-bottom: 1px solid #6b7280;\n",
       "}\n",
       "\n",
       "#gsk-rag{\n",
       "  margin: 32px 28px;\n",
       "  padding: 12px 24px;\n",
       "  background-color: #111516;\n",
       "}\n",
       "\n",
       ".section-container {\n",
       "  margin-bottom: 32px;\n",
       "}\n",
       "\n",
       "  .components-container {\n",
       "    display: flex;\n",
       "    flex-flow: row wrap;\n",
       "    align-items: flex-start;\n",
       "    gap: 0 32px;\n",
       "  }\n",
       "\n",
       "    .component-card {\n",
       "      background-color: #14191B;\n",
       "      border-radius: 16px;\n",
       "      padding: 28px 32px 32px 32px;\n",
       "      display: flex;\n",
       "      flex-flow: column;\n",
       "      align-items: center;\n",
       "      margin-top: 32px;\n",
       "      flex-grow: 1;\n",
       "    }\n",
       "\n",
       "    .component-title {\n",
       "      font-size: 12px;\n",
       "      font-weight: 500;\n",
       "      color: #B1B1B1;\n",
       "      padding-bottom: 8px;\n",
       "    }\n",
       "\n",
       "    .component-value {\n",
       "      font-size: 32px;\n",
       "      font-weight: 500;\n",
       "      padding-bottom: 12px;\n",
       "    }\n",
       "      \n",
       "      .text-green {\n",
       "        color: #04B543;\n",
       "      }\n",
       "      \n",
       "      .text-orange {\n",
       "        color: #E76E0F;\n",
       "      }\n",
       "      \n",
       "      .text-red {\n",
       "        color: #EA3829;\n",
       "      }\n",
       "\n",
       "      .tooltip {\n",
       "        position: relative;\n",
       "        display: inline-block;\n",
       "      }\n",
       "\n",
       "      .tooltip .tooltiptext {\n",
       "        visibility: hidden;\n",
       "        width: 120px;\n",
       "        background-color: #464646;\n",
       "        color: #E6E6E6;\n",
       "        text-align: center;\n",
       "        border-radius: 6px;\n",
       "        position: absolute;\n",
       "        z-index: 1;\n",
       "        top: 150%;\n",
       "        left: 50%;\n",
       "        margin-left: -60px;\n",
       "        font-size: 12px;\n",
       "        padding: 12px;\n",
       "      }\n",
       "      \n",
       "      .tooltip .tooltiptext::after {\n",
       "        content: \"\";\n",
       "        position: absolute;\n",
       "        bottom: 100%;\n",
       "        left: 50%;\n",
       "        margin-left: -5px;\n",
       "        border-width: 5px;\n",
       "        border-style: solid;\n",
       "        border-color: transparent transparent black transparent;\n",
       "      }\n",
       "      \n",
       "      .tooltip:hover .tooltiptext {\n",
       "        visibility: visible;\n",
       "      }\n",
       "\n",
       "    .overall-card {\n",
       "      background-color: #026836;\n",
       "      border-radius: 16px;\n",
       "      padding: 28px 32px 32px 32px;\n",
       "      display: flex;\n",
       "      flex-flow: column;\n",
       "      align-items: center;\n",
       "      justify-content: center;\n",
       "      margin-top: 32px;\n",
       "      flex-grow: 1;\n",
       "    }\n",
       "  \n",
       "    .overall-title {\n",
       "      font-size: 12px;\n",
       "      font-weight: 500;\n",
       "      color: #E6E6E6;\n",
       "      padding: 14px 0 8px 0;\n",
       "      text-transform: uppercase;\n",
       "     }\n",
       "  \n",
       "    .overall-value {\n",
       "      font-size: 32px;\n",
       "      font-weight: 500;\n",
       "      padding-bottom: 12px;\n",
       "      color: #E6E6E6;\n",
       "    }\n",
       "\n",
       ".section-title {\n",
       "  font-size: 12px;\n",
       "  color: #B1B1B1;\n",
       "  margin-bottom: 20px;\n",
       "  text-align: left;\n",
       "  width: 100%;\n",
       "}\n",
       "\n",
       ".section-content {\n",
       "  color: #E6E6E6;\n",
       "  font-size: 20px;\n",
       "  line-height: 1.5;\n",
       "}\n",
       "\n",
       ".section-card {\n",
       "  background-color: #14191B;\n",
       "  border-radius: 16px;\n",
       "  padding: 28px 32px 32px 32px;\n",
       "  display: flex;\n",
       "  flex-flow: column;\n",
       "  align-items: center;\n",
       "}\n",
       "\n",
       ".correctness-indicator{\n",
       "  padding: 20px;\n",
       "  border-radius: 50px;\n",
       "  font-size: 16pt;\n",
       "  box-shadow: 0 4px 8px 0 #000000, 0 6px 20px 0 #000000;\n",
       "  text-align: center;\n",
       "}\n",
       "\n",
       ".metric-title{\n",
       "  margin: -2px;\n",
       "  border-bottom: none;\n",
       "}\n",
       "\n",
       ".hist-row {\n",
       "  display: flex;\n",
       "  flex-direction: row;\n",
       "  padding: 10px;\n",
       "  justify-content: space-around;\n",
       "  width: 85%;\n",
       "}\n",
       "\n",
       ".hist-row>div {\n",
       "  flex: auto;\n",
       "  box-sizing: border-box;\n",
       "  display: flex;\n",
       "  flex-direction: column;\n",
       "  justify-content: center;\n",
       "  align-items: center;\n",
       "  padding-left: 1%;\n",
       "  padding-right: 1%;\n",
       "}\n",
       "\n",
       ".tab-row{\n",
       "  display: flex;\n",
       "  flex-direction: column;\n",
       "  align-items: center;\n",
       "}\n",
       "\n",
       "#component-table{\n",
       "  width:50%;\n",
       "  margin-top: 10px;\n",
       "}\n",
       "\n",
       ".green{\n",
       "  background-color: #0a980a;\n",
       "}\n",
       "\n",
       ".orange {\n",
       "  background-color: #e5b62a;\n",
       "}\n",
       "\n",
       ".red {\n",
       "  background-color: #ba0e0e;\n",
       "}\n",
       "\n",
       ".progress-green {\n",
       "  --color: #04B543;\n",
       "}\n",
       "\n",
       ".progress-orange {\n",
       "  --color: #E76E0F;\n",
       "}\n",
       "\n",
       ".progress-red {\n",
       "  --color: #EA3829;\n",
       "}\n",
       "\n",
       ".corr-plot{\n",
       "  flex: 1;\n",
       "  padding-left: 2%;\n",
       "}\n",
       "\n",
       ".tooltip-text {\n",
       "  position: absolute;\n",
       "  display: none;\n",
       "  visibility: hidden;\n",
       "  z-index: 1;\n",
       "  top: 100%;\n",
       "  left: 0%;\n",
       "  width: 100%;\n",
       "  color: white;\n",
       "  font-size: 12px;\n",
       "  background-color: #2d3d4c;\n",
       "  border-radius: 10px;\n",
       "  padding: 10px 15px 10px 15px;\n",
       "}\n",
       "\n",
       "#fade {\n",
       "  opacity: 1;\n",
       "  transition: opacity 0.5s;\n",
       "}\n",
       "\n",
       "#delay {\n",
       "  opacity: 0;\n",
       "  transition: opacity 0.2s;\n",
       "  transition-delay: 1s;\n",
       "}\n",
       "\n",
       "td {\n",
       "  position: relative;\n",
       "}\n",
       "\n",
       "tr:hover .tooltip-text {\n",
       "  display: block;\n",
       "  visibility: visible;\n",
       "}\n",
       "\n",
       ".tr:hover #fade {\n",
       "  opacity: 1;\n",
       "}\n",
       "\n",
       ".tr:hover #delay {\n",
       "  opacity: 1;\n",
       "}\n",
       "\n",
       ".callout {\n",
       "  padding: 0.5rem 1rem 0.5rem 3rem;\n",
       "  background: #D9EDF9;\n",
       "  border: 3px solid #0088D1;\n",
       "  color: #272eb5;\n",
       "  position: relative;\n",
       "  max-width: 40rem;\n",
       "  border-radius: 10px;\n",
       "  margin-top: 10%;\n",
       "  font-size: 11pt;\n",
       "}\n",
       "\n",
       ".callout-icon {\n",
       "  content: \"\";\n",
       "\n",
       "  /* SVG via a data URI! */\n",
       "  background-size: cover;\n",
       "  width: 1.5rem;\n",
       "  height: 1.5rem;\n",
       "  display: block;\n",
       "  position: absolute;\n",
       "  left: 0.9rem;\n",
       "  top: 1.1rem;\n",
       "}\n",
       "\n",
       ".callout-icon svg{\n",
       "  fill: #016ca7;\n",
       "}\n",
       ".callout p+p {\n",
       "  margin-top: 1em;\n",
       "}\n",
       "\n",
       ".callout a {\n",
       "  color: #272eb5;\n",
       "  font-weight: bold;\n",
       "}\n",
       "\n",
       "#gsk-logo {\n",
       "  padding-top: 10px;\n",
       "}\n",
       "</style>\n",
       "<script src=\"https://cdn.bokeh.org/bokeh/release/bokeh-3.3.4.min.js\" integrity=\"sha384-5QIrjQuyo4I/x6DK/Sau33lcA3hT2TCZGr9vbk+2ebd7Da6FnR1amdM+9B5xOrSf\" crossorigin=\"anonymous\"></script>\n",
       "<script src=\"https://cdn.bokeh.org/bokeh/release/bokeh-gl-3.3.4.min.js\" integrity=\"sha384-tXTWPp/bAKa+K9RPuXh7DNvye0Mv+P+6y4rAMVy+pWapsnXg9UG7g20WZ0N4i28A\" crossorigin=\"anonymous\"></script>\n",
       "\n",
       "\n",
       "\n",
       "\n",
       "\n",
       "<div class=\"main\">\n",
       "    <div id=\"gsk-rag\" class=\"dark:text-white dark:bg-zinc-800 rounded border border-gray-500\">\n",
       "        <div class=\"header border-b border-b-gray-500\">\n",
       "            \n",
       "                <svg xmlns=\"http://www.w3.org/2000/svg\" width=\"60\" height=\"30\" viewBox=\"0 0 30 15\" fill=\"none\" id=\"gsk-logo\">\n",
       "                    <path fill=\"#fff\" fill-rule=\"evenodd\"\n",
       "                        d=\"M22.504 1.549a4.196 4.196 0 0 1 2.573-.887v.002a3.783 3.783 0 0 1 2.706 1.086 3.783 3.783 0 0 1 1.126 2.69 3.771 3.771 0 0 1-1.126 2.69 3.77 3.77 0 0 1-2.706 1.085l-4.794.011-2.533 3.467L8.203 15l2.881-3.335a9.829 9.829 0 0 1-4.663-1.68H3.185L0 7.163h3.934C4.263 3.165 8.187 0 12.96 0c2.24 0 4.489.696 6.175 1.909a7.423 7.423 0 0 1 1.882 1.919 4.194 4.194 0 0 1 1.487-2.28ZM7.05 3.249l3.91 3.915h1.505L7.89 2.584a7.773 7.773 0 0 0-.84.665Zm4.079-2.008 5.923 5.923h1.503l-6.086-6.087c-.45.023-.898.078-1.34.164ZM4.574 8.226h-1.77l.784.693h1.584a8.454 8.454 0 0 1-.598-.693Zm9.479 0H5.984c1.469 1.477 3.656 2.377 5.977 2.422l2.092-2.422Zm-2.458 4.472 5.492-1.902 1.878-2.569h-3.508l-3.862 4.47Zm10.361-5.552h3.265a2.714 2.714 0 0 0 1.747-4.648 2.711 2.711 0 0 0-1.888-.773 3.127 3.127 0 0 0-3.123 3.124v2.297Zm3.659-3.73a.677.677 0 1 1-.134 1.348.677.677 0 0 1 .134-1.348Z\"\n",
       "                        clip-rule=\"evenodd\" />\n",
       "                </svg>\n",
       "            <h1>RAG Evaluation Toolkit</h1>\n",
       "        </div>\n",
       "        \n",
       "        <div class=\"section-container\">\n",
       "            <div class=\"components-container\">\n",
       "                \n",
       "                <div class=\"component-card\">\n",
       "                    <div class=\"component-title\">GENERATOR</div>\n",
       "                    <div class=\"component-value tooltip  text-orange \">\n",
       "                        66.67%\n",
       "                            <span class=\"tooltiptext\" id=\"fade\">The Generator is the LLM inside the RAG to generate the answers.</span>\n",
       "                    </div>\n",
       "                    <div class=\"component-bar\">\n",
       "                        <progress max=\"100\" value=66.66666666666666 class=\" progress-orange \">66.67%</progress>\n",
       "                    </div>\n",
       "                </div>\n",
       "                \n",
       "                <div class=\"component-card\">\n",
       "                    <div class=\"component-title\">RETRIEVER</div>\n",
       "                    <div class=\"component-value tooltip  text-orange \">\n",
       "                        50.0%\n",
       "                            <span class=\"tooltiptext\" id=\"fade\">The Retriever fetches relevant documents from the knowledge base according to a user query.</span>\n",
       "                    </div>\n",
       "                    <div class=\"component-bar\">\n",
       "                        <progress max=\"100\" value=50.0 class=\" progress-orange \">50.0%</progress>\n",
       "                    </div>\n",
       "                </div>\n",
       "                \n",
       "                <div class=\"component-card\">\n",
       "                    <div class=\"component-title\">REWRITER</div>\n",
       "                    <div class=\"component-value tooltip  text-green \">\n",
       "                        100.0%\n",
       "                            <span class=\"tooltiptext\" id=\"fade\">The Rewriter modifies the user query to match a predefined format or to include the context from the chat history.</span>\n",
       "                    </div>\n",
       "                    <div class=\"component-bar\">\n",
       "                        <progress max=\"100\" value=100.0 class=\" progress-green \">100.0%</progress>\n",
       "                    </div>\n",
       "                </div>\n",
       "                \n",
       "                <div class=\"component-card\">\n",
       "                    <div class=\"component-title\">ROUTING</div>\n",
       "                    <div class=\"component-value tooltip  text-green \">\n",
       "                        100.0%\n",
       "                            <span class=\"tooltiptext\" id=\"fade\">The Router filters the query of the user based on his intentions (intentions detection).</span>\n",
       "                    </div>\n",
       "                    <div class=\"component-bar\">\n",
       "                        <progress max=\"100\" value=100.0 class=\" progress-green \">100.0%</progress>\n",
       "                    </div>\n",
       "                </div>\n",
       "                \n",
       "                <div class=\"component-card\">\n",
       "                    <div class=\"component-title\">KNOWLEDGE_BASE</div>\n",
       "                    <div class=\"component-value tooltip  text-green \">\n",
       "                        100.0%\n",
       "                            <span class=\"tooltiptext\" id=\"fade\">The knowledge base is the set of documents given to the RAG to generate the answers. Its scores is computed differently from the other components: it is the difference between the maximum and minimum correctness score across all the topics of the knowledge base.</span>\n",
       "                    </div>\n",
       "                    <div class=\"component-bar\">\n",
       "                        <progress max=\"100\" value=100.0 class=\" progress-green \">100.0%</progress>\n",
       "                    </div>\n",
       "                </div>\n",
       "                \n",
       "                <div class=\"overall-card\">\n",
       "                    <div class=\"overall-title\">Overall Correctness Score</div>\n",
       "                    <div class=\"overall-value\">66%</div>\n",
       "                </div>\n",
       "            </div>\n",
       "        </div>\n",
       "\n",
       "        <div class=\"section-container\">\n",
       "            <div class=\"section-card\">\n",
       "                <div class=\"section-title\">RECOMMENDATION</div>\n",
       "                <span class=\"section-content\"> Improve the performance of the simple questions and diversify the knowledge base for the &#39;Others&#39; topic to achieve better overall scores across all question types.</span>\n",
       "            </div>\n",
       "        </div>\n",
       "\n",
       "        <div class=\"section-container\">\n",
       "            <div class=\"section-card\">\n",
       "                <div class=\"section-title\">CORRECTNESS BY TOPIC</div>\n",
       "                    <script type=\"text/javascript\">\n",
       "        (function() {\n",
       "  const fn = function() {\n",
       "    Bokeh.safely(function() {\n",
       "      (function(root) {\n",
       "        function embed_document(root) {\n",
       "        const docs_json = '{\"a4220c73-1180-488a-bf82-6a31f64e30c8\":{\"version\":\"3.4.3\",\"title\":\"Bokeh Application\",\"roots\":[{\"type\":\"object\",\"name\":\"Figure\",\"id\":\"p1179\",\"attributes\":{\"height\":350,\"width_policy\":\"max\",\"x_range\":{\"type\":\"object\",\"name\":\"DataRange1d\",\"id\":\"p1181\",\"attributes\":{\"start\":0}},\"y_range\":{\"type\":\"object\",\"name\":\"FactorRange\",\"id\":\"p1188\",\"attributes\":{\"factors\":[\"Others\"]}},\"x_scale\":{\"type\":\"object\",\"name\":\"LinearScale\",\"id\":\"p1189\"},\"y_scale\":{\"type\":\"object\",\"name\":\"CategoricalScale\",\"id\":\"p1190\"},\"title\":{\"type\":\"object\",\"name\":\"Title\",\"id\":\"p1186\",\"attributes\":{\"text_color\":\"#E0E0E0\",\"text_font\":\"Helvetica\",\"text_font_size\":\"14pt\"}},\"outline_line_color\":\"#E0E0E0\",\"outline_line_alpha\":0.25,\"renderers\":[{\"type\":\"object\",\"name\":\"GlyphRenderer\",\"id\":\"p1208\",\"attributes\":{\"data_source\":{\"type\":\"object\",\"name\":\"ColumnDataSource\",\"id\":\"p1176\",\"attributes\":{\"selected\":{\"type\":\"object\",\"name\":\"Selection\",\"id\":\"p1177\",\"attributes\":{\"indices\":[],\"line_indices\":[]}},\"selection_policy\":{\"type\":\"object\",\"name\":\"UnionRenderers\",\"id\":\"p1178\"},\"data\":{\"type\":\"map\",\"entries\":[[\"correctness\",{\"type\":\"ndarray\",\"array\":{\"type\":\"bytes\",\"data\":\"qqqqqqqqUEA=\"},\"shape\":[1],\"dtype\":\"float64\",\"order\":\"little\"}],[\"metadata_values\",[\"Others\"]],[\"colors\",[\"#a50026\"]]]}}},\"view\":{\"type\":\"object\",\"name\":\"CDSView\",\"id\":\"p1209\",\"attributes\":{\"filter\":{\"type\":\"object\",\"name\":\"AllIndices\",\"id\":\"p1210\"}}},\"glyph\":{\"type\":\"object\",\"name\":\"HBar\",\"id\":\"p1205\",\"attributes\":{\"y\":{\"type\":\"field\",\"field\":\"metadata_values\"},\"height\":{\"type\":\"value\",\"value\":0.85},\"right\":{\"type\":\"field\",\"field\":\"correctness\"},\"line_color\":{\"type\":\"value\",\"value\":\"#1f77b4\"},\"fill_color\":{\"type\":\"value\",\"value\":\"#14191B\"}}},\"nonselection_glyph\":{\"type\":\"object\",\"name\":\"HBar\",\"id\":\"p1206\",\"attributes\":{\"y\":{\"type\":\"field\",\"field\":\"metadata_values\"},\"height\":{\"type\":\"value\",\"value\":0.85},\"right\":{\"type\":\"field\",\"field\":\"correctness\"},\"line_color\":{\"type\":\"value\",\"value\":\"#1f77b4\"},\"line_alpha\":{\"type\":\"value\",\"value\":0.1},\"fill_color\":{\"type\":\"value\",\"value\":\"#14191B\"},\"fill_alpha\":{\"type\":\"value\",\"value\":0.1},\"hatch_alpha\":{\"type\":\"value\",\"value\":0.1}}},\"muted_glyph\":{\"type\":\"object\",\"name\":\"HBar\",\"id\":\"p1207\",\"attributes\":{\"y\":{\"type\":\"field\",\"field\":\"metadata_values\"},\"height\":{\"type\":\"value\",\"value\":0.85},\"right\":{\"type\":\"field\",\"field\":\"correctness\"},\"line_color\":{\"type\":\"value\",\"value\":\"#1f77b4\"},\"line_alpha\":{\"type\":\"value\",\"value\":0.2},\"fill_color\":{\"type\":\"value\",\"value\":\"#14191B\"},\"fill_alpha\":{\"type\":\"value\",\"value\":0.2},\"hatch_alpha\":{\"type\":\"value\",\"value\":0.2}}}}},{\"type\":\"object\",\"name\":\"GlyphRenderer\",\"id\":\"p1217\",\"attributes\":{\"data_source\":{\"id\":\"p1176\"},\"view\":{\"type\":\"object\",\"name\":\"CDSView\",\"id\":\"p1218\",\"attributes\":{\"filter\":{\"type\":\"object\",\"name\":\"AllIndices\",\"id\":\"p1219\"}}},\"glyph\":{\"type\":\"object\",\"name\":\"HBar\",\"id\":\"p1214\",\"attributes\":{\"y\":{\"type\":\"field\",\"field\":\"metadata_values\"},\"height\":{\"type\":\"value\",\"value\":0.85},\"right\":{\"type\":\"field\",\"field\":\"correctness\"},\"line_color\":{\"type\":\"value\",\"value\":\"white\"},\"line_width\":{\"type\":\"value\",\"value\":2},\"fill_color\":{\"type\":\"value\",\"value\":\"#78BBFA\"},\"fill_alpha\":{\"type\":\"value\",\"value\":0.7}}},\"nonselection_glyph\":{\"type\":\"object\",\"name\":\"HBar\",\"id\":\"p1215\",\"attributes\":{\"y\":{\"type\":\"field\",\"field\":\"metadata_values\"},\"height\":{\"type\":\"value\",\"value\":0.85},\"right\":{\"type\":\"field\",\"field\":\"correctness\"},\"line_color\":{\"type\":\"value\",\"value\":\"white\"},\"line_alpha\":{\"type\":\"value\",\"value\":0.1},\"line_width\":{\"type\":\"value\",\"value\":2},\"fill_color\":{\"type\":\"value\",\"value\":\"#78BBFA\"},\"fill_alpha\":{\"type\":\"value\",\"value\":0.1},\"hatch_alpha\":{\"type\":\"value\",\"value\":0.1}}},\"muted_glyph\":{\"type\":\"object\",\"name\":\"HBar\",\"id\":\"p1216\",\"attributes\":{\"y\":{\"type\":\"field\",\"field\":\"metadata_values\"},\"height\":{\"type\":\"value\",\"value\":0.85},\"right\":{\"type\":\"field\",\"field\":\"correctness\"},\"line_color\":{\"type\":\"value\",\"value\":\"white\"},\"line_alpha\":{\"type\":\"value\",\"value\":0.2},\"line_width\":{\"type\":\"value\",\"value\":2},\"fill_color\":{\"type\":\"value\",\"value\":\"#78BBFA\"},\"fill_alpha\":{\"type\":\"value\",\"value\":0.2},\"hatch_alpha\":{\"type\":\"value\",\"value\":0.2}}}}},{\"type\":\"object\",\"name\":\"GlyphRenderer\",\"id\":\"p1227\",\"attributes\":{\"visible\":false,\"data_source\":{\"type\":\"object\",\"name\":\"ColumnDataSource\",\"id\":\"p1221\",\"attributes\":{\"selected\":{\"type\":\"object\",\"name\":\"Selection\",\"id\":\"p1222\",\"attributes\":{\"indices\":[],\"line_indices\":[]}},\"selection_policy\":{\"type\":\"object\",\"name\":\"UnionRenderers\",\"id\":\"p1223\"},\"data\":{\"type\":\"map\",\"entries\":[[\"x\",[0]],[\"y\",[0]]]}}},\"view\":{\"type\":\"object\",\"name\":\"CDSView\",\"id\":\"p1228\",\"attributes\":{\"filter\":{\"type\":\"object\",\"name\":\"AllIndices\",\"id\":\"p1229\"}}},\"glyph\":{\"type\":\"object\",\"name\":\"Line\",\"id\":\"p1224\",\"attributes\":{\"x\":{\"type\":\"field\",\"field\":\"x\"},\"y\":{\"type\":\"field\",\"field\":\"y\"},\"line_color\":\"#EA3829\",\"line_width\":2,\"line_dash\":[6]}},\"nonselection_glyph\":{\"type\":\"object\",\"name\":\"Line\",\"id\":\"p1225\",\"attributes\":{\"x\":{\"type\":\"field\",\"field\":\"x\"},\"y\":{\"type\":\"field\",\"field\":\"y\"},\"line_color\":\"#EA3829\",\"line_alpha\":0.1,\"line_width\":2,\"line_dash\":[6]}},\"muted_glyph\":{\"type\":\"object\",\"name\":\"Line\",\"id\":\"p1226\",\"attributes\":{\"x\":{\"type\":\"field\",\"field\":\"x\"},\"y\":{\"type\":\"field\",\"field\":\"y\"},\"line_color\":\"#EA3829\",\"line_alpha\":0.2,\"line_width\":2,\"line_dash\":[6]}}}}],\"toolbar\":{\"type\":\"object\",\"name\":\"Toolbar\",\"id\":\"p1187\",\"attributes\":{\"tools\":[{\"type\":\"object\",\"name\":\"HoverTool\",\"id\":\"p1201\",\"attributes\":{\"renderers\":\"auto\",\"tooltips\":[[\"topic\",\"@metadata_values\"],[\"Correctness\",\"@correctness{0.00}\"]]}}]}},\"toolbar_location\":null,\"left\":[{\"type\":\"object\",\"name\":\"CategoricalAxis\",\"id\":\"p1196\",\"attributes\":{\"ticker\":{\"type\":\"object\",\"name\":\"CategoricalTicker\",\"id\":\"p1197\"},\"formatter\":{\"type\":\"object\",\"name\":\"CategoricalTickFormatter\",\"id\":\"p1198\"},\"axis_label_standoff\":10,\"axis_label_text_color\":\"#E0E0E0\",\"axis_label_text_font\":\"Helvetica\",\"axis_label_text_font_size\":\"1.25em\",\"axis_label_text_font_style\":\"normal\",\"major_label_policy\":{\"type\":\"object\",\"name\":\"AllLabels\",\"id\":\"p1199\"},\"major_label_text_color\":\"#E0E0E0\",\"major_label_text_font\":\"Helvetica\",\"major_label_text_font_size\":\"1.025em\",\"axis_line_color\":\"#E0E0E0\",\"axis_line_alpha\":0,\"major_tick_line_color\":\"#E0E0E0\",\"major_tick_line_alpha\":0,\"minor_tick_line_color\":\"#E0E0E0\",\"minor_tick_line_alpha\":0}}],\"below\":[{\"type\":\"object\",\"name\":\"LinearAxis\",\"id\":\"p1191\",\"attributes\":{\"ticker\":{\"type\":\"object\",\"name\":\"BasicTicker\",\"id\":\"p1192\",\"attributes\":{\"mantissas\":[1,2,5]}},\"formatter\":{\"type\":\"object\",\"name\":\"BasicTickFormatter\",\"id\":\"p1193\"},\"axis_label\":\"Correctness (%)\",\"axis_label_standoff\":10,\"axis_label_text_color\":\"#E0E0E0\",\"axis_label_text_font\":\"Helvetica\",\"axis_label_text_font_size\":\"1.25em\",\"axis_label_text_font_style\":\"normal\",\"major_label_policy\":{\"type\":\"object\",\"name\":\"AllLabels\",\"id\":\"p1194\"},\"major_label_text_color\":\"#E0E0E0\",\"major_label_text_font\":\"Helvetica\",\"major_label_text_font_size\":\"1.025em\",\"axis_line_color\":\"#E0E0E0\",\"axis_line_alpha\":0,\"major_tick_line_color\":\"#E0E0E0\",\"major_tick_line_alpha\":0,\"minor_tick_line_color\":\"#E0E0E0\",\"minor_tick_line_alpha\":0}}],\"center\":[{\"type\":\"object\",\"name\":\"Grid\",\"id\":\"p1195\",\"attributes\":{\"axis\":{\"id\":\"p1191\"},\"grid_line_color\":\"#E0E0E0\",\"grid_line_alpha\":0.25}},{\"type\":\"object\",\"name\":\"Grid\",\"id\":\"p1200\",\"attributes\":{\"dimension\":1,\"axis\":{\"id\":\"p1196\"},\"grid_line_color\":\"#E0E0E0\",\"grid_line_alpha\":0.25}},{\"type\":\"object\",\"name\":\"Span\",\"id\":\"p1220\",\"attributes\":{\"location\":66.66666666666666,\"dimension\":\"height\",\"line_color\":\"#EA3829\",\"line_width\":2,\"line_dash\":[6]}},{\"type\":\"object\",\"name\":\"Legend\",\"id\":\"p1230\",\"attributes\":{\"border_line_alpha\":0,\"background_fill_color\":\"#111516\",\"background_fill_alpha\":0.5,\"label_text_color\":\"#E0E0E0\",\"label_text_font\":\"Helvetica\",\"label_text_font_size\":\"1.025em\",\"label_standoff\":8,\"glyph_width\":15,\"spacing\":8,\"items\":[{\"type\":\"object\",\"name\":\"LegendItem\",\"id\":\"p1231\",\"attributes\":{\"label\":{\"type\":\"value\",\"value\":\"Correctness on the entire Testset\"},\"renderers\":[{\"id\":\"p1227\"}]}}]}}],\"background_fill_color\":\"#14191B\",\"border_fill_color\":\"#15191C\"}}]}}';\n",
       "        const render_items = [{\"docid\":\"a4220c73-1180-488a-bf82-6a31f64e30c8\",\"roots\":{\"p1179\":\"f406ee4c-0724-47d8-92b9-103b06afedad\"},\"root_ids\":[\"p1179\"]}];\n",
       "        root.Bokeh.embed.embed_items(docs_json, render_items);\n",
       "        }\n",
       "        if (root.Bokeh !== undefined) {\n",
       "          embed_document(root);\n",
       "        } else {\n",
       "          let attempts = 0;\n",
       "          const timer = setInterval(function(root) {\n",
       "            if (root.Bokeh !== undefined) {\n",
       "              clearInterval(timer);\n",
       "              embed_document(root);\n",
       "            } else {\n",
       "              attempts++;\n",
       "              if (attempts > 100) {\n",
       "                clearInterval(timer);\n",
       "                console.log(\"Bokeh: ERROR: Unable to run BokehJS code because BokehJS library is missing\");\n",
       "              }\n",
       "            }\n",
       "          }, 10, root)\n",
       "        }\n",
       "      })(window);\n",
       "    });\n",
       "  };\n",
       "  if (document.readyState != \"loading\") fn();\n",
       "  else document.addEventListener(\"DOMContentLoaded\", fn);\n",
       "})();\n",
       "    </script>\n",
       "\n",
       "                <div id=\"f406ee4c-0724-47d8-92b9-103b06afedad\" data-root-id=\"p1179\" style=\"display: contents;\"></div>\n",
       "            </div>\n",
       "        </div>\n",
       "\n",
       "        <div class=\"section-container\">\n",
       "            <div class=\"section-card\">\n",
       "                <div class=\"section-title\">KNOWLEDGE BASE OVERVIEW</div>\n",
       "                    <script type=\"text/javascript\">\n",
       "        (function() {\n",
       "  const fn = function() {\n",
       "    Bokeh.safely(function() {\n",
       "      (function(root) {\n",
       "        function embed_document(root) {\n",
       "        const docs_json = '{\"c1309a3f-3fae-42b8-a7db-e03f2aedbc2d\":{\"version\":\"3.4.3\",\"title\":\"Bokeh Application\",\"roots\":[{\"type\":\"object\",\"name\":\"Tabs\",\"id\":\"p1112\",\"attributes\":{\"sizing_mode\":\"stretch_width\",\"tabs\":[{\"type\":\"object\",\"name\":\"TabPanel\",\"id\":\"p1049\",\"attributes\":{\"title\":\"Topic exploration\",\"child\":{\"type\":\"object\",\"name\":\"Figure\",\"id\":\"p1004\",\"attributes\":{\"sizing_mode\":\"stretch_width\",\"x_range\":{\"type\":\"object\",\"name\":\"Range1d\",\"id\":\"p1013\",\"attributes\":{\"start\":18.020662307739258,\"end\":24.37382698059082}},\"y_range\":{\"type\":\"object\",\"name\":\"Range1d\",\"id\":\"p1014\",\"attributes\":{\"start\":-27.696813106536865,\"end\":-21.731892108917236}},\"x_scale\":{\"type\":\"object\",\"name\":\"LinearScale\",\"id\":\"p1015\"},\"y_scale\":{\"type\":\"object\",\"name\":\"LinearScale\",\"id\":\"p1016\"},\"title\":{\"type\":\"object\",\"name\":\"Title\",\"id\":\"p1011\",\"attributes\":{\"text_color\":\"#E0E0E0\",\"text_font\":\"Helvetica\",\"text_font_size\":\"14pt\"}},\"outline_line_color\":\"#E0E0E0\",\"outline_line_alpha\":0.25,\"renderers\":[{\"type\":\"object\",\"name\":\"GlyphRenderer\",\"id\":\"p1044\",\"attributes\":{\"data_source\":{\"type\":\"object\",\"name\":\"ColumnDataSource\",\"id\":\"p1001\",\"attributes\":{\"selected\":{\"type\":\"object\",\"name\":\"Selection\",\"id\":\"p1002\",\"attributes\":{\"indices\":[],\"line_indices\":[]}},\"selection_policy\":{\"type\":\"object\",\"name\":\"UnionRenderers\",\"id\":\"p1003\"},\"data\":{\"type\":\"map\",\"entries\":[[\"x\",{\"type\":\"ndarray\",\"array\":{\"type\":\"bytes\",\"data\":\"up2mQTkYoUFWcqlBngGhQUCKpkGJc51BzDqbQaR0qUGZtJFBpKyZQZoIn0HfgJNBEi2WQRl7lUEtJqpBOYKwQScQsEEi2axB+YedQa0rpEE=\"},\"shape\":[20],\"dtype\":\"float32\",\"order\":\"little\"}],[\"y\",{\"type\":\"ndarray\",\"array\":{\"type\":\"bytes\",\"data\":\"E0O9wew7xcEM6MzBNjrOwUvxyMFdFb/B/tjGwV/cw8FoxM7BgpDNwbHN1MHDHMjBDJ/VwZ9vv8GZutPB/STOwXn5xcGHn7vBzLq4wfHOtcE=\"},\"shape\":[20],\"dtype\":\"float32\",\"order\":\"little\"}],[\"topic\",[\"Others\",\"Others\",\"Others\",\"Others\",\"Others\",\"Others\",\"Others\",\"Others\",\"Others\",\"Others\",\"Others\",\"Others\",\"Others\",\"Others\",\"Others\",\"Others\",\"Others\",\"Others\",\"Others\",\"Others\"]],[\"id\",[0,1,2,3,4,5,6,7,8,9,10,11,12,13,14,15,16,17,18,19]],[\"content\",[\"DISULFIRAM- disulfiram tablet Alvogen Inc.\\\\n\\\\n----------\\\\n\\\\nDisulfiram Tablets, USP IN ALCOHOLISM\\\\n\\\\nRx only\\\\n\\\\nWARNING\\\\n\\\\nDisulfiram should never be administered to a patient when he is in a state of alcohol intoxication, or without his full knowledge. The physician should instruct relatives accordingly.\\\\n\\\\nDESCRIPTION\\\\n\\\\nDisulfiram is an alcohol antagonist drug.\\\\n\\\\nCHEMICAL NAME:\\\\n\\\\nbis(diethylthiocarbamoyl) disulfide.\\\\n\\\\nSTRUCTURAL FORMULA:\\\\n\\\\nDisulfiram occurs as a white to off-white, odorless, and almost tastele...\",\"Disulfiram produces a sensitivity to alcohol which results in a highly unpleasant reaction when the patient under treatment ingests even small amounts of alcohol.\\\\n\\\\nDisulfiram blocks the oxidation of alcohol at the acetaldehyde stage. During alcohol metabolism following disulfiram intake, the concentration of acetaldehyde occurring in the blood may be 5 to 10 times higher than that found during metabolism of the same\\\\n\\\\namount of alcohol alone.\\\\n\\\\nAccumulation of acetaldehyde in the blood produces a ...\",\"Disulfiram is absorbed slowly from the gastrointestinal tract and is eliminated slowly from the body. One (or even two) weeks after a patient has taken his last dose of disulfiram, ingestion of alcohol may produce unpleasant symptoms.\\\\n\\\\nProlonged administration of disulfiram does not produce tolerance; the longer a patient remains on therapy, the more exquisitely sensitive he becomes to alcohol.\\\\n\\\\nINDICATIONS AND USAGE\\\\n\\\\nDisulfiram is an aid in the management of selected chronic alcohol patients wh...\",\"CONTRAINDICATIONS\\\\n\\\\nPatients who are receiving or have recently received metronidazole, paraldehyde, alcohol, or alcohol-containing preparations, e.g., cough syrups, tonics and the like, should not be given disulfiram.\\\\n\\\\nDisulfiram is contraindicated in the presence of severe myocardial disease or coronary occlusion, psychoses, and hypersensitivity to disulfiram or to other thiuram derivatives used in pesticides and rubber vulcanization.\\\\n\\\\nWARNINGS\\\\n\\\\nDisulfiram should never be administered to a pati...\",\"The patient must be fully informed of the disulfiram-alcohol reaction. He must be strongly cautioned against surreptitious drinking while taking the drug, and he must be fully aware of the possible consequences. He should be warned to avoid alcohol in disguised forms, i.e., in sauces, vinegars, cough mixtures, and even in aftershave lotions and back rubs. He should also be warned that reactions may occur with alcohol up to 14 days after ingesting disulfiram.\\\\n\\\\nThe Disulfiram-Alcohol Reaction\",\"Disulfiram plus alcohol, even small amounts, produce flushing, throbbing in head and neck, throbbing headache, respiratory difficulty, nausea, copious vomiting, sweating, thirst, chest pain, palpitation, dyspnea, hyperventilation, tachycardia, hypotension, syncope, marked uneasiness, weakness, vertigo, blurred vision, and confusion. In severe reactions there may be respiratory depression, cardiovascular collapse, arrhythmias, myocardial infarction, acute congestive heart failure, unconsciousness...\",\"The duration of the reaction varies from 30 to 60 minutes, to several hours in the more severe cases, or as long as there is alcohol in the blood.\\\\n\\\\nConcomitant Conditions\\\\n\\\\nBecause of the possibility of an accidental disulfiram-alcohol reaction, disulfiram should be used with extreme caution in patients with any of the following conditions: diabetes mellitus, hypothyroidism, epilepsy, cerebral damage, chronic and acute nephritis, hepatic cirrhosis or insufficiency.\\\\n\\\\nPRECAUTIONS\\\\n\\\\nPatients with a h...\",\"It is suggested that every patient under treatment carry an Identification Card stating that he is receiving disulfiram and describing the symptoms most likely to occur as a result of the disulfiram-alcohol reaction. In addition, this card should indicate the physician or institution to be contacted in an emergency. (Cards may be obtained from Alvogen, Inc. upon request.)\\\\n\\\\nAlcoholism may accompany or be followed by dependence on narcotics or sedatives. Barbiturates and disulfiram have been admin...\",\"Hepatic toxicity including hepatic failure resulting in transplantation or death have been reported. Severe and sometimes fatal hepatitis associated with disulfiram therapy may develop even after many months of therapy. Hepatic toxicity has occurred in patients with or without prior history of abnormal liver function. Patients should be advised to immediately notify their physician of any early symptoms of hepatitis, such as fatigue, weakness, malaise, anorexia, nausea, vomiting, jaundice, or da...\",\"Patients taking disulfiram tablets should not be exposed to ethylene dibromide or its vapors. This precaution is based on preliminary results of animal research currently in progress that suggest a toxic interaction between inhaled ethylene dibromide and\\\\n\\\\ningested disulfiram resulting in a higher incidence of tumors and mortality in rats. A correlation between this finding and humans, however, has not been demonstrated.\\\\n\\\\nDrug Interactions\\\\n\\\\nDisulfiram appears to decrease the rate at which certain...\",\"DISULFIRAM SHOULD BE USED WITH CAUTION IN THOSE PATIENTS RECEIVING PHENYTOIN AND ITS CONGENERS, SINCE THE CONCOMITANT ADMINISTRATION OF THESE TWO DRUGS CAN LEAD TO PHENYTOIN INTOXICATION. PRIOR TO ADMINISTERING DISULFIRAM TO A PATIENT ON PHENYTOIN THERAPY, A BASELINE PHENYTOIN SERUM LEVEL SHOULD BE OBTAINED. SUBSEQUENT TO INITIATION OF DISULFIRAM THERAPY, SERUM LEVELS OF PHENYTOIN SHOULD BE DETERMINED ON DIFFERENT DAYS FOR EVIDENCE OF AN INCREASE OR FOR A CONTINUING RISE IN LEVELS. INCREASED PHE...\",\"In rats, simultaneous ingestion of disulfiram and nitrite in the diet for 78 weeks has been reported to cause tumors, and it has been suggested that disulfiram may react with nitrites in the rat stomach to form a nitrosamine, which is tumorigenic. Disulfiram alone in the rat&#x27;s diet did not lead to such tumors. The relevance of this finding to humans is not known at this time.\\\\n\\\\nUsage In Pregnancy\\\\n\\\\nThe safe use of this drug in pregnancy has not been established. Therefore, disulfiram should be use...\",\"Geriatric Use\\\\n\\\\nA determination has not been made whether controlled clinical studies of disulfiram included sufficient numbers of subjects aged 65 and over to define a difference in response from younger subjects. Other reported clinical experience has not identified differences in responses between the elderly and younger patients. In general, dose selection for an elderly patient should be cautious, usually starting at the low end of the\\\\n\\\\ndosing range, reflecting the greater frequency of decre...\",\"Occasional skin eruptions are, as a rule, readily controlled by concomitant administration of an antihistaminic drug.\\\\n\\\\nIn a small number of patients, a transient mild drowsiness, fatigability, impotence, headache, acneform eruptions, allergic dermatitis, or a metallic or garlic-like aftertaste may be experienced during the first two weeks of therapy. These complaints usually disappear spontaneously with the continuation of therapy, or with reduced dosage.\\\\n\\\\nPsychotic reactions have been noted, at...\",\"DOSAGE AND ADMINISTRATION\\\\n\\\\nDisulfiram should never be administered until the patient has abstained from alcohol for at least 12 hours.\\\\n\\\\nInitial Dosage Schedule\\\\n\\\\nIn the first phase of treatment, a maximum of 500 mg daily is given in a single dose for one to two weeks. Although usually taken in the morning, disulfiram may be taken on retiring by patients who experience a sedative effect. Alternatively, to minimize, or eliminate, the sedative effect, dosage may be adjusted downward.\\\\n\\\\nMaintenance Re...\",\"presumed to be disposing of their tablets in some manner without actually taking them. Until such patients have been observed reliably taking their daily disulfiram tablets (preferably crushed and well mixed with liquid), it cannot be concluded that disulfiram is ineffective.\\\\n\\\\nDuration of Therapy\\\\n\\\\nThe daily, uninterrupted administration of disulfiram must be continued until the patient is fully recovered socially and a basis for permanent self-control is established. Depending on the individual ...\",\"However, where a test reaction is deemed necessary, the suggested procedure is as follows: After the first one to two weeks&#x27; therapy with 500 mg daily, a drink of 15 mL (1/2 oz) of 100 proof whiskey, or equivalent, is taken slowly. This test dose of alcoholic beverage may be repeated once only, so that the total dose does not exceed 30 mL (1 oz) of whiskey. Once a reaction develops, no more alcohol should be consumed. Such tests should be carried out only when the patient is hospitalized, or com...\",\"In severe reactions, whether caused by an excessive test dose or by the patient&#x27;s unsupervised ingestion of alcohol, supportive measures to restore blood pressure and treat shock should be instituted. Other recommendations include: oxygen, carbogen (95% oxygen and 5% carbon dioxide), vitamin C intravenously in massive doses (1 g) and ephedrine sulfate. Antihistamines have also been used intravenously. Potassium levels should be monitored, particularly in patients on digitalis, since hypokalemia ...\",\"WARNING: To the Physician: This is a potent drug; indiscriminate use may result in serious undesirable reactions. Before administering this product, physicians should familiarize themselves with the enclosed literature.\\\\n\\\\nTo the Pharmacist: When dispensing this product, include the following as part of the Rx labeling: WARNING: Administration of this drug without the full knowledge of the patient may result in serious complications.\\\\n\\\\n30 Tablets Rx only\\\\n\\\\nIMPORTANT MEDICAL INFORMATION PATIENT CARD\\\\n...\",\"STEARIC ACID (UNII: 4ELV7Z65AP)\\\\n\\\\nProduct Characteristics\\\\n\\\\nColor\\\\n\\\\nwhite\\\\n\\\\nScore\\\\n\\\\nShape\\\\n\\\\nROUND\\\\n\\\\nSize\\\\n\\\\nFlavor\\\\n\\\\nImprint Code\\\\n\\\\nContains\\\\n\\\\nPackaging\\\\n\\\\n# Item Code\\\\n\\\\nPackage Description\\\\n\\\\n1\\\\n\\\\nNDC:47781- 607-01\\\\n\\\\n100 in 1 BOTTLE; Type 0: Not a Combination Product\\\\n\\\\n2\\\\n\\\\nNDC:47781- 607-30\\\\n\\\\n30 in 1 BOTTLE, PLASTIC; Type 0: Not a Combination Product\\\\n\\\\nMarketing Information\\\\n\\\\nMarketing Category\\\\n\\\\nApplication Number or Monograph Citation\\\\n\\\\nANDA\\\\n\\\\nANDA091681\\\\n\\\\nLabeler - Alvogen Inc. (008057330)\\\\n\\\\nEstablishment\\\\n\\\\nItem Code (Sou...\"]],[\"color\",{\"type\":\"ndarray\",\"array\":[\"#999\",\"#999\",\"#999\",\"#999\",\"#999\",\"#999\",\"#999\",\"#999\",\"#999\",\"#999\",\"#999\",\"#999\",\"#999\",\"#999\",\"#999\",\"#999\",\"#999\",\"#999\",\"#999\",\"#999\"],\"shape\":[20],\"dtype\":\"object\",\"order\":\"little\"}]]}}},\"view\":{\"type\":\"object\",\"name\":\"CDSView\",\"id\":\"p1045\",\"attributes\":{\"filter\":{\"type\":\"object\",\"name\":\"AllIndices\",\"id\":\"p1046\"}}},\"glyph\":{\"type\":\"object\",\"name\":\"Scatter\",\"id\":\"p1041\",\"attributes\":{\"x\":{\"type\":\"field\",\"field\":\"x\"},\"y\":{\"type\":\"field\",\"field\":\"y\"},\"size\":{\"type\":\"value\",\"value\":6},\"line_color\":{\"type\":\"field\",\"field\":\"color\"},\"line_width\":{\"type\":\"value\",\"value\":2},\"fill_color\":{\"type\":\"field\",\"field\":\"color\"},\"fill_alpha\":{\"type\":\"value\",\"value\":0.7},\"hatch_color\":{\"type\":\"field\",\"field\":\"color\"},\"hatch_alpha\":{\"type\":\"value\",\"value\":0.7}}},\"nonselection_glyph\":{\"type\":\"object\",\"name\":\"Scatter\",\"id\":\"p1042\",\"attributes\":{\"x\":{\"type\":\"field\",\"field\":\"x\"},\"y\":{\"type\":\"field\",\"field\":\"y\"},\"size\":{\"type\":\"value\",\"value\":6},\"line_color\":{\"type\":\"field\",\"field\":\"color\"},\"line_alpha\":{\"type\":\"value\",\"value\":0.1},\"line_width\":{\"type\":\"value\",\"value\":2},\"fill_color\":{\"type\":\"field\",\"field\":\"color\"},\"fill_alpha\":{\"type\":\"value\",\"value\":0.1},\"hatch_color\":{\"type\":\"field\",\"field\":\"color\"},\"hatch_alpha\":{\"type\":\"value\",\"value\":0.1}}},\"muted_glyph\":{\"type\":\"object\",\"name\":\"Scatter\",\"id\":\"p1043\",\"attributes\":{\"x\":{\"type\":\"field\",\"field\":\"x\"},\"y\":{\"type\":\"field\",\"field\":\"y\"},\"size\":{\"type\":\"value\",\"value\":6},\"line_color\":{\"type\":\"field\",\"field\":\"color\"},\"line_alpha\":{\"type\":\"value\",\"value\":0.2},\"line_width\":{\"type\":\"value\",\"value\":2},\"fill_color\":{\"type\":\"field\",\"field\":\"color\"},\"fill_alpha\":{\"type\":\"value\",\"value\":0.2},\"hatch_color\":{\"type\":\"field\",\"field\":\"color\"},\"hatch_alpha\":{\"type\":\"value\",\"value\":0.2}}}}}],\"toolbar\":{\"type\":\"object\",\"name\":\"Toolbar\",\"id\":\"p1012\",\"attributes\":{\"logo\":\"grey\",\"tools\":[{\"type\":\"object\",\"name\":\"HoverTool\",\"id\":\"p1027\",\"attributes\":{\"renderers\":\"auto\",\"tooltips\":\"\\\\n    &lt;div style=\\\\\"width:400px;\\\\\"&gt;\\\\n    &lt;b&gt;Document id:&lt;/b&gt; @id &lt;br&gt;\\\\n    &lt;b&gt;Topic:&lt;/b&gt; @topic &lt;br&gt;\\\\n    &lt;b&gt;Document Content:&lt;/b&gt; @content\\\\n    &lt;/div&gt;\\\\n    \"}},{\"type\":\"object\",\"name\":\"PanTool\",\"id\":\"p1028\"},{\"type\":\"object\",\"name\":\"WheelZoomTool\",\"id\":\"p1029\",\"attributes\":{\"renderers\":\"auto\"}},{\"type\":\"object\",\"name\":\"BoxZoomTool\",\"id\":\"p1030\",\"attributes\":{\"overlay\":{\"type\":\"object\",\"name\":\"BoxAnnotation\",\"id\":\"p1031\",\"attributes\":{\"syncable\":false,\"level\":\"overlay\",\"visible\":false,\"left\":{\"type\":\"number\",\"value\":\"nan\"},\"right\":{\"type\":\"number\",\"value\":\"nan\"},\"top\":{\"type\":\"number\",\"value\":\"nan\"},\"bottom\":{\"type\":\"number\",\"value\":\"nan\"},\"left_units\":\"canvas\",\"right_units\":\"canvas\",\"top_units\":\"canvas\",\"bottom_units\":\"canvas\",\"line_color\":\"black\",\"line_alpha\":1.0,\"line_width\":2,\"line_dash\":[4,4],\"fill_color\":\"lightgrey\",\"fill_alpha\":0.5}}}},{\"type\":\"object\",\"name\":\"ResetTool\",\"id\":\"p1036\"},{\"type\":\"object\",\"name\":\"SaveTool\",\"id\":\"p1037\"}]}},\"left\":[{\"type\":\"object\",\"name\":\"LinearAxis\",\"id\":\"p1022\",\"attributes\":{\"ticker\":{\"type\":\"object\",\"name\":\"BasicTicker\",\"id\":\"p1023\",\"attributes\":{\"mantissas\":[1,2,5]}},\"formatter\":{\"type\":\"object\",\"name\":\"BasicTickFormatter\",\"id\":\"p1024\"},\"axis_label_standoff\":10,\"axis_label_text_color\":\"#E0E0E0\",\"axis_label_text_font\":\"Helvetica\",\"axis_label_text_font_size\":\"1.25em\",\"axis_label_text_font_style\":\"normal\",\"major_label_policy\":{\"type\":\"object\",\"name\":\"AllLabels\",\"id\":\"p1025\"},\"major_label_text_color\":\"#E0E0E0\",\"major_label_text_font\":\"Helvetica\",\"major_label_text_font_size\":\"1.025em\",\"axis_line_color\":\"#E0E0E0\",\"axis_line_alpha\":0,\"major_tick_line_color\":\"#E0E0E0\",\"major_tick_line_alpha\":0,\"minor_tick_line_color\":\"#E0E0E0\",\"minor_tick_line_alpha\":0}}],\"below\":[{\"type\":\"object\",\"name\":\"LinearAxis\",\"id\":\"p1017\",\"attributes\":{\"ticker\":{\"type\":\"object\",\"name\":\"BasicTicker\",\"id\":\"p1018\",\"attributes\":{\"mantissas\":[1,2,5]}},\"formatter\":{\"type\":\"object\",\"name\":\"BasicTickFormatter\",\"id\":\"p1019\"},\"axis_label_standoff\":10,\"axis_label_text_color\":\"#E0E0E0\",\"axis_label_text_font\":\"Helvetica\",\"axis_label_text_font_size\":\"1.25em\",\"axis_label_text_font_style\":\"normal\",\"major_label_policy\":{\"type\":\"object\",\"name\":\"AllLabels\",\"id\":\"p1020\"},\"major_label_text_color\":\"#E0E0E0\",\"major_label_text_font\":\"Helvetica\",\"major_label_text_font_size\":\"1.025em\",\"axis_line_color\":\"#E0E0E0\",\"axis_line_alpha\":0,\"major_tick_line_color\":\"#E0E0E0\",\"major_tick_line_alpha\":0,\"minor_tick_line_color\":\"#E0E0E0\",\"minor_tick_line_alpha\":0}}],\"center\":[{\"type\":\"object\",\"name\":\"Grid\",\"id\":\"p1021\",\"attributes\":{\"axis\":{\"id\":\"p1017\"},\"grid_line_color\":\"white\",\"grid_line_alpha\":0.25}},{\"type\":\"object\",\"name\":\"Grid\",\"id\":\"p1026\",\"attributes\":{\"dimension\":1,\"axis\":{\"id\":\"p1022\"},\"grid_line_color\":\"white\",\"grid_line_alpha\":0.25}},{\"type\":\"object\",\"name\":\"Legend\",\"id\":\"p1047\",\"attributes\":{\"title\":\"Knowledge Base Tospics\",\"title_text_color\":\"#B1B1B1\",\"title_text_font_style\":\"bold\",\"border_line_alpha\":0,\"background_fill_color\":\"#111516\",\"background_fill_alpha\":0.5,\"label_text_color\":\"#E0E0E0\",\"label_text_font\":\"Helvetica\",\"label_text_font_size\":\"1.025em\",\"label_standoff\":8,\"glyph_width\":15,\"spacing\":8,\"items\":[{\"type\":\"object\",\"name\":\"LegendItem\",\"id\":\"p1048\",\"attributes\":{\"label\":{\"type\":\"value\",\"value\":\"Others\"},\"renderers\":[{\"id\":\"p1044\"}],\"index\":0}}]}}],\"background_fill_color\":\"#14191B\",\"border_fill_color\":\"#15191C\"}}}},{\"type\":\"object\",\"name\":\"TabPanel\",\"id\":\"p1111\",\"attributes\":{\"title\":\"Failures\",\"child\":{\"type\":\"object\",\"name\":\"Figure\",\"id\":\"p1054\",\"attributes\":{\"sizing_mode\":\"stretch_width\",\"x_range\":{\"type\":\"object\",\"name\":\"Range1d\",\"id\":\"p1063\",\"attributes\":{\"start\":18.020662307739258,\"end\":24.37382698059082}},\"y_range\":{\"type\":\"object\",\"name\":\"Range1d\",\"id\":\"p1064\",\"attributes\":{\"start\":-27.696813106536865,\"end\":-21.731892108917236}},\"x_scale\":{\"type\":\"object\",\"name\":\"LinearScale\",\"id\":\"p1065\"},\"y_scale\":{\"type\":\"object\",\"name\":\"LinearScale\",\"id\":\"p1066\"},\"title\":{\"type\":\"object\",\"name\":\"Title\",\"id\":\"p1061\",\"attributes\":{\"text_color\":\"#E0E0E0\",\"text_font\":\"Helvetica\",\"text_font_size\":\"14pt\"}},\"outline_line_color\":\"#E0E0E0\",\"outline_line_alpha\":0.25,\"renderers\":[{\"type\":\"object\",\"name\":\"GlyphRenderer\",\"id\":\"p1093\",\"attributes\":{\"data_source\":{\"type\":\"object\",\"name\":\"ColumnDataSource\",\"id\":\"p1050\",\"attributes\":{\"selected\":{\"type\":\"object\",\"name\":\"Selection\",\"id\":\"p1051\",\"attributes\":{\"indices\":[],\"line_indices\":[]}},\"selection_policy\":{\"type\":\"object\",\"name\":\"UnionRenderers\",\"id\":\"p1052\"},\"data\":{\"type\":\"map\",\"entries\":[[\"x\",{\"type\":\"ndarray\",\"array\":{\"type\":\"bytes\",\"data\":\"VnKpQUCKpkG6naZB\"},\"shape\":[3],\"dtype\":\"float32\",\"order\":\"little\"}],[\"y\",{\"type\":\"ndarray\",\"array\":{\"type\":\"bytes\",\"data\":\"DOjMwUvxyMETQ73B\"},\"shape\":[3],\"dtype\":\"float32\",\"order\":\"little\"}],[\"topic\",[\"Others\",\"Others\",\"Others\"]],[\"correctness\",[false,true,true]],[\"questions\",[\"For which patient group is Disulfiram not recommended?\",\"In what specific conditions or medical histories should I exercise extreme caution when using Disulfiram, considering the possibility of an accidental disulfiram-alcohol reaction and its potential consequences?\",\"Can Disulfiram Tablets be administered intravenously or only orally? And are there any specific precautions to consider before administering it, such as avoiding alcohol intoxication or informing relatives?\"]],[\"agent_answer\",[\"Based on the context provided, Disulfiram is not recommended for patients over 50 years of age. According to the document, \\\\\"During early experience with disulfiram, it was thought advisable for each patient to have at least one supervised alcohol-drug reaction. More recently, the test reaction has been largely abandoned. Furthermore, such a test reaction should never be administered to a patient over 50 years of age.\\\\\"\",\"Based on the provided context, it appears that you are asking for the specific conditions or medical histories where disulfiram should be used with extreme caution due to the possibility of an accidental disulfiram-alcohol reaction and its potential consequences.\\\\n\\\\nFrom the document, it is recommended to exercise extreme caution when using disulfiram in patients with the following conditions:\\\\n\\\\n1. Diabetes mellitus: Disulfiram can cause hypoglycemia (low blood sugar) when combined with alcohol, which can be dangerous for diabetic patients.\\\\n2. Hypothyroidism: Disulfiram can exacerbate hypothyroidism (underactive thyroid) by interfering with the metabolism of thyroid hormones.\\\\n3. Epilepsy: Disulfiram can lower the seizure threshold, and alcohol can trigger seizures in patients with epilepsy.\\\\n4. Cerebral damage: Disulfiram can worsen cognitive function and seizures in patients with cerebral damage.\\\\n5. Chronic and acute nephritis: Disulfiram can worsen kidney function and increase the risk of renal damage.\\\\n6. Hepatic cirrhosis or insufficiency: Disulfiram can exacerbate liver disease and increase the risk of hepatic encephalopathy.\\\\n7. Rubber contact dermatitis: Patients with a history of rubber contact dermatitis may be hypersensitive to thiuram derivatives, including disulfiram.\",\"I can answer the question based on the provided context. According to the information in the documents, Disulfiram Tablets should only be administered orally and not intravenously. Additionally, there are specific precautions to consider before administering it, such as avoiding alcohol intoxication and informing relatives.\\\\n\\\\nThe document \\\\\"Disulfiram- disulfiram tablet Alvogen Inc.\\\\\" states that Disulfiram Tablets should be taken orally and not intravenously (Page 1). The document \\\\\"CLINICAL PHARMACOLOGY\\\\\" also confirms that disulfiram is absorbed slowly from the gastrointestinal tract and eliminated slowly from the body, which suggests that it should only be taken orally (Page 2).\\\\n\\\\nFurthermore, the document \\\\\"INDICATIONS AND USAGE\\\\\" highlights that Disulfiram is not a cure for alcoholism, but rather an aid in the management of selected chronic alcohol patients who want to remain in a state of enforced sobriety (Page 3). This suggests that disulfiram should only be used as part of a comprehensive treatment plan that includes supportive and psychotherapeutic treatment.\\\\n\\\\nFinally, the document \\\\\"WARNING\\\\\" states that disulfiram should never be administered to a patient when he is in a state of alcohol intoxication, or without his full knowledge (Page 4). This suggests that healthcare providers should take precautions to ensure that patients are not given disulfiram while already under the influence of alcohol.\\\\n\\\\nIn conclusion, based on the provided context, Disulfiram Tablets should only be administered orally and specific precautions should be taken before administering it to avoid alcohol intoxication and ensure patient knowledge and consent.\"]],[\"reference_answer\",[\"Disulfiram is contraindicated when used alone, without proper motivation and supportive therapy, in the chronic alcoholic who lacks the desire to remain sober.\",\"Disulfiram should be used with extreme caution in patients with any of the following conditions: diabetes mellitus, hypothyroidism, epilepsy, cerebral damage, chronic and acute nephritis, hepatic cirrhosis or insufficiency.\",\"Disulfiram Tablets are intended for oral administration.\"]],[\"id\",[2,4,0]],[\"content\",[\"Disulfiram is absorbed slowly from the gastrointestinal tract and is eliminated slowly from the body. One (or even two) weeks after a patient has taken his last dose of disulfiram, ingestion of alcohol may produce unpleasant symptoms.\\\\n\\\\nProlonged administration of disulfiram does not produce tolerance; the longer a patient remains on therapy, the more exquisitely sensitive he becomes to alcohol.\\\\n\\\\nINDICATIONS AND USAGE\\\\n\\\\nDisulfiram is an aid in the management of selected chronic alcohol patients wh...\",\"The patient must be fully informed of the disulfiram-alcohol reaction. He must be strongly cautioned against surreptitious drinking while taking the drug, and he must be fully aware of the possible consequences. He should be warned to avoid alcohol in disguised forms, i.e., in sauces, vinegars, cough mixtures, and even in aftershave lotions and back rubs. He should also be warned that reactions may occur with alcohol up to 14 days after ingesting disulfiram.\\\\n\\\\nThe Disulfiram-Alcohol Reaction\",\"DISULFIRAM- disulfiram tablet Alvogen Inc.\\\\n\\\\n----------\\\\n\\\\nDisulfiram Tablets, USP IN ALCOHOLISM\\\\n\\\\nRx only\\\\n\\\\nWARNING\\\\n\\\\nDisulfiram should never be administered to a patient when he is in a state of alcohol intoxication, or without his full knowledge. The physician should instruct relatives accordingly.\\\\n\\\\nDESCRIPTION\\\\n\\\\nDisulfiram is an alcohol antagonist drug.\\\\n\\\\nCHEMICAL NAME:\\\\n\\\\nbis(diethylthiocarbamoyl) disulfide.\\\\n\\\\nSTRUCTURAL FORMULA:\\\\n\\\\nDisulfiram occurs as a white to off-white, odorless, and almost tastele...\"]],[\"color\",[\"#ba0e0e\",\"#0a980a\",\"#0a980a\"]]]}}},\"view\":{\"type\":\"object\",\"name\":\"CDSView\",\"id\":\"p1094\",\"attributes\":{\"filter\":{\"type\":\"object\",\"name\":\"AllIndices\",\"id\":\"p1095\"}}},\"glyph\":{\"type\":\"object\",\"name\":\"Scatter\",\"id\":\"p1090\",\"attributes\":{\"x\":{\"type\":\"field\",\"field\":\"x\"},\"y\":{\"type\":\"field\",\"field\":\"y\"},\"size\":{\"type\":\"value\",\"value\":6},\"line_color\":{\"type\":\"field\",\"field\":\"color\"},\"line_width\":{\"type\":\"value\",\"value\":2},\"fill_color\":{\"type\":\"field\",\"field\":\"color\"},\"fill_alpha\":{\"type\":\"value\",\"value\":0.7},\"hatch_color\":{\"type\":\"field\",\"field\":\"color\"},\"hatch_alpha\":{\"type\":\"value\",\"value\":0.7}}},\"nonselection_glyph\":{\"type\":\"object\",\"name\":\"Scatter\",\"id\":\"p1091\",\"attributes\":{\"x\":{\"type\":\"field\",\"field\":\"x\"},\"y\":{\"type\":\"field\",\"field\":\"y\"},\"size\":{\"type\":\"value\",\"value\":6},\"line_color\":{\"type\":\"field\",\"field\":\"color\"},\"line_alpha\":{\"type\":\"value\",\"value\":0.1},\"line_width\":{\"type\":\"value\",\"value\":2},\"fill_color\":{\"type\":\"field\",\"field\":\"color\"},\"fill_alpha\":{\"type\":\"value\",\"value\":0.1},\"hatch_color\":{\"type\":\"field\",\"field\":\"color\"},\"hatch_alpha\":{\"type\":\"value\",\"value\":0.1}}},\"muted_glyph\":{\"type\":\"object\",\"name\":\"Scatter\",\"id\":\"p1092\",\"attributes\":{\"x\":{\"type\":\"field\",\"field\":\"x\"},\"y\":{\"type\":\"field\",\"field\":\"y\"},\"size\":{\"type\":\"value\",\"value\":6},\"line_color\":{\"type\":\"field\",\"field\":\"color\"},\"line_alpha\":{\"type\":\"value\",\"value\":0.2},\"line_width\":{\"type\":\"value\",\"value\":2},\"fill_color\":{\"type\":\"field\",\"field\":\"color\"},\"fill_alpha\":{\"type\":\"value\",\"value\":0.2},\"hatch_color\":{\"type\":\"field\",\"field\":\"color\"},\"hatch_alpha\":{\"type\":\"value\",\"value\":0.2}}}}},{\"type\":\"object\",\"name\":\"GlyphRenderer\",\"id\":\"p1108\",\"attributes\":{\"data_source\":{\"type\":\"object\",\"name\":\"ColumnDataSource\",\"id\":\"p1099\",\"attributes\":{\"selected\":{\"type\":\"object\",\"name\":\"Selection\",\"id\":\"p1100\",\"attributes\":{\"indices\":[],\"line_indices\":[]}},\"selection_policy\":{\"type\":\"object\",\"name\":\"UnionRenderers\",\"id\":\"p1101\"},\"data\":{\"type\":\"map\",\"entries\":[[\"x\",{\"type\":\"ndarray\",\"array\":{\"type\":\"bytes\",\"data\":\"up2mQTkYoUFWcqlBngGhQUCKpkGJc51BzDqbQaR0qUGZtJFBpKyZQZoIn0HfgJNBEi2WQRl7lUEtJqpBOYKwQScQsEEi2axB+YedQa0rpEE=\"},\"shape\":[20],\"dtype\":\"float32\",\"order\":\"little\"}],[\"y\",{\"type\":\"ndarray\",\"array\":{\"type\":\"bytes\",\"data\":\"E0O9wew7xcEM6MzBNjrOwUvxyMFdFb/B/tjGwV/cw8FoxM7BgpDNwbHN1MHDHMjBDJ/VwZ9vv8GZutPB/STOwXn5xcGHn7vBzLq4wfHOtcE=\"},\"shape\":[20],\"dtype\":\"float32\",\"order\":\"little\"}]]}}},\"view\":{\"type\":\"object\",\"name\":\"CDSView\",\"id\":\"p1109\",\"attributes\":{\"filter\":{\"type\":\"object\",\"name\":\"AllIndices\",\"id\":\"p1110\"}}},\"glyph\":{\"type\":\"object\",\"name\":\"Scatter\",\"id\":\"p1105\",\"attributes\":{\"x\":{\"type\":\"field\",\"field\":\"x\"},\"y\":{\"type\":\"field\",\"field\":\"y\"},\"size\":{\"type\":\"value\",\"value\":6},\"line_color\":{\"type\":\"value\",\"value\":\"grey\"},\"line_alpha\":{\"type\":\"value\",\"value\":0.2},\"fill_color\":{\"type\":\"value\",\"value\":\"grey\"},\"fill_alpha\":{\"type\":\"value\",\"value\":0.2},\"hatch_color\":{\"type\":\"value\",\"value\":\"grey\"},\"hatch_alpha\":{\"type\":\"value\",\"value\":0.2}}},\"nonselection_glyph\":{\"type\":\"object\",\"name\":\"Scatter\",\"id\":\"p1106\",\"attributes\":{\"x\":{\"type\":\"field\",\"field\":\"x\"},\"y\":{\"type\":\"field\",\"field\":\"y\"},\"size\":{\"type\":\"value\",\"value\":6},\"line_color\":{\"type\":\"value\",\"value\":\"grey\"},\"line_alpha\":{\"type\":\"value\",\"value\":0.1},\"fill_color\":{\"type\":\"value\",\"value\":\"grey\"},\"fill_alpha\":{\"type\":\"value\",\"value\":0.1},\"hatch_color\":{\"type\":\"value\",\"value\":\"grey\"},\"hatch_alpha\":{\"type\":\"value\",\"value\":0.1}}},\"muted_glyph\":{\"type\":\"object\",\"name\":\"Scatter\",\"id\":\"p1107\",\"attributes\":{\"x\":{\"type\":\"field\",\"field\":\"x\"},\"y\":{\"type\":\"field\",\"field\":\"y\"},\"size\":{\"type\":\"value\",\"value\":6},\"line_color\":{\"type\":\"value\",\"value\":\"grey\"},\"line_alpha\":{\"type\":\"value\",\"value\":0.2},\"fill_color\":{\"type\":\"value\",\"value\":\"grey\"},\"fill_alpha\":{\"type\":\"value\",\"value\":0.2},\"hatch_color\":{\"type\":\"value\",\"value\":\"grey\"},\"hatch_alpha\":{\"type\":\"value\",\"value\":0.2}}}}}],\"toolbar\":{\"type\":\"object\",\"name\":\"Toolbar\",\"id\":\"p1062\",\"attributes\":{\"logo\":\"grey\",\"tools\":[{\"type\":\"object\",\"name\":\"PanTool\",\"id\":\"p1077\"},{\"type\":\"object\",\"name\":\"WheelZoomTool\",\"id\":\"p1078\",\"attributes\":{\"renderers\":\"auto\"}},{\"type\":\"object\",\"name\":\"BoxZoomTool\",\"id\":\"p1079\",\"attributes\":{\"overlay\":{\"type\":\"object\",\"name\":\"BoxAnnotation\",\"id\":\"p1080\",\"attributes\":{\"syncable\":false,\"level\":\"overlay\",\"visible\":false,\"left\":{\"type\":\"number\",\"value\":\"nan\"},\"right\":{\"type\":\"number\",\"value\":\"nan\"},\"top\":{\"type\":\"number\",\"value\":\"nan\"},\"bottom\":{\"type\":\"number\",\"value\":\"nan\"},\"left_units\":\"canvas\",\"right_units\":\"canvas\",\"top_units\":\"canvas\",\"bottom_units\":\"canvas\",\"line_color\":\"black\",\"line_alpha\":1.0,\"line_width\":2,\"line_dash\":[4,4],\"fill_color\":\"lightgrey\",\"fill_alpha\":0.5}}}},{\"type\":\"object\",\"name\":\"ResetTool\",\"id\":\"p1085\"},{\"type\":\"object\",\"name\":\"SaveTool\",\"id\":\"p1086\"},{\"type\":\"object\",\"name\":\"HoverTool\",\"id\":\"p1053\",\"attributes\":{\"renderers\":[{\"id\":\"p1093\"}],\"tooltips\":\"\\\\n    &lt;div style=\\\\\"width:400px;\\\\\"&gt;\\\\n    &lt;b&gt;Document id:&lt;/b&gt; @id &lt;br&gt;\\\\n    &lt;b&gt;Topic:&lt;/b&gt; @topic &lt;br&gt;\\\\n    &lt;b&gt;Question:&lt;/b&gt; @questions &lt;br&gt;\\\\n    &lt;b&gt;agent Answer:&lt;/b&gt; @agent_answer &lt;br&gt;\\\\n    &lt;b&gt;Reference Answer:&lt;/b&gt; @reference_answer &lt;br&gt;\\\\n    &lt;b&gt;Correctness:&lt;/b&gt; @correctness &lt;br&gt;\\\\n    &lt;b&gt;Content:&lt;/b&gt; @content\\\\n    &lt;/div&gt;\\\\n    \"}}]}},\"left\":[{\"type\":\"object\",\"name\":\"LinearAxis\",\"id\":\"p1072\",\"attributes\":{\"ticker\":{\"type\":\"object\",\"name\":\"BasicTicker\",\"id\":\"p1073\",\"attributes\":{\"mantissas\":[1,2,5]}},\"formatter\":{\"type\":\"object\",\"name\":\"BasicTickFormatter\",\"id\":\"p1074\"},\"axis_label_standoff\":10,\"axis_label_text_color\":\"#E0E0E0\",\"axis_label_text_font\":\"Helvetica\",\"axis_label_text_font_size\":\"1.25em\",\"axis_label_text_font_style\":\"normal\",\"major_label_policy\":{\"type\":\"object\",\"name\":\"AllLabels\",\"id\":\"p1075\"},\"major_label_text_color\":\"#E0E0E0\",\"major_label_text_font\":\"Helvetica\",\"major_label_text_font_size\":\"1.025em\",\"axis_line_color\":\"#E0E0E0\",\"axis_line_alpha\":0,\"major_tick_line_color\":\"#E0E0E0\",\"major_tick_line_alpha\":0,\"minor_tick_line_color\":\"#E0E0E0\",\"minor_tick_line_alpha\":0}}],\"below\":[{\"type\":\"object\",\"name\":\"LinearAxis\",\"id\":\"p1067\",\"attributes\":{\"ticker\":{\"type\":\"object\",\"name\":\"BasicTicker\",\"id\":\"p1068\",\"attributes\":{\"mantissas\":[1,2,5]}},\"formatter\":{\"type\":\"object\",\"name\":\"BasicTickFormatter\",\"id\":\"p1069\"},\"axis_label_standoff\":10,\"axis_label_text_color\":\"#E0E0E0\",\"axis_label_text_font\":\"Helvetica\",\"axis_label_text_font_size\":\"1.25em\",\"axis_label_text_font_style\":\"normal\",\"major_label_policy\":{\"type\":\"object\",\"name\":\"AllLabels\",\"id\":\"p1070\"},\"major_label_text_color\":\"#E0E0E0\",\"major_label_text_font\":\"Helvetica\",\"major_label_text_font_size\":\"1.025em\",\"axis_line_color\":\"#E0E0E0\",\"axis_line_alpha\":0,\"major_tick_line_color\":\"#E0E0E0\",\"major_tick_line_alpha\":0,\"minor_tick_line_color\":\"#E0E0E0\",\"minor_tick_line_alpha\":0}}],\"center\":[{\"type\":\"object\",\"name\":\"Grid\",\"id\":\"p1071\",\"attributes\":{\"axis\":{\"id\":\"p1067\"},\"grid_line_color\":\"white\",\"grid_line_alpha\":0.25}},{\"type\":\"object\",\"name\":\"Grid\",\"id\":\"p1076\",\"attributes\":{\"dimension\":1,\"axis\":{\"id\":\"p1072\"},\"grid_line_color\":\"white\",\"grid_line_alpha\":0.25}},{\"type\":\"object\",\"name\":\"Legend\",\"id\":\"p1096\",\"attributes\":{\"title\":\"Question Correctness\",\"title_text_color\":\"#B1B1B1\",\"title_text_font_style\":\"bold\",\"border_line_alpha\":0,\"background_fill_color\":\"#111516\",\"background_fill_alpha\":0.5,\"label_text_color\":\"#E0E0E0\",\"label_text_font\":\"Helvetica\",\"label_text_font_size\":\"1.025em\",\"label_standoff\":8,\"glyph_width\":15,\"spacing\":8,\"items\":[{\"type\":\"object\",\"name\":\"LegendItem\",\"id\":\"p1097\",\"attributes\":{\"label\":{\"type\":\"value\",\"value\":\"False\"},\"renderers\":[{\"id\":\"p1093\"}],\"index\":0}},{\"type\":\"object\",\"name\":\"LegendItem\",\"id\":\"p1098\",\"attributes\":{\"label\":{\"type\":\"value\",\"value\":\"True\"},\"renderers\":[{\"id\":\"p1093\"}],\"index\":1}}]}}],\"background_fill_color\":\"#14191B\",\"border_fill_color\":\"#15191C\"}}}}],\"tabs_location\":\"below\"}}]}}';\n",
       "        const render_items = [{\"docid\":\"c1309a3f-3fae-42b8-a7db-e03f2aedbc2d\",\"roots\":{\"p1112\":\"c077af6c-c22e-479d-a43a-8615102a2392\"},\"root_ids\":[\"p1112\"]}];\n",
       "        root.Bokeh.embed.embed_items(docs_json, render_items);\n",
       "        }\n",
       "        if (root.Bokeh !== undefined) {\n",
       "          embed_document(root);\n",
       "        } else {\n",
       "          let attempts = 0;\n",
       "          const timer = setInterval(function(root) {\n",
       "            if (root.Bokeh !== undefined) {\n",
       "              clearInterval(timer);\n",
       "              embed_document(root);\n",
       "            } else {\n",
       "              attempts++;\n",
       "              if (attempts > 100) {\n",
       "                clearInterval(timer);\n",
       "                console.log(\"Bokeh: ERROR: Unable to run BokehJS code because BokehJS library is missing\");\n",
       "              }\n",
       "            }\n",
       "          }, 10, root)\n",
       "        }\n",
       "      })(window);\n",
       "    });\n",
       "  };\n",
       "  if (document.readyState != \"loading\") fn();\n",
       "  else document.addEventListener(\"DOMContentLoaded\", fn);\n",
       "})();\n",
       "    </script>\n",
       "\n",
       "                <div id=\"c077af6c-c22e-479d-a43a-8615102a2392\" data-root-id=\"p1112\" style=\"display: contents;\"></div>\n",
       "            </div>\n",
       "        </div>\n",
       "\n",
       "        <div class=\"section-container\">\n",
       "            <div class=\"section-card\">\n",
       "\n",
       "                <div class=\"section-title\">SELECTED METRICS</div>\n",
       "\n",
       "                \n",
       "\n",
       "            </div>\n",
       "        </div>\n",
       "\n",
       "        \n",
       "    </div>\n",
       "</div>\n",
       "\n",
       "\n",
       "\n",
       "<script type=\"text/javascript\">\n",
       "    function opentab(evt, name) {\n",
       "    // Declare all variables\n",
       "    let i, tabcontent, tablinks;\n",
       "\n",
       "    // Get all elements with class=\"tabcontent\" and hide them\n",
       "    tabcontent = document.getElementsByClassName(\"tabcontent\");\n",
       "    for (i = 0; i < tabcontent.length; i++) {\n",
       "        tabcontent[i].style.display = \"none\";\n",
       "    }\n",
       "\n",
       "    // Get all elements with class=\"tablinks\" and remove the class \"active\"\n",
       "    tablinks = document.getElementsByClassName(\"tablinks\");\n",
       "    for (i = 0; i < tablinks.length; i++) {\n",
       "        tablinks[i].className = tablinks[i].className.replace(\" active\", \"\");\n",
       "    }\n",
       "\n",
       "    // Show the current tab, and add an \"active\" class to the button that opened the tab\n",
       "    document.getElementById(name).style.display = \"block\";\n",
       "    evt.currentTarget.className += \" active\";\n",
       "}\n",
       "</script>\n"
      ],
      "text/plain": [
       "<giskard.rag.report.RAGReport at 0x1bb40f6dc90>"
      ]
     },
     "metadata": {},
     "output_type": "display_data"
    }
   ],
   "source": [
    "display(report)"
   ]
  },
  {
   "cell_type": "code",
   "execution_count": 19,
   "id": "79f12157",
   "metadata": {},
   "outputs": [
    {
     "data": {
      "text/html": [
       "<div>\n",
       "<style scoped>\n",
       "    .dataframe tbody tr th:only-of-type {\n",
       "        vertical-align: middle;\n",
       "    }\n",
       "\n",
       "    .dataframe tbody tr th {\n",
       "        vertical-align: top;\n",
       "    }\n",
       "\n",
       "    .dataframe thead th {\n",
       "        text-align: right;\n",
       "    }\n",
       "</style>\n",
       "<table border=\"1\" class=\"dataframe\">\n",
       "  <thead>\n",
       "    <tr style=\"text-align: right;\">\n",
       "      <th></th>\n",
       "      <th>correctness</th>\n",
       "    </tr>\n",
       "    <tr>\n",
       "      <th>question_type</th>\n",
       "      <th></th>\n",
       "    </tr>\n",
       "  </thead>\n",
       "  <tbody>\n",
       "    <tr>\n",
       "      <th>complex</th>\n",
       "      <td>1.0</td>\n",
       "    </tr>\n",
       "    <tr>\n",
       "      <th>distracting element</th>\n",
       "      <td>1.0</td>\n",
       "    </tr>\n",
       "    <tr>\n",
       "      <th>simple</th>\n",
       "      <td>0.0</td>\n",
       "    </tr>\n",
       "  </tbody>\n",
       "</table>\n",
       "</div>"
      ],
      "text/plain": [
       "                     correctness\n",
       "question_type                   \n",
       "complex                      1.0\n",
       "distracting element          1.0\n",
       "simple                       0.0"
      ]
     },
     "execution_count": 19,
     "metadata": {},
     "output_type": "execute_result"
    }
   ],
   "source": [
    "report.correctness_by_question_type()"
   ]
  },
  {
   "cell_type": "code",
   "execution_count": 20,
   "id": "c15d90bf",
   "metadata": {},
   "outputs": [
    {
     "data": {
      "text/html": [
       "<div>\n",
       "<style scoped>\n",
       "    .dataframe tbody tr th:only-of-type {\n",
       "        vertical-align: middle;\n",
       "    }\n",
       "\n",
       "    .dataframe tbody tr th {\n",
       "        vertical-align: top;\n",
       "    }\n",
       "\n",
       "    .dataframe thead th {\n",
       "        text-align: right;\n",
       "    }\n",
       "</style>\n",
       "<table border=\"1\" class=\"dataframe\">\n",
       "  <thead>\n",
       "    <tr style=\"text-align: right;\">\n",
       "      <th></th>\n",
       "      <th>question</th>\n",
       "      <th>reference_answer</th>\n",
       "      <th>reference_context</th>\n",
       "      <th>conversation_history</th>\n",
       "      <th>metadata</th>\n",
       "      <th>agent_answer</th>\n",
       "      <th>correctness</th>\n",
       "      <th>correctness_reason</th>\n",
       "    </tr>\n",
       "    <tr>\n",
       "      <th>id</th>\n",
       "      <th></th>\n",
       "      <th></th>\n",
       "      <th></th>\n",
       "      <th></th>\n",
       "      <th></th>\n",
       "      <th></th>\n",
       "      <th></th>\n",
       "      <th></th>\n",
       "    </tr>\n",
       "  </thead>\n",
       "  <tbody>\n",
       "    <tr>\n",
       "      <th>aaa3bd93-8110-47e9-b186-b2db1ea2434d</th>\n",
       "      <td>For which patient group is Disulfiram not reco...</td>\n",
       "      <td>Disulfiram is contraindicated when used alone,...</td>\n",
       "      <td>Document 2: Disulfiram is absorbed slowly from...</td>\n",
       "      <td>[]</td>\n",
       "      <td>{'question_type': 'simple', 'seed_document_id'...</td>\n",
       "      <td>Based on the context provided, Disulfiram is n...</td>\n",
       "      <td>False</td>\n",
       "      <td>The agent provided an answer based on a specif...</td>\n",
       "    </tr>\n",
       "  </tbody>\n",
       "</table>\n",
       "</div>"
      ],
      "text/plain": [
       "                                                                               question  \\\n",
       "id                                                                                        \n",
       "aaa3bd93-8110-47e9-b186-b2db1ea2434d  For which patient group is Disulfiram not reco...   \n",
       "\n",
       "                                                                       reference_answer  \\\n",
       "id                                                                                        \n",
       "aaa3bd93-8110-47e9-b186-b2db1ea2434d  Disulfiram is contraindicated when used alone,...   \n",
       "\n",
       "                                                                      reference_context  \\\n",
       "id                                                                                        \n",
       "aaa3bd93-8110-47e9-b186-b2db1ea2434d  Document 2: Disulfiram is absorbed slowly from...   \n",
       "\n",
       "                                     conversation_history  \\\n",
       "id                                                          \n",
       "aaa3bd93-8110-47e9-b186-b2db1ea2434d                   []   \n",
       "\n",
       "                                                                               metadata  \\\n",
       "id                                                                                        \n",
       "aaa3bd93-8110-47e9-b186-b2db1ea2434d  {'question_type': 'simple', 'seed_document_id'...   \n",
       "\n",
       "                                                                           agent_answer  \\\n",
       "id                                                                                        \n",
       "aaa3bd93-8110-47e9-b186-b2db1ea2434d  Based on the context provided, Disulfiram is n...   \n",
       "\n",
       "                                      correctness  \\\n",
       "id                                                  \n",
       "aaa3bd93-8110-47e9-b186-b2db1ea2434d        False   \n",
       "\n",
       "                                                                     correctness_reason  \n",
       "id                                                                                       \n",
       "aaa3bd93-8110-47e9-b186-b2db1ea2434d  The agent provided an answer based on a specif...  "
      ]
     },
     "execution_count": 20,
     "metadata": {},
     "output_type": "execute_result"
    }
   ],
   "source": [
    "report.get_failures()"
   ]
  }
 ],
 "metadata": {
  "kernelspec": {
   "display_name": "venv",
   "language": "python",
   "name": "python3"
  },
  "language_info": {
   "codemirror_mode": {
    "name": "ipython",
    "version": 3
   },
   "file_extension": ".py",
   "mimetype": "text/x-python",
   "name": "python",
   "nbconvert_exporter": "python",
   "pygments_lexer": "ipython3",
   "version": "3.10.10"
  }
 },
 "nbformat": 4,
 "nbformat_minor": 5
}
