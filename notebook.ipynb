{
  "cells": [
    {
      "cell_type": "code",
      "execution_count": 1,
      "metadata": {},
      "outputs": [],
      "source": [
        "from dotenv import load_dotenv\n",
        "\n",
        "MODEL = \"llama2\""
      ]
    },
    {
      "cell_type": "code",
      "execution_count": 3,
      "metadata": {},
      "outputs": [],
      "source": [
        "from langchain_ollama import OllamaLLM,OllamaEmbeddings \n",
        "model = OllamaLLM(model=MODEL)\n",
        "model.invoke(\"Tell me a joke\")\n",
        "embaddings = OllamaEmbeddings(model=MODEL)"
      ]
    },
    {
      "cell_type": "code",
      "execution_count": 4,
      "metadata": {},
      "outputs": [
        {
          "data": {
            "text/plain": [
              "\"Sure, here's one:\\n\\nWhy don't scientists trust atoms?\\nBecause they make up everything!\\n\\nI hope that made you smile!\""
            ]
          },
          "execution_count": 4,
          "metadata": {},
          "output_type": "execute_result"
        }
      ],
      "source": [
        "from langchain_core.output_parsers import StrOutputParser\n",
        "\n",
        "parser = StrOutputParser()\n",
        "\n",
        "chain = model | parser\n",
        "chain.invoke(\"Tell me a joke\")"
      ]
    },
    {
      "cell_type": "code",
      "execution_count": 5,
      "metadata": {},
      "outputs": [
        {
          "data": {
            "text/plain": [
              "[Document(metadata={'producer': 'www.adlibsoftware.com: CTP (5.10.0.7216) OS (Windows 2012,2,0,64)', 'creator': 'Microsoft Word(12.0)', 'creationdate': '2016-09-19T17:38:26-04:00', 'author': 'mazuren', 'moddate': '2021-09-29T13:31:53+05:30', 'r_object_id': '090177e189b0de81', 'source': 'ADVIL.pdf', 'total_pages': 3, 'page': 0, 'page_label': '1'}, page_content='Advil Tablets\\nIbuprofen Tablets, 200 mg\\nThis is the most current labeling information and may differ from labels on product packaging. If there are any \\ndifferences between this website labeling and product packaging labeling, this website labeling should be regarded \\nas the most current.\\nLBL-00000027 (Version 38.0) Page 1 of 3\\nDrug Facts\\nActive ingredient (in each tablet)                                           Purpose\\nIbuprofen 200 mg (NSAID)*   ………………………………….Pain reliever/Fever reducer\\n*nonsteroidal anti-inflammatory drug\\nUses\\n\\uf06e temporarily relieves minor aches and pains due to:\\n\\uf06e headache \\n\\uf06e toothache\\n\\uf06e backache\\n\\uf06e menstrual cramps\\n\\uf06e the common cold\\n\\uf06e muscular aches\\n\\uf06e minor pain of arthritis\\n\\uf06e temporarily reduces fever\\nWarnings\\nAllergy alert: Ibuprofen may cause a severe allergic reaction, especially in people \\nallergic to aspirin. Symptoms may include:\\n\\uf0a7 hives\\n\\uf06e facial swelling\\n\\uf06e asthma (wheezing)\\n\\uf06e shock\\n\\uf06e skin reddening  \\n\\uf06e rash  \\n\\uf06e blisters \\nIf an allergic reaction occurs, stop use and seek medical help right away.\\nStomach bleeding warning: This product contains an NSAID, which may cause \\nsevere stomach bleeding. The chance is higher if you\\n\\uf06e are age 60 or older  \\n\\uf06e have had stomach ulcers or bleeding problems\\n\\uf06e take a blood thinning (anticoagulant) or steroid drug\\n\\uf06e take other drugs containing prescription or nonprescription NSAIDs [aspirin, \\nibuprofen, naproxen, or others]\\n\\uf06e have 3 or more alcoholic drinks every day while using this product\\n\\uf06e take more or for a longer time than directed\\nHeart attack and stroke warning: NSAIDs, except aspirin, increase the risk of heart \\nattack, heart failure, and stroke. These can be fatal. The risk is higher if you use more \\nthan directed or for longer than directed.'),\n",
              " Document(metadata={'producer': 'www.adlibsoftware.com: CTP (5.10.0.7216) OS (Windows 2012,2,0,64)', 'creator': 'Microsoft Word(12.0)', 'creationdate': '2016-09-19T17:38:26-04:00', 'author': 'mazuren', 'moddate': '2021-09-29T13:31:53+05:30', 'r_object_id': '090177e189b0de81', 'source': 'ADVIL.pdf', 'total_pages': 3, 'page': 1, 'page_label': '2'}, page_content='Advil Tablets\\nIbuprofen Tablets, 200 mg\\nThis is the most current labeling information and may differ from labels on product packaging. If there are any \\ndifferences between this website labeling and product packaging labeling, this website labeling should be regarded \\nas the most current.\\nLBL-00000027 (Version 38.0) Page 2 of 3\\nDo not use\\n\\uf06e if you have ever had an allergic reaction to any other pain reliever/fever reducer\\n\\uf06e right before or after heart surgery\\nAsk a doctor before use if \\n\\uf06e stomach bleeding warning applies to you\\n\\uf06e you have problems or serious side effects from taking pain relievers or fever \\nreducers\\n\\uf06e you have a history of stomach problems, such as heartburn\\n\\uf06e you have high blood pressure, heart disease, liver cirrhosis, kidney disease, asthma, \\nor had a stroke\\n\\uf06e you are taking a diuretic\\nAsk a doctor or pharmacist before use if you are\\n\\uf06e under a doctor’s care for any serious condition\\n\\uf06e taking aspirin for heart attack or stroke, because ibuprofen may decrease this benefit \\nof aspirin\\n\\uf06e taking any other drug\\nWhen using this product\\n\\uf06e take with food or milk if stomach upset occurs\\nStop use and ask a doctor if\\n\\uf06e you experience any of the following signs of stomach bleeding:\\n\\uf06e feel faint \\n\\uf06e vomit blood\\n\\uf06e have bloody or black stools\\n\\uf06e have stomach pain that does not get better\\n\\uf06e you have symptoms of heart problems or stroke\\n\\uf06e   chest pain\\n\\uf06e   trouble breathing\\n\\uf06e   weakness in one part or side of body\\n\\uf06e   slurred speech\\n\\uf06e   leg swelling\\n\\uf06e pain gets worse or lasts more than 10 days\\n\\uf06e fever gets worse or lasts more than 3 days\\n\\uf06e redness or swelling is present in the painful area\\n\\uf06e any new symptoms appear'),\n",
              " Document(metadata={'producer': 'www.adlibsoftware.com: CTP (5.10.0.7216) OS (Windows 2012,2,0,64)', 'creator': 'Microsoft Word(12.0)', 'creationdate': '2016-09-19T17:38:26-04:00', 'author': 'mazuren', 'moddate': '2021-09-29T13:31:53+05:30', 'r_object_id': '090177e189b0de81', 'source': 'ADVIL.pdf', 'total_pages': 3, 'page': 2, 'page_label': '3'}, page_content='Advil Tablets\\nIbuprofen Tablets, 200 mg\\nThis is the most current labeling information and may differ from labels on product packaging. If there are any \\ndifferences between this website labeling and product packaging labeling, this website labeling should be regarded \\nas the most current.\\nLBL-00000027 (Version 38.0) Page 3 of 3\\nIf pregnant or breast-feeding, ask a health professional before use. It is especially \\nimportant not to use ibuprofen at 20 weeks or later in pregnancy unless definitely \\ndirected to do so by a doctor because it may cause problems in the unborn child or \\ncomplications during delivery.\\nKeep out of reach of children.  In case of overdose, get medical help or contact a \\nPoison Control Center right away.\\nDirections\\n\\uf06e do not take more than directed\\n\\uf06e the smallest effective dose should be used\\n\\uf06e adults and children 12 years and over: take 1 tablet every 4 to 6 hours while\\nsymptoms persist\\n\\uf06e if pain or fever does not respond to 1 tablet, 2 tablets may be used\\n\\uf06e do not exceed 6 tablets in 24 hours, unless directed by a doctor\\n\\uf06e children under 12 years: ask a doctor\\nOther information\\n\\uf06e read all warnings and directions before use. Keep carton.\\n\\uf06e store at 20-25°C (68-77°F)\\n\\uf06e avoid excessive heat above 40°C (104°F)\\nInactive ingredients\\nacetylated monoglycerides, colloidal silicon dioxide, corn starch, croscarmellose \\nsodium,  methylparaben, microcrystalline cellulose, pharmaceutical glaze, \\npharmaceutical ink, povidone, pregelatinized starch, propylparaben, sodium benzoate, \\nsodium lauryl sulfate, stearic acid, sucrose, synthetic iron oxide, titanium dioxide, white \\nwax\\nQuestions or comments? call toll free 1-800-88-ADVIL')]"
            ]
          },
          "execution_count": 5,
          "metadata": {},
          "output_type": "execute_result"
        }
      ],
      "source": [
        "from langchain_community.document_loaders import PyPDFLoader\n",
        "\n",
        "loader = PyPDFLoader(\"ADVIL.pdf\")\n",
        "pages = loader.load_and_split()\n",
        "pages"
      ]
    },
    {
      "cell_type": "code",
      "execution_count": 6,
      "metadata": {},
      "outputs": [
        {
          "name": "stdout",
          "output_type": "stream",
          "text": [
            "\n",
            "        Answer the question based on the context below. If you can't\n",
            "        answer the question, reply \"I don't know\".\n",
            "\n",
            "        Context: Here is some context\n",
            "\n",
            "        Question: Here is a question\n",
            "\n"
          ]
        }
      ],
      "source": [
        "from langchain.prompts import PromptTemplate\n",
        "\n",
        "template = \"\"\"\n",
        "        Answer the question based on the context below. If you can't\n",
        "        answer the question, reply \"I don't know\".\n",
        "\n",
        "        Context: {context}\n",
        "\n",
        "        Question: {question}\n",
        "\"\"\"\n",
        "\n",
        "prompt = PromptTemplate.from_template(template)\n",
        "print(prompt.format(context=\"Here is some context\", question=\"Here is a question\"))"
      ]
    },
    {
      "cell_type": "code",
      "execution_count": 7,
      "metadata": {},
      "outputs": [],
      "source": [
        "chain = prompt | model | parser "
      ]
    },
    {
      "cell_type": "code",
      "execution_count": 8,
      "metadata": {},
      "outputs": [
        {
          "data": {
            "text/plain": [
              "{'properties': {'context': {'title': 'Context', 'type': 'string'},\n",
              "  'question': {'title': 'Question', 'type': 'string'}},\n",
              " 'required': ['context', 'question'],\n",
              " 'title': 'PromptInput',\n",
              " 'type': 'object'}"
            ]
          },
          "execution_count": 8,
          "metadata": {},
          "output_type": "execute_result"
        }
      ],
      "source": [
        "chain.input_schema.model_json_schema()"
      ]
    },
    {
      "cell_type": "code",
      "execution_count": 8,
      "metadata": {},
      "outputs": [
        {
          "data": {
            "text/plain": [
              "' Hello Denisa! Your name is Denisa.'"
            ]
          },
          "execution_count": 8,
          "metadata": {},
          "output_type": "execute_result"
        }
      ],
      "source": [
        "chain.invoke(\n",
        "    {\n",
        "        \"context\": \"The name I was given was Denisa\",\n",
        "        \"question\": \"What's my name?\"\n",
        "    }\n",
        ")"
      ]
    },
    {
      "cell_type": "code",
      "execution_count": 9,
      "metadata": {},
      "outputs": [
        {
          "name": "stderr",
          "output_type": "stream",
          "text": [
            "c:\\Users\\dunca\\OneDrive\\Desktop\\Disertation\\LLM\\.venv\\Lib\\site-packages\\pydantic\\_migration.py:283: UserWarning: `pydantic.error_wrappers:ValidationError` has been moved to `pydantic:ValidationError`.\n",
            "  warnings.warn(f'`{import_path}` has been moved to `{new_location}`.')\n"
          ]
        }
      ],
      "source": [
        "from langchain_community.vectorstores import DocArrayInMemorySearch\n",
        "\n",
        "vectorstore = DocArrayInMemorySearch.from_documents(pages, embedding=embaddings)"
      ]
    },
    {
      "cell_type": "code",
      "execution_count": 10,
      "metadata": {},
      "outputs": [
        {
          "data": {
            "text/plain": [
              "[Document(metadata={'source': 'ADVIL.pdf', 'page': 2}, page_content='Advil Tablets\\nIbuprofen Tablets, 200 mg\\nThis is the most current labeling information and may differ from labels on product packaging. If there are any \\ndifferences between this website labeling and product packaging labeling, this website labeling should be regarded \\nas the most current.\\nLBL-00000027 (Version 38.0) Page 3 of 3\\nIf pregnant or breast-feeding, ask a health professional before use. It is especially \\nimportant not to use ibuprofen at 20 weeks or later in pregnancy unless definitely \\ndirected to do so by a doctor because it may cause problems in the unborn child or \\ncomplications during delivery.\\nKeep out of reach of children.  In case of overdose, get medical help or contact a \\nPoison Control Center right away.\\nDirections\\n\\uf06e do not take more than directed\\n\\uf06e the smallest effective dose should be used\\n\\uf06e adults and children 12 years and over: take 1 tablet every 4 to 6 hours while\\nsymptoms persist\\n\\uf06e if pain or fever does not respond to 1 tablet, 2 tablets may be used\\n\\uf06e do not exceed 6 tablets in 24 hours, unless directed by a doctor\\n\\uf06e children under 12 years: ask a doctor\\nOther information\\n\\uf06e read all warnings and directions before use. Keep carton.\\n\\uf06e store at 20-25°C (68-77°F)\\n\\uf06e avoid excessive heat above 40°C (104°F)\\nInactive ingredients\\nacetylated monoglycerides, colloidal silicon dioxide, corn starch, croscarmellose \\nsodium,  methylparaben, microcrystalline cellulose, pharmaceutical glaze, \\npharmaceutical ink, povidone, pregelatinized starch, propylparaben, sodium benzoate, \\nsodium lauryl sulfate, stearic acid, sucrose, synthetic iron oxide, titanium dioxide, white \\nwax\\nQuestions or comments? call toll free 1-800-88-ADVIL'),\n",
              " Document(metadata={'source': 'ADVIL.pdf', 'page': 0}, page_content='Advil Tablets\\nIbuprofen Tablets, 200 mg\\nThis is the most current labeling information and may differ from labels on product packaging. If there are any \\ndifferences between this website labeling and product packaging labeling, this website labeling should be regarded \\nas the most current.\\nLBL-00000027 (Version 38.0) Page 1 of 3\\nDrug Facts\\nActive ingredient (in each tablet)                                           Purpose\\nIbuprofen 200 mg (NSAID)*   ………………………………….Pain reliever/Fever reducer\\n*nonsteroidal anti-inflammatory drug\\nUses\\n\\uf06e temporarily relieves minor aches and pains due to:\\n\\uf06e headache \\n\\uf06e toothache\\n\\uf06e backache\\n\\uf06e menstrual cramps\\n\\uf06e the common cold\\n\\uf06e muscular aches\\n\\uf06e minor pain of arthritis\\n\\uf06e temporarily reduces fever\\nWarnings\\nAllergy alert: Ibuprofen may cause a severe allergic reaction, especially in people \\nallergic to aspirin. Symptoms may include:\\n\\uf0a7 hives\\n\\uf06e facial swelling\\n\\uf06e asthma (wheezing)\\n\\uf06e shock\\n\\uf06e skin reddening  \\n\\uf06e rash  \\n\\uf06e blisters \\nIf an allergic reaction occurs, stop use and seek medical help right away.\\nStomach bleeding warning: This product contains an NSAID, which may cause \\nsevere stomach bleeding. The chance is higher if you\\n\\uf06e are age 60 or older  \\n\\uf06e have had stomach ulcers or bleeding problems\\n\\uf06e take a blood thinning (anticoagulant) or steroid drug\\n\\uf06e take other drugs containing prescription or nonprescription NSAIDs [aspirin, \\nibuprofen, naproxen, or others]\\n\\uf06e have 3 or more alcoholic drinks every day while using this product\\n\\uf06e take more or for a longer time than directed\\nHeart attack and stroke warning: NSAIDs, except aspirin, increase the risk of heart \\nattack, heart failure, and stroke. These can be fatal. The risk is higher if you use more \\nthan directed or for longer than directed.'),\n",
              " Document(metadata={'source': 'ADVIL.pdf', 'page': 1}, page_content='Advil Tablets\\nIbuprofen Tablets, 200 mg\\nThis is the most current labeling information and may differ from labels on product packaging. If there are any \\ndifferences between this website labeling and product packaging labeling, this website labeling should be regarded \\nas the most current.\\nLBL-00000027 (Version 38.0) Page 2 of 3\\nDo not use\\n\\uf06e if you have ever had an allergic reaction to any other pain reliever/fever reducer\\n\\uf06e right before or after heart surgery\\nAsk a doctor before use if \\n\\uf06e stomach bleeding warning applies to you\\n\\uf06e you have problems or serious side effects from taking pain relievers or fever \\nreducers\\n\\uf06e you have a history of stomach problems, such as heartburn\\n\\uf06e you have high blood pressure, heart disease, liver cirrhosis, kidney disease, asthma, \\nor had a stroke\\n\\uf06e you are taking a diuretic\\nAsk a doctor or pharmacist before use if you are\\n\\uf06e under a doctor’s care for any serious condition\\n\\uf06e taking aspirin for heart attack or stroke, because ibuprofen may decrease this benefit \\nof aspirin\\n\\uf06e taking any other drug\\nWhen using this product\\n\\uf06e take with food or milk if stomach upset occurs\\nStop use and ask a doctor if\\n\\uf06e you experience any of the following signs of stomach bleeding:\\n\\uf06e feel faint \\n\\uf06e vomit blood\\n\\uf06e have bloody or black stools\\n\\uf06e have stomach pain that does not get better\\n\\uf06e you have symptoms of heart problems or stroke\\n\\uf06e   chest pain\\n\\uf06e   trouble breathing\\n\\uf06e   weakness in one part or side of body\\n\\uf06e   slurred speech\\n\\uf06e   leg swelling\\n\\uf06e pain gets worse or lasts more than 10 days\\n\\uf06e fever gets worse or lasts more than 3 days\\n\\uf06e redness or swelling is present in the painful area\\n\\uf06e any new symptoms appear')]"
            ]
          },
          "execution_count": 10,
          "metadata": {},
          "output_type": "execute_result"
        }
      ],
      "source": [
        "retriever = vectorstore.as_retriever()\n",
        "\n",
        "retriever.invoke(\"ADVIL\")"
      ]
    },
    {
      "cell_type": "code",
      "execution_count": 11,
      "metadata": {},
      "outputs": [
        {
          "data": {
            "text/plain": [
              "' Based on the context provided, Advil appears to be a brand name for a medication containing ibuprofen, which is a nonsteroidal anti-inflammatory drug (NSAID). The medication is used to temporarily relieve minor aches and pains, such as headache, toothache, backache, menstrual cramps, the common cold, muscular pain, and fever. It is important to follow the dosage instructions and precautions provided in the labeling information to avoid potential side effects or complications.'"
            ]
          },
          "execution_count": 11,
          "metadata": {},
          "output_type": "execute_result"
        }
      ],
      "source": [
        "from operator import itemgetter\n",
        "\n",
        "chain =(\n",
        "\n",
        "{\n",
        "    \"context\": itemgetter(\"question\") | retriever,\n",
        "    \"question\": itemgetter(\"question\")\n",
        "} |\n",
        "\n",
        "prompt | model | parser )\n",
        "\n",
        "chain.invoke({\n",
        "    \"question\":\"What is advil?\"\n",
        "})"
      ]
    },
    {
      "cell_type": "code",
      "execution_count": 12,
      "metadata": {},
      "outputs": [],
      "source": [
        "questions = [\n",
        "    \"Can children under 12 years take advil?\"\n",
        "]"
      ]
    },
    {
      "cell_type": "code",
      "execution_count": 13,
      "metadata": {},
      "outputs": [
        {
          "name": "stdout",
          "output_type": "stream",
          "text": [
            "Question: Can children under 12 years take advil?\n",
            "Answer: The answer to your question is: Ask a doctor. According to the labeling information provided, if you are unsure about whether children under 12 years can take Advil, you should \"ask a doctor.\" It is important to consult with a healthcare professional before giving any medication, including Advil, to children under 12 years of age.\n"
          ]
        }
      ],
      "source": [
        "for question in questions:\n",
        "    print(f\"Question: {question}\")\n",
        "    print(f\"Answer: {chain.invoke({'question':question})}\")\n",
        "    print()"
      ]
    }
  ],
  "metadata": {
    "kernelspec": {
      "display_name": "venv",
      "language": "python",
      "name": "python3"
    },
    "language_info": {
      "codemirror_mode": {
        "name": "ipython",
        "version": 3
      },
      "file_extension": ".py",
      "mimetype": "text/x-python",
      "name": "python",
      "nbconvert_exporter": "python",
      "pygments_lexer": "ipython3",
      "version": "3.10.10"
    }
  },
  "nbformat": 4,
  "nbformat_minor": 2
}
